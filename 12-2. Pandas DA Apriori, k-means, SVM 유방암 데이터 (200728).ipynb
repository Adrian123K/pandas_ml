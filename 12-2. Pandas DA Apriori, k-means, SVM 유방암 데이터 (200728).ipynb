{
 "cells": [
  {
   "cell_type": "markdown",
   "metadata": {},
   "source": [
    "### <b>■ 파이썬으로 연관규칙 찾기 (Apriori)</b>\n",
    "    간단한 성능 측정치를 이용해 거대한 db에서 데이터간의 연관성을 찾는 알고리즘\n",
    "    \n",
    "#### 예제: 파이썬으로 연관규칙 구현 : 일반 마트"
   ]
  },
  {
   "cell_type": "code",
   "execution_count": 1,
   "metadata": {
    "ExecuteTime": {
     "end_time": "2020-07-28T07:31:57.144971Z",
     "start_time": "2020-07-28T07:31:50.801880Z"
    },
    "scrolled": true
   },
   "outputs": [
    {
     "name": "stdout",
     "output_type": "stream",
     "text": [
      "   support      itemsets\n",
      "0     0.50          (사과)\n",
      "1     1.00          (생수)\n",
      "2     0.75          (치즈)\n",
      "3     0.50          (호두)\n",
      "4     0.50      (생수, 사과)\n",
      "5     0.75      (생수, 치즈)\n",
      "6     0.50      (호두, 생수)\n",
      "7     0.50      (호두, 치즈)\n",
      "8     0.50  (호두, 생수, 치즈)\n",
      "\n",
      "\n",
      "   antecedents consequents  antecedent support  consequent support  support  \\\n",
      "0         (생수)        (사과)                1.00                0.50     0.50   \n",
      "1         (사과)        (생수)                0.50                1.00     0.50   \n",
      "2         (생수)        (치즈)                1.00                0.75     0.75   \n",
      "3         (치즈)        (생수)                0.75                1.00     0.75   \n",
      "4         (호두)        (생수)                0.50                1.00     0.50   \n",
      "5         (생수)        (호두)                1.00                0.50     0.50   \n",
      "6         (호두)        (치즈)                0.50                0.75     0.50   \n",
      "7         (치즈)        (호두)                0.75                0.50     0.50   \n",
      "8     (호두, 생수)        (치즈)                0.50                0.75     0.50   \n",
      "9     (호두, 치즈)        (생수)                0.50                1.00     0.50   \n",
      "10    (생수, 치즈)        (호두)                0.75                0.50     0.50   \n",
      "11        (호두)    (생수, 치즈)                0.50                0.75     0.50   \n",
      "12        (생수)    (호두, 치즈)                1.00                0.50     0.50   \n",
      "13        (치즈)    (호두, 생수)                0.75                0.50     0.50   \n",
      "\n",
      "    confidence      lift  leverage  conviction  \n",
      "0     0.500000  1.000000     0.000         1.0  \n",
      "1     1.000000  1.000000     0.000         inf  \n",
      "2     0.750000  1.000000     0.000         1.0  \n",
      "3     1.000000  1.000000     0.000         inf  \n",
      "4     1.000000  1.000000     0.000         inf  \n",
      "5     0.500000  1.000000     0.000         1.0  \n",
      "6     1.000000  1.333333     0.125         inf  \n",
      "7     0.666667  1.333333     0.125         1.5  \n",
      "8     1.000000  1.333333     0.125         inf  \n",
      "9     1.000000  1.000000     0.000         inf  \n",
      "10    0.666667  1.333333     0.125         1.5  \n",
      "11    1.000000  1.333333     0.125         inf  \n",
      "12    0.500000  1.000000     0.000         1.0  \n",
      "13    0.666667  1.333333     0.125         1.5  \n"
     ]
    }
   ],
   "source": [
    "import pandas as pd\n",
    "from mlxtend.preprocessing import TransactionEncoder\n",
    "from mlxtend.frequent_patterns import apriori\n",
    "\n",
    "dataset=[['사과','치즈','생수'],['생수','호두','치즈','고등어'],['수박','사과','생수'],['생수','호두','치즈','옥수수']]\n",
    "\n",
    "# Transaction마다 해당 물건을 구입했으면 True 아니면 False\n",
    "te = TransactionEncoder() \n",
    "te_ary = te.fit(dataset).transform(dataset)\n",
    "\n",
    "df = pd.DataFrame(te_ary, columns=te.columns_) #위에서 나온걸 보기 좋게 데이터프레임으로 변경\n",
    "df\n",
    "\n",
    "frequent_itemsets = apriori(df, min_support=0.5, use_colnames=True) \n",
    "# 최소 지지도 0.5 이상인 연관 규칙을 갖는 제품들을 출력\n",
    "# use_colnames=True 물건명 출력\n",
    "print(frequent_itemsets )\n",
    "print('\\n')\n",
    "\n",
    "from mlxtend.frequent_patterns import association_rules\n",
    "print( association_rules(frequent_itemsets, metric=\"confidence\", min_threshold=0.3) ) \n",
    "# 지지도가 0.5 이상인 것을 선별, 그 중 신뢰도가 0.3 이상인 것들만 출력"
   ]
  },
  {
   "cell_type": "markdown",
   "metadata": {},
   "source": [
    "### ※ 문제252. 다음의 데이터셋에 연관 규칙을 찾으시오"
   ]
  },
  {
   "cell_type": "code",
   "execution_count": 2,
   "metadata": {
    "ExecuteTime": {
     "end_time": "2020-07-28T07:32:45.282740Z",
     "start_time": "2020-07-28T07:32:45.244764Z"
    }
   },
   "outputs": [
    {
     "name": "stdout",
     "output_type": "stream",
     "text": [
      "      계란    기저귀     맥주      빵     우유     콜라\n",
      "0  False  False  False   True   True  False\n",
      "1   True   True   True   True  False  False\n",
      "2  False   True   True  False   True   True\n",
      "3  False   True  False   True   True   True\n",
      "\n",
      "\n",
      "    support       itemsets\n",
      "0      0.75          (기저귀)\n",
      "1      0.50           (맥주)\n",
      "2      0.75            (빵)\n",
      "3      0.75           (우유)\n",
      "4      0.50           (콜라)\n",
      "5      0.50      (맥주, 기저귀)\n",
      "6      0.50       (빵, 기저귀)\n",
      "7      0.50      (기저귀, 우유)\n",
      "8      0.50      (기저귀, 콜라)\n",
      "9      0.50        (빵, 우유)\n",
      "10     0.50       (콜라, 우유)\n",
      "11     0.50  (기저귀, 콜라, 우유)\n",
      "\n",
      "\n",
      "   antecedents consequents  antecedent support  consequent support  support  \\\n",
      "0         (맥주)       (기저귀)                0.50                0.75      0.5   \n",
      "1        (기저귀)        (맥주)                0.75                0.50      0.5   \n",
      "2          (빵)       (기저귀)                0.75                0.75      0.5   \n",
      "3        (기저귀)         (빵)                0.75                0.75      0.5   \n",
      "4        (기저귀)        (우유)                0.75                0.75      0.5   \n",
      "5         (우유)       (기저귀)                0.75                0.75      0.5   \n",
      "6        (기저귀)        (콜라)                0.75                0.50      0.5   \n",
      "7         (콜라)       (기저귀)                0.50                0.75      0.5   \n",
      "8          (빵)        (우유)                0.75                0.75      0.5   \n",
      "9         (우유)         (빵)                0.75                0.75      0.5   \n",
      "10        (콜라)        (우유)                0.50                0.75      0.5   \n",
      "11        (우유)        (콜라)                0.75                0.50      0.5   \n",
      "12   (기저귀, 콜라)        (우유)                0.50                0.75      0.5   \n",
      "13   (기저귀, 우유)        (콜라)                0.50                0.50      0.5   \n",
      "14    (우유, 콜라)       (기저귀)                0.50                0.75      0.5   \n",
      "15       (기저귀)    (우유, 콜라)                0.75                0.50      0.5   \n",
      "16        (콜라)   (기저귀, 우유)                0.50                0.50      0.5   \n",
      "17        (우유)   (기저귀, 콜라)                0.75                0.50      0.5   \n",
      "\n",
      "    confidence      lift  leverage  conviction  \n",
      "0     1.000000  1.333333    0.1250         inf  \n",
      "1     0.666667  1.333333    0.1250        1.50  \n",
      "2     0.666667  0.888889   -0.0625        0.75  \n",
      "3     0.666667  0.888889   -0.0625        0.75  \n",
      "4     0.666667  0.888889   -0.0625        0.75  \n",
      "5     0.666667  0.888889   -0.0625        0.75  \n",
      "6     0.666667  1.333333    0.1250        1.50  \n",
      "7     1.000000  1.333333    0.1250         inf  \n",
      "8     0.666667  0.888889   -0.0625        0.75  \n",
      "9     0.666667  0.888889   -0.0625        0.75  \n",
      "10    1.000000  1.333333    0.1250         inf  \n",
      "11    0.666667  1.333333    0.1250        1.50  \n",
      "12    1.000000  1.333333    0.1250         inf  \n",
      "13    1.000000  2.000000    0.2500         inf  \n",
      "14    1.000000  1.333333    0.1250         inf  \n",
      "15    0.666667  1.333333    0.1250        1.50  \n",
      "16    1.000000  2.000000    0.2500         inf  \n",
      "17    0.666667  1.333333    0.1250        1.50  \n"
     ]
    }
   ],
   "source": [
    "import pandas as pd\n",
    "from mlxtend.preprocessing import TransactionEncoder\n",
    "from mlxtend.frequent_patterns import apriori\n",
    "\n",
    "dataset=[['빵','우유'],['맥주','빵','기저귀','계란'],['맥주','콜라','기저귀','우유'],['콜라','빵','기저귀','우유']]\n",
    "\n",
    "te = TransactionEncoder() \n",
    "te_ary = te.fit(dataset).transform(dataset)\n",
    "\n",
    "df = pd.DataFrame(te_ary, columns=te.columns_)\n",
    "print(df)\n",
    "print('\\n')\n",
    "\n",
    "frequent_itemsets = apriori(df, min_support=0.5, use_colnames=True) \n",
    "print(frequent_itemsets )\n",
    "print('\\n')\n",
    "\n",
    "from mlxtend.frequent_patterns import association_rules\n",
    "print( association_rules(frequent_itemsets, metric=\"confidence\", min_threshold=0.3) ) "
   ]
  },
  {
   "cell_type": "markdown",
   "metadata": {},
   "source": [
    "### <b>■ 파이썬으로 k-means 알고리즘 구현하기</b>\n",
    "    머신러닝의 종류 3가지\n",
    "        1. 지도학습\n",
    "            kNN, naiveBayes, Decision Tree, NN, SVM, Regression\n",
    "        2. 비지도학습\n",
    "            Apriori, K-means \n",
    "        3. 강화학습\n",
    "            \n",
    "        k-means 알고리즘은 데이터간의 유사성을 측정하는 기준으로 각 클러스터의 중심까지의 거리를 이용\n",
    "        벡터공간에 위치한 어떤 데이터에 대해서 k개의 클러스터가 주어졌을 때 클러스터 중심까지의 거리가 가장 가까운 클러스터로 해당 데이터를 할당\n",
    "        \n",
    "#### 예제. k-means"
   ]
  },
  {
   "cell_type": "code",
   "execution_count": 3,
   "metadata": {
    "ExecuteTime": {
     "end_time": "2020-07-28T07:33:38.302486Z",
     "start_time": "2020-07-28T07:33:35.269445Z"
    }
   },
   "outputs": [
    {
     "name": "stdout",
     "output_type": "stream",
     "text": [
      "   Channel  Region  Fresh  Milk  Grocery  Frozen  Detergents_Paper  Delicassen\n",
      "0        2       3  12669  9656     7561     214              2674        1338\n",
      "1        2       3   7057  9810     9568    1762              3293        1776\n",
      "2        2       3   6353  8808     7684    2405              3516        7844\n",
      "3        1       3  13265  1196     4221    6404               507        1788\n",
      "4        2       3  22615  5410     7198    3915              1777        5185\n",
      "\n",
      "\n",
      "<class 'pandas.core.frame.DataFrame'>\n",
      "RangeIndex: 440 entries, 0 to 439\n",
      "Data columns (total 8 columns):\n",
      " #   Column            Non-Null Count  Dtype\n",
      "---  ------            --------------  -----\n",
      " 0   Channel           440 non-null    int64\n",
      " 1   Region            440 non-null    int64\n",
      " 2   Fresh             440 non-null    int64\n",
      " 3   Milk              440 non-null    int64\n",
      " 4   Grocery           440 non-null    int64\n",
      " 5   Frozen            440 non-null    int64\n",
      " 6   Detergents_Paper  440 non-null    int64\n",
      " 7   Delicassen        440 non-null    int64\n",
      "dtypes: int64(8)\n",
      "memory usage: 27.6 KB\n",
      "None\n",
      "\n",
      "\n",
      "          Channel      Region          Fresh          Milk       Grocery  \\\n",
      "count  440.000000  440.000000     440.000000    440.000000    440.000000   \n",
      "mean     1.322727    2.543182   12000.297727   5796.265909   7951.277273   \n",
      "std      0.468052    0.774272   12647.328865   7380.377175   9503.162829   \n",
      "min      1.000000    1.000000       3.000000     55.000000      3.000000   \n",
      "25%      1.000000    2.000000    3127.750000   1533.000000   2153.000000   \n",
      "50%      1.000000    3.000000    8504.000000   3627.000000   4755.500000   \n",
      "75%      2.000000    3.000000   16933.750000   7190.250000  10655.750000   \n",
      "max      2.000000    3.000000  112151.000000  73498.000000  92780.000000   \n",
      "\n",
      "             Frozen  Detergents_Paper    Delicassen  \n",
      "count    440.000000        440.000000    440.000000  \n",
      "mean    3071.931818       2881.493182   1524.870455  \n",
      "std     4854.673333       4767.854448   2820.105937  \n",
      "min       25.000000          3.000000      3.000000  \n",
      "25%      742.250000        256.750000    408.250000  \n",
      "50%     1526.000000        816.500000    965.500000  \n",
      "75%     3554.250000       3922.000000   1820.250000  \n",
      "max    60869.000000      40827.000000  47943.000000  \n",
      "\n",
      "\n",
      "   Channel  Region  Fresh  Milk  Grocery  Frozen  Detergents_Paper  Delicassen\n",
      "0        2       3  12669  9656     7561     214              2674        1338\n",
      "1        2       3   7057  9810     9568    1762              3293        1776\n",
      "2        2       3   6353  8808     7684    2405              3516        7844\n",
      "3        1       3  13265  1196     4221    6404               507        1788\n",
      "4        2       3  22615  5410     7198    3915              1777        5185\n",
      "\n",
      "\n",
      "[[ 1.44865163  0.59066829  0.05293319  0.52356777 -0.04111489 -0.58936716\n",
      "  -0.04356873 -0.06633906]\n",
      " [ 1.44865163  0.59066829 -0.39130197  0.54445767  0.17031835 -0.27013618\n",
      "   0.08640684  0.08915105]\n",
      " [ 1.44865163  0.59066829 -0.44702926  0.40853771 -0.0281571  -0.13753572\n",
      "   0.13323164  2.24329255]\n",
      " [-0.69029709  0.59066829  0.10011141 -0.62401993 -0.3929769   0.6871443\n",
      "  -0.49858822  0.09341105]\n",
      " [ 1.44865163  0.59066829  0.84023948 -0.05239645 -0.07935618  0.17385884\n",
      "  -0.23191782  1.29934689]]\n",
      "\n",
      "\n",
      "[4 4 4 3 4 4 4 4 3 4 4 4 4 4 4 3 4 3 4 3 4 3 3 2 4 4 3 3 4 3 3 3 3 3 3 4 3\n",
      " 4 4 3 3 3 4 4 4 4 4 1 4 4 3 3 4 4 3 3 1 4 3 3 4 1 4 4 3 1 3 4 3 3 3 2 3 4\n",
      " 4 3 3 4 3 3 3 4 4 3 4 1 1 2 3 3 3 3 1 3 4 3 4 3 3 3 4 4 4 3 3 3 4 4 4 4 3\n",
      " 4 3 3 3 3 3 3 3 3 3 3 3 4 3 3 3 4 3 3 3 3 3 3 3 3 3 3 3 3 3 3 3 3 3 4 3 3\n",
      " 3 3 3 3 3 3 3 4 4 3 4 4 4 3 3 4 4 4 4 3 3 3 4 4 3 4 3 4 3 3 3 3 3 2 3 2 3\n",
      " 3 3 3 4 4 3 3 3 4 3 3 0 4 0 0 4 4 0 0 0 4 0 0 0 4 0 1 0 0 4 0 4 0 4 0 0 0\n",
      " 0 0 0 0 0 0 0 0 0 0 0 0 0 0 0 0 0 0 0 0 0 0 0 4 0 0 0 0 0 1 0 0 0 0 0 0 0\n",
      " 0 0 0 0 0 4 0 4 0 4 0 0 0 0 3 3 3 3 3 3 4 3 4 3 3 3 3 3 3 3 3 3 3 3 4 0 4\n",
      " 0 4 4 0 4 4 4 4 4 4 4 0 0 4 0 0 4 0 0 4 0 0 0 4 0 0 0 0 0 2 0 0 0 0 0 4 0\n",
      " 1 0 4 0 0 0 0 4 4 3 4 3 3 4 4 3 4 3 4 3 4 3 3 3 4 3 3 3 3 3 3 3 4 3 3 3 3\n",
      " 4 3 3 4 3 3 4 3 3 4 3 3 3 3 3 3 3 3 3 3 3 3 3 3 3 3 4 3 3 3 3 3 3 3 3 3 3\n",
      " 4 4 3 3 3 3 3 3 4 4 3 4 3 3 4 3 4 4 3 3 3 3 3 3 3 3 3 3 3 3 4 3 3]\n",
      "\n",
      "\n",
      "   Channel  Region  Fresh  Milk  Grocery  Frozen  Detergents_Paper  \\\n",
      "0        2       3  12669  9656     7561     214              2674   \n",
      "1        2       3   7057  9810     9568    1762              3293   \n",
      "2        2       3   6353  8808     7684    2405              3516   \n",
      "3        1       3  13265  1196     4221    6404               507   \n",
      "4        2       3  22615  5410     7198    3915              1777   \n",
      "\n",
      "   Delicassen  Cluster  \n",
      "0        1338        4  \n",
      "1        1776        4  \n",
      "2        7844        4  \n",
      "3        1788        3  \n",
      "4        5185        4  \n",
      "\n",
      "\n"
     ]
    }
   ],
   "source": [
    "# -*- coding: utf-8 -*-\n",
    "\n",
    "### 기본 라이브러리 불러오기\n",
    "import pandas as pd\n",
    "import matplotlib.pyplot as plt\n",
    "\n",
    "\n",
    "'''\n",
    "[Step 1] 데이터 준비\n",
    "'''\n",
    "\n",
    "# Wholesale customers 데이터셋 가져오기 (출처: UCI ML Repository)\n",
    "uci_path = 'https://archive.ics.uci.edu/ml/machine-learning-databases/\\\n",
    "00292/Wholesale%20customers%20data.csv'\n",
    "df = pd.read_csv(uci_path, header=0)\n",
    "\n",
    "\n",
    "'''\n",
    "[Step 2] 데이터 탐색\n",
    "'''\n",
    "\n",
    "# 데이터 살펴보기\n",
    "print(df.head())   \n",
    "print('\\n')\n",
    "\n",
    "# 데이터 자료형 확인\n",
    "print(df.info())  \n",
    "print('\\n')\n",
    "\n",
    "# 데이터 통계 요약정보 확인\n",
    "print(df.describe())\n",
    "print('\\n')\n",
    "\n",
    "\n",
    "'''\n",
    "[Step 3] 데이터 전처리\n",
    "'''\n",
    "\n",
    "# 분석에 사용할 속성을 선택\n",
    "X = df.iloc[:, :]\n",
    "print(X[:5])\n",
    "print('\\n')\n",
    "\n",
    "# 설명 변수 데이터를 정규화\n",
    "from sklearn import preprocessing\n",
    "X = preprocessing.StandardScaler().fit(X).transform(X)\n",
    "\n",
    "print(X[:5])\n",
    "print('\\n')\n",
    "\n",
    "\n",
    "'''\n",
    "[Step 4] k-means 군집 모형 - sklearn 사용\n",
    "'''\n",
    "\n",
    "# sklearn 라이브러리에서 cluster 군집 모형 가져오기\n",
    "from sklearn import cluster\n",
    "\n",
    "# 모형 객체 생성 \n",
    "kmeans = cluster.KMeans(init='k-means++', n_clusters=5, n_init=10)\n",
    "\n",
    "# 모형 학습\n",
    "kmeans.fit(X)   \n",
    "\n",
    "# 예측 (군집) \n",
    "cluster_label = kmeans.labels_   \n",
    "print(cluster_label)\n",
    "print('\\n')\n",
    "\n",
    "# 예측 결과를 데이터프레임에 추가\n",
    "df['Cluster'] = cluster_label\n",
    "print(df.head())   \n",
    "print('\\n')"
   ]
  },
  {
   "cell_type": "code",
   "execution_count": 4,
   "metadata": {
    "ExecuteTime": {
     "end_time": "2020-07-28T07:33:44.910396Z",
     "start_time": "2020-07-28T07:33:44.245806Z"
    }
   },
   "outputs": [
    {
     "name": "stderr",
     "output_type": "stream",
     "text": [
      "C:\\Users\\knitwill\\anaconda3\\lib\\site-packages\\pandas\\plotting\\_matplotlib\\tools.py:298: MatplotlibDeprecationWarning: \n",
      "The rowNum attribute was deprecated in Matplotlib 3.2 and will be removed two minor releases later. Use ax.get_subplotspec().rowspan.start instead.\n",
      "  layout[ax.rowNum, ax.colNum] = ax.get_visible()\n",
      "C:\\Users\\knitwill\\anaconda3\\lib\\site-packages\\pandas\\plotting\\_matplotlib\\tools.py:298: MatplotlibDeprecationWarning: \n",
      "The colNum attribute was deprecated in Matplotlib 3.2 and will be removed two minor releases later. Use ax.get_subplotspec().colspan.start instead.\n",
      "  layout[ax.rowNum, ax.colNum] = ax.get_visible()\n",
      "C:\\Users\\knitwill\\anaconda3\\lib\\site-packages\\pandas\\plotting\\_matplotlib\\tools.py:304: MatplotlibDeprecationWarning: \n",
      "The rowNum attribute was deprecated in Matplotlib 3.2 and will be removed two minor releases later. Use ax.get_subplotspec().rowspan.start instead.\n",
      "  if not layout[ax.rowNum + 1, ax.colNum]:\n",
      "C:\\Users\\knitwill\\anaconda3\\lib\\site-packages\\pandas\\plotting\\_matplotlib\\tools.py:304: MatplotlibDeprecationWarning: \n",
      "The colNum attribute was deprecated in Matplotlib 3.2 and will be removed two minor releases later. Use ax.get_subplotspec().colspan.start instead.\n",
      "  if not layout[ax.rowNum + 1, ax.colNum]:\n"
     ]
    },
    {
     "data": {
      "image/png": "[encoded data removed]",
      "text/plain": [
       "<Figure size 432x288 with 1 Axes>"
      ]
     },
     "metadata": {
      "needs_background": "light"
     },
     "output_type": "display_data"
    },
    {
     "data": {
      "image/png": "[encoded data removed]",
      "text/plain": [
       "<Figure size 432x288 with 2 Axes>"
      ]
     },
     "metadata": {
      "needs_background": "light"
     },
     "output_type": "display_data"
    }
   ],
   "source": [
    "# 그래프로 표현 - 시각화\n",
    "df.plot(kind='scatter', x='Grocery', y='Frozen', c='Cluster', cmap='Set1', \n",
    "        colorbar=False, )\n",
    "df.plot(kind='scatter', x='Milk', y='Delicassen', c='Cluster', cmap='Set1', \n",
    "        colorbar=True, )\n",
    "plt.show()\n",
    "plt.close()"
   ]
  },
  {
   "cell_type": "code",
   "execution_count": 5,
   "metadata": {
    "ExecuteTime": {
     "end_time": "2020-07-28T07:33:51.397849Z",
     "start_time": "2020-07-28T07:33:50.934136Z"
    }
   },
   "outputs": [
    {
     "name": "stderr",
     "output_type": "stream",
     "text": [
      "C:\\Users\\knitwill\\anaconda3\\lib\\site-packages\\pandas\\plotting\\_matplotlib\\tools.py:298: MatplotlibDeprecationWarning: \n",
      "The rowNum attribute was deprecated in Matplotlib 3.2 and will be removed two minor releases later. Use ax.get_subplotspec().rowspan.start instead.\n",
      "  layout[ax.rowNum, ax.colNum] = ax.get_visible()\n",
      "C:\\Users\\knitwill\\anaconda3\\lib\\site-packages\\pandas\\plotting\\_matplotlib\\tools.py:298: MatplotlibDeprecationWarning: \n",
      "The colNum attribute was deprecated in Matplotlib 3.2 and will be removed two minor releases later. Use ax.get_subplotspec().colspan.start instead.\n",
      "  layout[ax.rowNum, ax.colNum] = ax.get_visible()\n",
      "C:\\Users\\knitwill\\anaconda3\\lib\\site-packages\\pandas\\plotting\\_matplotlib\\tools.py:304: MatplotlibDeprecationWarning: \n",
      "The rowNum attribute was deprecated in Matplotlib 3.2 and will be removed two minor releases later. Use ax.get_subplotspec().rowspan.start instead.\n",
      "  if not layout[ax.rowNum + 1, ax.colNum]:\n",
      "C:\\Users\\knitwill\\anaconda3\\lib\\site-packages\\pandas\\plotting\\_matplotlib\\tools.py:304: MatplotlibDeprecationWarning: \n",
      "The colNum attribute was deprecated in Matplotlib 3.2 and will be removed two minor releases later. Use ax.get_subplotspec().colspan.start instead.\n",
      "  if not layout[ax.rowNum + 1, ax.colNum]:\n"
     ]
    },
    {
     "data": {
      "image/png": "[encoded data removed]",
      "text/plain": [
       "<Figure size 432x288 with 1 Axes>"
      ]
     },
     "metadata": {
      "needs_background": "light"
     },
     "output_type": "display_data"
    },
    {
     "data": {
      "image/png": "[encoded data removed]",
      "text/plain": [
       "<Figure size 432x288 with 2 Axes>"
      ]
     },
     "metadata": {
      "needs_background": "light"
     },
     "output_type": "display_data"
    }
   ],
   "source": [
    "# 큰 값으로 구성된 클러스터(0, 4)를 제외 - 값이 몰려 있는 구간을 자세하게 분석\n",
    "mask = (df['Cluster'] == 0) | (df['Cluster'] == 4)\n",
    "ndf = df[~mask]\n",
    "\n",
    "ndf.plot(kind='scatter', x='Grocery', y='Frozen', c='Cluster', cmap='Set1', \n",
    "        colorbar=False,)\n",
    "ndf.plot(kind='scatter', x='Milk', y='Delicassen', c='Cluster', cmap='Set1', \n",
    "        colorbar=True,)\n",
    "plt.show()\n",
    "plt.close()"
   ]
  },
  {
   "cell_type": "markdown",
   "metadata": {},
   "source": [
    "### <b>■ 파이썬으로 서포트 벡터 머신 구현하기</b>\n",
    "![svm1](http://cfile270.uf.daum.net/image/99995C375F1FCBF026D40E)\n",
    "\n",
    "    SVM은 이름에서도 알 수 있듯 벡터의 개념을 가져와서 사용\n",
    "    분류하는 초평면을 찾는 것인데 초평면의 수직 벡터를 normal vector를 찾는다\n",
    "    \n",
    "![c&gamma1](http://cfile293.uf.daum.net/image/998A0A495F04F06F0F0850)![c&gamma2](http://cfile275.uf.daum.net/image/99B779445F04F07E0E361C)\n",
    "    \n",
    "    면접질문 : SVM의 장점?\n",
    "        로컬 미니마에 빠지지 않는게 장점\n",
    "#### 예제. seaborn의 타이타닉 생존자를 예측하는 SVM 모델 구성 코드"
   ]
  },
  {
   "cell_type": "code",
   "execution_count": 9,
   "metadata": {
    "ExecuteTime": {
     "end_time": "2020-07-28T07:35:39.279993Z",
     "start_time": "2020-07-28T07:35:39.219030Z"
    }
   },
   "outputs": [
    {
     "name": "stdout",
     "output_type": "stream",
     "text": [
      "[0 0 1 0 0 1 1 0 0 0]\n",
      "[0 0 1 0 0 1 1 1 0 0]\n",
      "\n",
      "\n",
      "[[119   6]\n",
      " [ 31  59]]\n",
      "\n",
      "\n",
      "              precision    recall  f1-score   support\n",
      "\n",
      "           0       0.79      0.95      0.87       125\n",
      "           1       0.91      0.66      0.76        90\n",
      "\n",
      "    accuracy                           0.83       215\n",
      "   macro avg       0.85      0.80      0.81       215\n",
      "weighted avg       0.84      0.83      0.82       215\n",
      "\n"
     ]
    }
   ],
   "source": [
    "# -*- coding: utf-8 -*-\n",
    "\n",
    "### 기본 라이브러리 불러오기\n",
    "import pandas as pd\n",
    "import seaborn as sns\n",
    "plt.rcParams[\"figure.figsize\"] = (30,10)\n",
    "plt.rcParams.update({'font.size': 22})\n",
    "\n",
    "df = sns.load_dataset('titanic')\n",
    "\n",
    "pd.set_option('display.max_columns', 15)\n",
    "\n",
    "rdf = df.drop(['deck', 'embark_town'], axis=1)  \n",
    "\n",
    "rdf = rdf.dropna(subset=['age'], how='any', axis=0)  \n",
    "\n",
    "most_freq = rdf['embarked'].value_counts(dropna=True).idxmax()   \n",
    "rdf['embarked'].fillna(most_freq, inplace=True)\n",
    "\n",
    "\n",
    "ndf = rdf[['survived', 'pclass', 'sex', 'age', 'sibsp', 'parch', 'embarked']]\n",
    "\n",
    "onehot_sex = pd.get_dummies(ndf['sex'])\n",
    "ndf = pd.concat([ndf, onehot_sex], axis=1)\n",
    "\n",
    "onehot_embarked = pd.get_dummies(ndf['embarked'], prefix='town')\n",
    "ndf = pd.concat([ndf, onehot_embarked], axis=1)\n",
    "\n",
    "ndf.drop(['sex', 'embarked'], axis=1, inplace=True)\n",
    "\n",
    "X=ndf[['pclass', 'age', 'sibsp', 'parch', 'female', 'male', 'town_C', 'town_Q', 'town_S']]  #독립 변수 X\n",
    "y=ndf['survived']\n",
    "\n",
    "from sklearn import preprocessing\n",
    "X = preprocessing.StandardScaler().fit(X).transform(X)\n",
    "\n",
    "# train data 와 test data로 구분(7:3 비율)\n",
    "from sklearn.model_selection import train_test_split\n",
    "X_train, X_test, y_train, y_test = train_test_split(X, y, test_size=0.3, random_state=10) \n",
    "\n",
    "from sklearn import svm\n",
    "# 모형 객체 생성 (kernel='rbf' 적용)\n",
    "svm_model = svm.SVC(kernel='rbf',C=20, gamma=0.1) \n",
    "\"\"\"\n",
    "적절한 매개변수 C값과 gamma값을 찾는게 중요\n",
    "C가 너무 크면 훈련 데이터는 잘 분류하지만 오버피팅이 발생\n",
    "gamma : 결정 경계의 곡률을 조정하는 매개변수\n",
    "gamma가 너무 크면 훈련 데이터는 잘 분류하지만 오버피팅이 발생\n",
    "\"\"\"\n",
    "\n",
    "# train data를 가지고 모형 학습\n",
    "svm_model.fit(X_train, y_train)   \n",
    "\n",
    "# test data를 가지고 y_hat을 예측 (분류) \n",
    "y_hat = svm_model.predict(X_test)\n",
    "\n",
    "print(y_hat[0:10])\n",
    "print(y_test.values[0:10])\n",
    "print('\\n')\n",
    "\n",
    "# 모형 성능 평가 - Confusion Matrix 계산\n",
    "from sklearn import metrics \n",
    "svm_matrix = metrics.confusion_matrix(y_test, y_hat)  \n",
    "print(svm_matrix)\n",
    "print('\\n')\n",
    "\n",
    "# 모형 성능 평가 - 평가지표 계산\n",
    "svm_report = metrics.classification_report(y_test, y_hat)            \n",
    "print(svm_report)"
   ]
  },
  {
   "cell_type": "markdown",
   "metadata": {},
   "source": [
    "### ※ 문제253. 유방암 데이터의 악성 종양과 양성 종양을 분류하는 SVM을 구성하시오"
   ]
  },
  {
   "cell_type": "code",
   "execution_count": 7,
   "metadata": {
    "ExecuteTime": {
     "end_time": "2020-07-28T07:34:23.295931Z",
     "start_time": "2020-07-28T07:34:22.399530Z"
    }
   },
   "outputs": [
    {
     "name": "stdout",
     "output_type": "stream",
     "text": [
      "[[128   3]\n",
      " [  4  70]]\n",
      "\n",
      "\n",
      "              precision    recall  f1-score   support\n",
      "\n",
      "           2       0.97      0.98      0.97       131\n",
      "           4       0.96      0.95      0.95        74\n",
      "\n",
      "    accuracy                           0.97       205\n",
      "   macro avg       0.96      0.96      0.96       205\n",
      "weighted avg       0.97      0.97      0.97       205\n",
      "\n"
     ]
    }
   ],
   "source": [
    "# -*- coding: utf-8 -*-\n",
    "### 기본 라이브러리 불러오기\n",
    "import pandas as pd\n",
    "import numpy as np\n",
    "# Breast Cancer 데이터셋 가져오기 (출처: UCI ML Repository)\n",
    "uci_path = 'https://archive.ics.uci.edu/ml/machine-learning-databases/\\\n",
    "breast-cancer-wisconsin/breast-cancer-wisconsin.data'\n",
    "\n",
    "df = pd.read_csv(uci_path, header=None)\n",
    "df.columns = ['id','clump','cell_size','cell_shape', 'adhesion','epithlial', 'bare_nuclei','chromatin','normal_nucleoli', 'mitoses', 'class'] \n",
    "pd.set_option('display.max_columns', 15)\n",
    "\n",
    "df['bare_nuclei'].replace('?', np.nan, inplace=True) # '?'을 np.nan으로 변경\n",
    "df.dropna(subset=['bare_nuclei'], axis=0, inplace=True) # 누락데이터 행을 삭제\n",
    "df['bare_nuclei'] = df['bare_nuclei'].astype('int') # 문자열을 정수형으로 변환\n",
    "\n",
    "X=df[['clump','cell_size','cell_shape', 'adhesion','epithlial', 'bare_nuclei','chromatin','normal_nucleoli', 'mitoses']] \n",
    "y=df['class'] \n",
    "\n",
    "from sklearn import preprocessing\n",
    "X = preprocessing.StandardScaler().fit(X).transform(X)\n",
    "\n",
    "from sklearn.model_selection import train_test_split\n",
    "X_train, X_test, y_train, y_test = train_test_split(X, y, test_size=0.3, random_state=10) \n",
    "\n",
    "from sklearn import svm\n",
    "# 모형 객체 생성 (kernel='rbf' 적용)\n",
    "svm_model = svm.SVC(kernel='rbf',C=10, gamma=0.05) \n",
    "\n",
    "# train data를 가지고 모형 학습\n",
    "svm_model.fit(X_train, y_train)   \n",
    "\n",
    "# test data를 가지고 y_hat을 예측 (분류) \n",
    "y_hat = svm_model.predict(X_test)\n",
    "\n",
    "# 모형 성능 평가 - Confusion Matrix 계산\n",
    "from sklearn import metrics \n",
    "svm_matrix = metrics.confusion_matrix(y_test, y_hat)  \n",
    "print(svm_matrix)\n",
    "print('\\n')\n",
    "\n",
    "# 모형 성능 평가 - 평가지표 계산\n",
    "svm_report = metrics.classification_report(y_test, y_hat)            \n",
    "print(svm_report)"
   ]
  },
  {
   "cell_type": "code",
   "execution_count": 10,
   "metadata": {
    "ExecuteTime": {
     "end_time": "2020-07-28T07:36:17.938915Z",
     "start_time": "2020-07-28T07:36:17.633105Z"
    }
   },
   "outputs": [
    {
     "data": {
      "image/png": "[encoded data removed]",
      "text/plain": [
       "<Figure size 2160x720 with 1 Axes>"
      ]
     },
     "metadata": {
      "needs_background": "light"
     },
     "output_type": "display_data"
    }
   ],
   "source": [
    "import numpy as np\n",
    "import matplotlib.pyplot as plt\n",
    "from sklearn import svm, datasets\n",
    "# import some data to play with\n",
    "\n",
    "iris = datasets.load_iris()\n",
    "\n",
    "X = iris.data[:, :2] # we only take the first two features. We could\n",
    "y = iris.target\n",
    "\n",
    "# we create an instance of SVM and fit out data. We do not scale our\n",
    "# data since we want to plot the support vectors\n",
    "\n",
    "C = 1.0 # SVM regularization parameter\n",
    "svc = svm.SVC(kernel='linear', C=1, gamma=1).fit(X, y) # C 테스트\n",
    "\n",
    "#svc = svm.SVC(kernel='rbf', C=1, gamma=1).fit(X, y)  # 감마 테스트\n",
    "# create a mesh to plot in\n",
    "\n",
    "x_min, x_max = X[:, 0].min() - 1, X[:, 0].max() + 1\n",
    "y_min, y_max = X[:, 1].min() - 1, X[:, 1].max() + 1\n",
    "h = (x_max / x_min)/100\n",
    "\n",
    "xx, yy = np.meshgrid(np.arange(x_min, x_max, h), np.arange(y_min, y_max, h))\n",
    "\n",
    "plt.subplot(1, 1, 1)\n",
    "\n",
    "Z = svc.predict(np.c_[xx.ravel(), yy.ravel()])\n",
    "Z = Z.reshape(xx.shape)\n",
    "\n",
    "plt.contourf(xx, yy, Z, cmap=plt.cm.Paired, alpha=0.8)\n",
    "plt.scatter(X[:, 0], X[:, 1], c=y, cmap=plt.cm.Paired)\n",
    "plt.xlabel('Sepal length')\n",
    "plt.ylabel('Sepal width')\n",
    "plt.xlim(xx.min(), xx.max())\n",
    "plt.title('SVC with linear kernel')\n",
    "plt.show()"
   ]
  },
  {
   "cell_type": "markdown",
   "metadata": {},
   "source": [
    "### ※ 문제254. Kaggle 순위를 캡처해서 댓글을 작성하시오 (일요일 밤까지)\n",
    "    파이썬 머신러닝_NCS_노트정리_문제253번_김서준.pdf"
   ]
  },
  {
   "cell_type": "code",
   "execution_count": null,
   "metadata": {},
   "outputs": [],
   "source": []
  },
  {
   "cell_type": "code",
   "execution_count": null,
   "metadata": {},
   "outputs": [],
   "source": []
  },
  {
   "cell_type": "code",
   "execution_count": null,
   "metadata": {},
   "outputs": [],
   "source": []
  },
  {
   "cell_type": "code",
   "execution_count": null,
   "metadata": {},
   "outputs": [],
   "source": []
  }
 ],
 "metadata": {
  "kernelspec": {
   "display_name": "Python 3",
   "language": "python",
   "name": "python3"
  },
  "language_info": {
   "codemirror_mode": {
    "name": "ipython",
    "version": 3
   },
   "file_extension": ".py",
   "mimetype": "text/x-python",
   "name": "python",
   "nbconvert_exporter": "python",
   "pygments_lexer": "ipython3",
   "version": "3.7.6"
  },
  "toc": {
   "base_numbering": 1,
   "nav_menu": {},
   "number_sections": true,
   "sideBar": true,
   "skip_h1_title": false,
   "title_cell": "Table of Contents",
   "title_sidebar": "Contents",
   "toc_cell": false,
   "toc_position": {},
   "toc_section_display": true,
   "toc_window_display": false
  },
  "varInspector": {
   "cols": {
    "lenName": 16,
    "lenType": 16,
    "lenVar": 40
   },
   "kernels_config": {
    "python": {
     "delete_cmd_postfix": "",
     "delete_cmd_prefix": "del ",
     "library": "var_list.py",
     "varRefreshCmd": "print(var_dic_list())"
    },
    "r": {
     "delete_cmd_postfix": ") ",
     "delete_cmd_prefix": "rm(",
     "library": "var_list.r",
     "varRefreshCmd": "cat(var_dic_list()) "
    }
   },
   "types_to_exclude": [
    "module",
    "function",
    "builtin_function_or_method",
    "instance",
    "_Feature"
   ],
   "window_display": false
  }
 },
 "nbformat": 4,
 "nbformat_minor": 4
}
