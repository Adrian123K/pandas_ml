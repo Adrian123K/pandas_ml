{
 "cells": [
  {
   "cell_type": "markdown",
   "metadata": {},
   "source": [
    "### ※ 문제92. 데이터를 정규화 하기 위해서 지금 조인한 result 데이터프레임의 데이터 속성이 어떻게 되는지 확인하시오(df.dtypes)"
   ]
  },
  {
   "cell_type": "code",
   "execution_count": 17,
   "metadata": {
    "ExecuteTime": {
     "end_time": "2020-07-14T01:16:14.947942Z",
     "start_time": "2020-07-14T01:16:14.082470Z"
    }
   },
   "outputs": [
    {
     "data": {
      "text/plain": [
       "date       object\n",
       "driving    object\n",
       "walking    object\n",
       "cnt        object\n",
       "dtype: object"
      ]
     },
     "execution_count": 17,
     "metadata": {},
     "output_type": "execute_result"
    }
   ],
   "source": [
    "import pandas as pd\n",
    "\n",
    "korea_move = pd.read_csv(\"korea_move2.csv\", header = None)\n",
    "km = korea_move.T\n",
    "km = km[6:]\n",
    "km.columns = ['date', 'driving', 'walking']\n",
    "\n",
    "url = \"sample2.html\"\n",
    "url2 = pd.read_html(url)\n",
    "dcnt = pd.DataFrame(url2[5][2].str.split('+'))[2].str[1].str.split(')').str[0]\n",
    "\n",
    "d = url2[5][1]\n",
    "r = pd.DataFrame({'date':d, 'cnt':dcnt})[2:-2]\n",
    "\n",
    "#r.date = r.date.map(lambda x:x[:-1].replace('월 ', '-')).map(lambda x:'2020-0' + x).map(lambda x:x[0:8] + '0' + x[8] if x[-2] == '-' else x)\n",
    "r.date = r.date.map(lambda x:'2020-0' + x[x.index('월') - 1] + '-' + x[x.index('월') + 2:x.index('일')].rjust(2, '0'))\n",
    "result = pd.merge(km, r, on = 'date')\n",
    "\n",
    "result.dtypes"
   ]
  },
  {
   "cell_type": "markdown",
   "metadata": {},
   "source": [
    "### ※ 문제93. 위의 result 데이터프레임의 데이터를 숫자로 변환하는데 맨 앞에 date column만 빼고 나머지를 전부 숫자로 변환하시오\n",
    "    문법\n",
    "        df['DataFrame Column'] = df['DataFrame Column'].astype(float)"
   ]
  },
  {
   "cell_type": "code",
   "execution_count": 19,
   "metadata": {
    "ExecuteTime": {
     "end_time": "2020-07-14T01:17:35.055516Z",
     "start_time": "2020-07-14T01:17:35.047521Z"
    }
   },
   "outputs": [],
   "source": [
    "result.head()\n",
    "result[['driving','walking']] = result[['driving','walking']].astype(float)"
   ]
  },
  {
   "cell_type": "markdown",
   "metadata": {},
   "source": [
    "### ※ 문제94. 아래의 1,062 -> 1062로 변경되게 하시오"
   ]
  },
  {
   "cell_type": "code",
   "execution_count": 22,
   "metadata": {
    "ExecuteTime": {
     "end_time": "2020-07-14T01:21:02.663034Z",
     "start_time": "2020-07-14T01:21:02.611067Z"
    }
   },
   "outputs": [
    {
     "name": "stderr",
     "output_type": "stream",
     "text": [
      "C:\\Users\\knitwill\\anaconda3\\lib\\site-packages\\ipykernel_launcher.py:3: SettingWithCopyWarning: \n",
      "A value is trying to be set on a copy of a slice from a DataFrame\n",
      "\n",
      "See the caveats in the documentation: https://pandas.pydata.org/pandas-docs/stable/user_guide/indexing.html#returning-a-view-versus-a-copy\n",
      "  This is separate from the ipykernel package so we can avoid doing imports until\n"
     ]
    },
    {
     "data": {
      "text/plain": [
       "0       1\n",
       "1       1\n",
       "2       1\n",
       "3       1\n",
       "4       1\n",
       "       ..\n",
       "159    44\n",
       "160    62\n",
       "161    50\n",
       "162    45\n",
       "163    35\n",
       "Name: cnt, Length: 164, dtype: object"
      ]
     },
     "execution_count": 22,
     "metadata": {},
     "output_type": "execute_result"
    }
   ],
   "source": [
    "import re\n",
    "for k, i in enumerate(result['cnt']):\n",
    "    result['cnt'][k] = re.sub('[^0-9]','',i)\n",
    "result['cnt']"
   ]
  },
  {
   "cell_type": "code",
   "execution_count": null,
   "metadata": {},
   "outputs": [],
   "source": []
  },
  {
   "cell_type": "code",
   "execution_count": null,
   "metadata": {},
   "outputs": [],
   "source": []
  },
  {
   "cell_type": "code",
   "execution_count": null,
   "metadata": {},
   "outputs": [],
   "source": []
  },
  {
   "cell_type": "code",
   "execution_count": null,
   "metadata": {},
   "outputs": [],
   "source": []
  },
  {
   "cell_type": "markdown",
   "metadata": {},
   "source": [
    "### ※ (점심시간 문제) 사람들의 이동성이 높을 수록 코로나 확진자수는 증가하는가? \n",
    "    다음과 같이 시각화 하세요 ~  cnt 가 일별 확진자 수입니다. \n",
    "    영향력만 확인할것이므로 데이터를 정규화 해야합니다"
   ]
  },
  {
   "cell_type": "code",
   "execution_count": 3,
   "metadata": {
    "ExecuteTime": {
     "end_time": "2020-07-14T01:02:01.074214Z",
     "start_time": "2020-07-14T01:01:58.629148Z"
    }
   },
   "outputs": [
    {
     "name": "stdout",
     "output_type": "stream",
     "text": [
      "           date driving walking cnt\n",
      "0    2020-01-20  108.45  108.11   1\n",
      "1    2020-01-24   132.5  103.55   1\n",
      "2    2020-01-26  119.25  105.85   1\n",
      "3    2020-01-27  101.94  100.29   1\n",
      "4    2020-01-30  104.55  109.83   1\n",
      "..          ...     ...     ...  ..\n",
      "159  2020-07-07   71.29   47.85  44\n",
      "160  2020-07-08   72.19   47.82  62\n",
      "161  2020-07-09   71.53    44.9  50\n",
      "162  2020-07-10   96.12   71.88  45\n",
      "163  2020-07-11   80.68   57.57  35\n",
      "\n",
      "[164 rows x 4 columns]\n"
     ]
    }
   ],
   "source": [
    "import pandas as pd\n",
    "\n",
    "korea_move = pd.read_csv(\"korea_move2.csv\", header = None)\n",
    "km = korea_move.T\n",
    "km = km[6:]\n",
    "km.columns = ['date', 'driving', 'walking']\n",
    "\n",
    "url = \"sample2.html\"\n",
    "url2 = pd.read_html(url)\n",
    "dcnt = pd.DataFrame(url2[5][2].str.split('+'))[2].str[1].str.split(')').str[0]\n",
    "\n",
    "d = url2[5][1]\n",
    "r = pd.DataFrame({'date':d, 'cnt':dcnt})[2:-2]\n",
    "\n",
    "#r.date = r.date.map(lambda x:x[:-1].replace('월 ', '-')).map(lambda x:'2020-0' + x).map(lambda x:x[0:8] + '0' + x[8] if x[-2] == '-' else x)\n",
    "r.date = r.date.map(lambda x:'2020-0' + x[x.index('월') - 1] + '-' + x[x.index('월') + 2:x.index('일')].rjust(2, '0'))\n",
    "result = pd.merge(km, r, on = 'date')\n",
    "\n"
   ]
  },
  {
   "cell_type": "code",
   "execution_count": null,
   "metadata": {},
   "outputs": [],
   "source": []
  },
  {
   "cell_type": "code",
   "execution_count": 12,
   "metadata": {
    "ExecuteTime": {
     "end_time": "2020-07-14T01:14:43.997705Z",
     "start_time": "2020-07-14T01:14:43.950734Z"
    }
   },
   "outputs": [
    {
     "data": {
      "text/plain": [
       "date               object\n",
       "driving            object\n",
       "walking            object\n",
       "daily confirmed    object\n",
       "dtype: object"
      ]
     },
     "execution_count": 12,
     "metadata": {},
     "output_type": "execute_result"
    }
   ],
   "source": [
    "import pandas as pd\n",
    "from datetime import date\n",
    "import matplotlib.pyplot as plt\n",
    "plt.rcParams[\"figure.figsize\"] = (15,10)\n",
    "plt.rcParams.update({'font.size': 22})\n",
    "\n",
    "daily_c = pd.read_csv('cov0713.csv')\n",
    "k_move = pd.read_csv('korea_move.csv',encoding='ANSI') # ANSI 코딩으로 불러오기\n",
    "del k_move['alternative_name'] # 이상한 글씨 삭제\n",
    "\n",
    "## k_move 설정\n",
    "k_move = k_move.T[5:] # 전치 후 6행부터 저장\n",
    "k_move['date']=k_move.index # index에 있는 날짜 column으로 지정\n",
    "k_move.columns=['driving','walking','date'] # merge용 column명 변경\n",
    "k_move=k_move[['date','driving','walking']] # column 순서 변경\n",
    "\n",
    "## 일별 확진자 설정\n",
    "mod = pd.Series(daily_c['date']) # Series로 따로 생성\n",
    "m1=mod.str.partition('월') # '월'로 1차 분리\n",
    "m2=m1[2].str.partition('일') # '일'로 2차 분리\n",
    "mod_m=pd.concat([m1[0],m2[0]],axis=1)\n",
    "mod_m.columns=['m','d'] # column명 수정\n",
    "mod_m['y']='2020-0' # 년도 column 생성\n",
    "mod_date='2020-0'+mod_m['m']+'-'+mod_m['d'].str.strip() # 각 column 병합 후 새로 생성, 'd' column 공백 제거\n",
    "daily_c['date']=mod_date # date 수정한 column 추가\n",
    "\n",
    "## 병합\n",
    "rs=pd.merge(k_move, daily_c, on='date',how='right')\n",
    "rs=rs[['date','driving','walking','daily confirmed']] # column 순서 변경\n",
    "rs.dtypes"
   ]
  },
  {
   "cell_type": "code",
   "execution_count": 16,
   "metadata": {
    "ExecuteTime": {
     "end_time": "2020-07-14T01:16:04.273720Z",
     "start_time": "2020-07-14T01:16:04.266724Z"
    }
   },
   "outputs": [],
   "source": [
    "rs[['driving','walking']]=rs[['driving','walking']].astype('float')"
   ]
  },
  {
   "cell_type": "code",
   "execution_count": null,
   "metadata": {},
   "outputs": [],
   "source": []
  },
  {
   "cell_type": "code",
   "execution_count": null,
   "metadata": {},
   "outputs": [],
   "source": []
  },
  {
   "cell_type": "code",
   "execution_count": null,
   "metadata": {},
   "outputs": [],
   "source": []
  },
  {
   "cell_type": "code",
   "execution_count": null,
   "metadata": {},
   "outputs": [],
   "source": []
  }
 ],
 "metadata": {
  "kernelspec": {
   "display_name": "Python 3",
   "language": "python",
   "name": "python3"
  },
  "language_info": {
   "codemirror_mode": {
    "name": "ipython",
    "version": 3
   },
   "file_extension": ".py",
   "mimetype": "text/x-python",
   "name": "python",
   "nbconvert_exporter": "python",
   "pygments_lexer": "ipython3",
   "version": "3.7.6"
  },
  "toc": {
   "base_numbering": 1,
   "nav_menu": {},
   "number_sections": true,
   "sideBar": true,
   "skip_h1_title": false,
   "title_cell": "Table of Contents",
   "title_sidebar": "Contents",
   "toc_cell": false,
   "toc_position": {},
   "toc_section_display": true,
   "toc_window_display": false
  },
  "varInspector": {
   "cols": {
    "lenName": 16,
    "lenType": 16,
    "lenVar": 40
   },
   "kernels_config": {
    "python": {
     "delete_cmd_postfix": "",
     "delete_cmd_prefix": "del ",
     "library": "var_list.py",
     "varRefreshCmd": "print(var_dic_list())"
    },
    "r": {
     "delete_cmd_postfix": ") ",
     "delete_cmd_prefix": "rm(",
     "library": "var_list.r",
     "varRefreshCmd": "cat(var_dic_list()) "
    }
   },
   "types_to_exclude": [
    "module",
    "function",
    "builtin_function_or_method",
    "instance",
    "_Feature"
   ],
   "window_display": false
  }
 },
 "nbformat": 4,
 "nbformat_minor": 4
}
