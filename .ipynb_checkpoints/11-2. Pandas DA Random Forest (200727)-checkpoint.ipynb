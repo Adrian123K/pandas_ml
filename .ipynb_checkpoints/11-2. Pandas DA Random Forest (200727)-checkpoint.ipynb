{
 "cells": [
  {
   "cell_type": "markdown",
   "metadata": {},
   "source": [
    "### <b>■ Random Forest</b>\n",
    "    의사결정트리 + Ensemble\n",
    "    \n",
    "    Ensemble\n",
    "        약한 학습자를 여러개 결합하면 강한 학습자를 만들 수 있는 아이디어를 기반으로 하고\n",
    "        앙상블 모형은 여러 개의 분류 모형을 같이 사용하여 한꺼번에 평가하는 모델\n",
    "    "
   ]
  },
  {
   "cell_type": "code",
   "execution_count": null,
   "metadata": {},
   "outputs": [],
   "source": [
    "# 예제 : seaborn 타이타닉 데이터로 Random Forest 모형\n",
    "from sklearn import metrics\n",
    "import numpy as np\n",
    "\n",
    "# 1단계 csv ---> 데이터 프레임으로 변환\n",
    "import pandas as pd\n",
    "import seaborn as sns\n",
    "\n",
    "df = sns.load_dataset('titanic')\n",
    "\n",
    "# 컬럼이 모두다 출력될 수 있도록 출력할 열의 개수 한도를 늘리기\n",
    "pd.set_option('display.max_columns',15)\n",
    "\n",
    "# 2단계 결측치 확인하고 제거하거나 치환한다.\n",
    "# 2.1 타이타닉 데이터 프레임의 자료형을 확인한다.\n",
    "mask4 = (df.age<10) | (df.sex=='female') \n",
    "df['child_women']=mask4.astype(int)\n",
    "\n",
    "rdf = df.drop(['deck','embark_town'], axis =1)\n",
    "rdf = rdf.dropna( subset=['age'], how='any', axis=0)\n",
    "\n",
    "most_freq = rdf['embarked'].value_counts().idxmax()\n",
    "rdf['embarked'].fillna(most_freq, inplace = True)\n",
    "\n",
    "ndf = rdf[['survived','pclass','sex','age','sibsp','parch','embarked','child_women']]\n",
    "\n",
    "gender = pd.get_dummies(ndf['sex'])\n",
    "ndf = pd.concat([ndf,gender], axis= 1)\n",
    "onehot_embarked = pd.get_dummies(ndf['embarked'])\n",
    "ndf = pd.concat([ndf,onehot_embarked],axis=1)\n",
    "ndf.drop(['sex','embarked'], axis=1, inplace = True)\n",
    "\n",
    "x = ndf[ ['pclass', 'age' ,'sibsp', 'parch' ,'female' ,'male', 'C' ,'Q' ,'S', 'child_women'] ]\n",
    "y = ndf['survived'] # 종속변수\n",
    "\n",
    "from sklearn import preprocessing\n",
    "X = preprocessing.StandardScaler().fit(x).transform(x)\n",
    "\n",
    "from sklearn.model_selection import train_test_split\n",
    "X_train,X_test,y_train,y_test = train_test_split(x,y,test_size = 0.3, random_state = 33)\n",
    "\n",
    "from  sklearn.ensemble   import  RandomForestClassifier \n",
    "tree_model = RandomForestClassifier( n_estimators=100, oob_score=True, random_state= 9 )  \n",
    "tree_model.fit( X_train, y_train )\n",
    "\n",
    "print ( tree_model.oob_score_)\n",
    "\n",
    "y_hat = tree_model.predict( X_test )\n",
    "\n",
    "from sklearn import metrics\n",
    "randomforest_matrix = metrics.confusion_matrix( y_test, y_hat )\n",
    "print( randomforest_matrix )\n",
    "\n",
    "tn, fp, fn, tp = metrics.confusion_matrix( y_test, y_hat ).ravel()\n",
    "f1_report = metrics.classification_report( y_test, y_hat )\n",
    "print( f1_report )\n",
    "\n",
    "from sklearn.metrics import accuracy_score\n",
    "accuracy = accuracy_score( y_test, y_hat)\n",
    "print(accuracy)"
   ]
  },
  {
   "cell_type": "code",
   "execution_count": null,
   "metadata": {},
   "outputs": [],
   "source": []
  },
  {
   "cell_type": "code",
   "execution_count": null,
   "metadata": {},
   "outputs": [],
   "source": []
  },
  {
   "cell_type": "code",
   "execution_count": null,
   "metadata": {},
   "outputs": [],
   "source": []
  },
  {
   "cell_type": "code",
   "execution_count": null,
   "metadata": {},
   "outputs": [],
   "source": []
  },
  {
   "cell_type": "code",
   "execution_count": null,
   "metadata": {},
   "outputs": [],
   "source": []
  },
  {
   "cell_type": "code",
   "execution_count": null,
   "metadata": {},
   "outputs": [],
   "source": []
  },
  {
   "cell_type": "code",
   "execution_count": null,
   "metadata": {},
   "outputs": [],
   "source": []
  }
 ],
 "metadata": {
  "kernelspec": {
   "display_name": "Python 3",
   "language": "python",
   "name": "python3"
  },
  "language_info": {
   "codemirror_mode": {
    "name": "ipython",
    "version": 3
   },
   "file_extension": ".py",
   "mimetype": "text/x-python",
   "name": "python",
   "nbconvert_exporter": "python",
   "pygments_lexer": "ipython3",
   "version": "3.7.6"
  },
  "toc": {
   "base_numbering": 1,
   "nav_menu": {},
   "number_sections": true,
   "sideBar": true,
   "skip_h1_title": false,
   "title_cell": "Table of Contents",
   "title_sidebar": "Contents",
   "toc_cell": false,
   "toc_position": {},
   "toc_section_display": true,
   "toc_window_display": false
  },
  "varInspector": {
   "cols": {
    "lenName": 16,
    "lenType": 16,
    "lenVar": 40
   },
   "kernels_config": {
    "python": {
     "delete_cmd_postfix": "",
     "delete_cmd_prefix": "del ",
     "library": "var_list.py",
     "varRefreshCmd": "print(var_dic_list())"
    },
    "r": {
     "delete_cmd_postfix": ") ",
     "delete_cmd_prefix": "rm(",
     "library": "var_list.r",
     "varRefreshCmd": "cat(var_dic_list()) "
    }
   },
   "types_to_exclude": [
    "module",
    "function",
    "builtin_function_or_method",
    "instance",
    "_Feature"
   ],
   "window_display": false
  }
 },
 "nbformat": 4,
 "nbformat_minor": 4
}
