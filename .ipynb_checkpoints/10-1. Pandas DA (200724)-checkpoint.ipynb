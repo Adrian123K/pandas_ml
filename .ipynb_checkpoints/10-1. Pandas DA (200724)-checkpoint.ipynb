{
 "cells": [
  {
   "cell_type": "markdown",
   "metadata": {},
   "source": [
    "# <b>■ 7장. 파이썬을 이용한 머신러닝</b>\n",
    "    1. kNN 머신러닝 알고리즘으로 타이타닉 생존자를 예측하는 모델을 생성\n",
    "\n",
    "## <b>■ 정확도를 바로 출력하는 함수</b>\n",
    "```python\n",
    "from sklearn.metrics import accuracy_score\n",
    "accuracy = accuracy_score(y_test, y_hat)\n",
    "accuracy\n",
    "```"
   ]
  },
  {
   "cell_type": "markdown",
   "metadata": {},
   "source": [
    "### ※ 문제220. 어제 seaborn의 타이타닉 kNN 모델을 생성하는 코드 맨 아래에 위의 코드를 추가해서 정확도가 나오는지 확인해보시오"
   ]
  },
  {
   "cell_type": "code",
   "execution_count": 9,
   "metadata": {
    "ExecuteTime": {
     "end_time": "2020-07-24T01:06:56.823499Z",
     "start_time": "2020-07-24T01:06:56.772529Z"
    }
   },
   "outputs": [
    {
     "data": {
      "text/plain": [
       "array(['survived', 'pclass', 'sex', 'age_x', 'sibsp', 'parch', 'fare',\n",
       "       'embarked', 'class', 'who', 'adult_male', 'alive', 'alone', 'Name',\n",
       "       'title'], dtype=object)"
      ]
     },
     "execution_count": 9,
     "metadata": {},
     "output_type": "execute_result"
    }
   ],
   "source": [
    "import pandas as pd\n",
    "import seaborn as sns\n",
    "\n",
    "df = sns.load_dataset('titanic')\n",
    "n_df = pd.read_csv('train.csv')\n",
    "df = pd.concat([df,n_df['Name']],axis=1)\n",
    "appel = df['Name'].str.split(',').str[1].str.split('.')\n",
    "df['title'] = appel.str.get(0)\n",
    "\n",
    "age_m = pd.DataFrame(round(df.groupby('title')['age'].mean(),1))\n",
    "df = pd.merge(df, age_m, on='title',how='left')\n",
    "df.age_x.fillna(df.age_y, inplace=True)\n",
    "\n",
    "rdf = df.drop(['embark_town','deck','age_y'],axis=1)\n",
    "rdf.columns.values"
   ]
  },
  {
   "cell_type": "code",
   "execution_count": 11,
   "metadata": {
    "ExecuteTime": {
     "end_time": "2020-07-24T01:11:19.584739Z",
     "start_time": "2020-07-24T01:11:19.539768Z"
    }
   },
   "outputs": [
    {
     "name": "stdout",
     "output_type": "stream",
     "text": [
      "[[170   8]\n",
      " [ 28  62]]\n",
      "0.8656716417910447\n"
     ]
    },
    {
     "name": "stderr",
     "output_type": "stream",
     "text": [
      "C:\\Users\\knitwill\\anaconda3\\lib\\site-packages\\pandas\\core\\frame.py:4133: SettingWithCopyWarning: \n",
      "A value is trying to be set on a copy of a slice from a DataFrame\n",
      "\n",
      "See the caveats in the documentation: https://pandas.pydata.org/pandas-docs/stable/user_guide/indexing.html#returning-a-view-versus-a-copy\n",
      "  errors=errors,\n"
     ]
    }
   ],
   "source": [
    "ndf = rdf[['survived','pclass','sex','age_x','sibsp','parch','embarked']]\n",
    "ndf.rename(columns = {'age_x' : 'age'}, inplace = True)\n",
    "\n",
    "gender = pd.get_dummies(ndf.sex)\n",
    "ndf = pd.concat([ndf, gender],axis=1)\n",
    "\n",
    "oh_embarked = pd.get_dummies(ndf.embarked, prefix='town')\n",
    "ndf = pd.concat([ndf, oh_embarked], axis=1)\n",
    "ndf = ndf.drop(['embarked','sex'],axis=1,)\n",
    "\n",
    "X = ndf[['pclass','age','sibsp','parch','female','male','town_C','town_Q','town_S']]\n",
    "y = ndf.survived\n",
    "\n",
    "from sklearn import preprocessing as ppc\n",
    "X = ppc.StandardScaler().fit(X).transform(X)\n",
    "X\n",
    "\n",
    "from sklearn.model_selection import train_test_split as tts\n",
    "X_train, X_test, y_train, y_test = tts(X, y, test_size=0.3, random_state=4)\n",
    "\n",
    "from sklearn.neighbors import KNeighborsClassifier as knc\n",
    "knn = knc(n_neighbors=13)\n",
    "knn.fit(X_train, y_train)\n",
    "\n",
    "y_hat = knn.predict(X_test)\n",
    "\n",
    "from sklearn import metrics\n",
    "knn_matrix = metrics.confusion_matrix(y_test, y_hat)\n",
    "print(knn_matrix)\n",
    "\n",
    "from sklearn.metrics import accuracy_score\n",
    "accuracy = accuracy_score( y_test, y_hat)\n",
    "print(accuracy)"
   ]
  },
  {
   "cell_type": "markdown",
   "metadata": {},
   "source": [
    "### ※ 문제221. 나이의 결측치를 나이의 최빈값으로 치환하고 학습시켜서 정확도를 확인하시오"
   ]
  },
  {
   "cell_type": "code",
   "execution_count": 7,
   "metadata": {
    "ExecuteTime": {
     "end_time": "2020-07-24T01:06:16.253048Z",
     "start_time": "2020-07-24T01:06:16.192086Z"
    }
   },
   "outputs": [
    {
     "data": {
      "text/html": [
       "<div>\n",
       "<style scoped>\n",
       "    .dataframe tbody tr th:only-of-type {\n",
       "        vertical-align: middle;\n",
       "    }\n",
       "\n",
       "    .dataframe tbody tr th {\n",
       "        vertical-align: top;\n",
       "    }\n",
       "\n",
       "    .dataframe thead th {\n",
       "        text-align: right;\n",
       "    }\n",
       "</style>\n",
       "<table border=\"1\" class=\"dataframe\">\n",
       "  <thead>\n",
       "    <tr style=\"text-align: right;\">\n",
       "      <th></th>\n",
       "      <th>survived</th>\n",
       "      <th>pclass</th>\n",
       "      <th>sex</th>\n",
       "      <th>age</th>\n",
       "      <th>sibsp</th>\n",
       "      <th>parch</th>\n",
       "      <th>fare</th>\n",
       "      <th>embarked</th>\n",
       "      <th>class</th>\n",
       "      <th>who</th>\n",
       "      <th>adult_male</th>\n",
       "      <th>alive</th>\n",
       "      <th>alone</th>\n",
       "      <th>Name</th>\n",
       "      <th>title</th>\n",
       "    </tr>\n",
       "  </thead>\n",
       "  <tbody>\n",
       "    <tr>\n",
       "      <th>0</th>\n",
       "      <td>0</td>\n",
       "      <td>3</td>\n",
       "      <td>male</td>\n",
       "      <td>22.0</td>\n",
       "      <td>1</td>\n",
       "      <td>0</td>\n",
       "      <td>7.2500</td>\n",
       "      <td>S</td>\n",
       "      <td>Third</td>\n",
       "      <td>man</td>\n",
       "      <td>True</td>\n",
       "      <td>no</td>\n",
       "      <td>False</td>\n",
       "      <td>Braund, Mr. Owen Harris</td>\n",
       "      <td>Mr</td>\n",
       "    </tr>\n",
       "    <tr>\n",
       "      <th>1</th>\n",
       "      <td>1</td>\n",
       "      <td>1</td>\n",
       "      <td>female</td>\n",
       "      <td>38.0</td>\n",
       "      <td>1</td>\n",
       "      <td>0</td>\n",
       "      <td>71.2833</td>\n",
       "      <td>C</td>\n",
       "      <td>First</td>\n",
       "      <td>woman</td>\n",
       "      <td>False</td>\n",
       "      <td>yes</td>\n",
       "      <td>False</td>\n",
       "      <td>Cumings, Mrs. John Bradley (Florence Briggs Th...</td>\n",
       "      <td>Mrs</td>\n",
       "    </tr>\n",
       "    <tr>\n",
       "      <th>2</th>\n",
       "      <td>1</td>\n",
       "      <td>3</td>\n",
       "      <td>female</td>\n",
       "      <td>26.0</td>\n",
       "      <td>0</td>\n",
       "      <td>0</td>\n",
       "      <td>7.9250</td>\n",
       "      <td>S</td>\n",
       "      <td>Third</td>\n",
       "      <td>woman</td>\n",
       "      <td>False</td>\n",
       "      <td>yes</td>\n",
       "      <td>True</td>\n",
       "      <td>Heikkinen, Miss. Laina</td>\n",
       "      <td>Miss</td>\n",
       "    </tr>\n",
       "    <tr>\n",
       "      <th>3</th>\n",
       "      <td>1</td>\n",
       "      <td>1</td>\n",
       "      <td>female</td>\n",
       "      <td>35.0</td>\n",
       "      <td>1</td>\n",
       "      <td>0</td>\n",
       "      <td>53.1000</td>\n",
       "      <td>S</td>\n",
       "      <td>First</td>\n",
       "      <td>woman</td>\n",
       "      <td>False</td>\n",
       "      <td>yes</td>\n",
       "      <td>False</td>\n",
       "      <td>Futrelle, Mrs. Jacques Heath (Lily May Peel)</td>\n",
       "      <td>Mrs</td>\n",
       "    </tr>\n",
       "    <tr>\n",
       "      <th>4</th>\n",
       "      <td>0</td>\n",
       "      <td>3</td>\n",
       "      <td>male</td>\n",
       "      <td>35.0</td>\n",
       "      <td>0</td>\n",
       "      <td>0</td>\n",
       "      <td>8.0500</td>\n",
       "      <td>S</td>\n",
       "      <td>Third</td>\n",
       "      <td>man</td>\n",
       "      <td>True</td>\n",
       "      <td>no</td>\n",
       "      <td>True</td>\n",
       "      <td>Allen, Mr. William Henry</td>\n",
       "      <td>Mr</td>\n",
       "    </tr>\n",
       "    <tr>\n",
       "      <th>...</th>\n",
       "      <td>...</td>\n",
       "      <td>...</td>\n",
       "      <td>...</td>\n",
       "      <td>...</td>\n",
       "      <td>...</td>\n",
       "      <td>...</td>\n",
       "      <td>...</td>\n",
       "      <td>...</td>\n",
       "      <td>...</td>\n",
       "      <td>...</td>\n",
       "      <td>...</td>\n",
       "      <td>...</td>\n",
       "      <td>...</td>\n",
       "      <td>...</td>\n",
       "      <td>...</td>\n",
       "    </tr>\n",
       "    <tr>\n",
       "      <th>886</th>\n",
       "      <td>0</td>\n",
       "      <td>2</td>\n",
       "      <td>male</td>\n",
       "      <td>27.0</td>\n",
       "      <td>0</td>\n",
       "      <td>0</td>\n",
       "      <td>13.0000</td>\n",
       "      <td>S</td>\n",
       "      <td>Second</td>\n",
       "      <td>man</td>\n",
       "      <td>True</td>\n",
       "      <td>no</td>\n",
       "      <td>True</td>\n",
       "      <td>Montvila, Rev. Juozas</td>\n",
       "      <td>Rev</td>\n",
       "    </tr>\n",
       "    <tr>\n",
       "      <th>887</th>\n",
       "      <td>1</td>\n",
       "      <td>1</td>\n",
       "      <td>female</td>\n",
       "      <td>19.0</td>\n",
       "      <td>0</td>\n",
       "      <td>0</td>\n",
       "      <td>30.0000</td>\n",
       "      <td>S</td>\n",
       "      <td>First</td>\n",
       "      <td>woman</td>\n",
       "      <td>False</td>\n",
       "      <td>yes</td>\n",
       "      <td>True</td>\n",
       "      <td>Graham, Miss. Margaret Edith</td>\n",
       "      <td>Miss</td>\n",
       "    </tr>\n",
       "    <tr>\n",
       "      <th>888</th>\n",
       "      <td>0</td>\n",
       "      <td>3</td>\n",
       "      <td>female</td>\n",
       "      <td>NaN</td>\n",
       "      <td>1</td>\n",
       "      <td>2</td>\n",
       "      <td>23.4500</td>\n",
       "      <td>S</td>\n",
       "      <td>Third</td>\n",
       "      <td>woman</td>\n",
       "      <td>False</td>\n",
       "      <td>no</td>\n",
       "      <td>False</td>\n",
       "      <td>Johnston, Miss. Catherine Helen \"Carrie\"</td>\n",
       "      <td>Miss</td>\n",
       "    </tr>\n",
       "    <tr>\n",
       "      <th>889</th>\n",
       "      <td>1</td>\n",
       "      <td>1</td>\n",
       "      <td>male</td>\n",
       "      <td>26.0</td>\n",
       "      <td>0</td>\n",
       "      <td>0</td>\n",
       "      <td>30.0000</td>\n",
       "      <td>C</td>\n",
       "      <td>First</td>\n",
       "      <td>man</td>\n",
       "      <td>True</td>\n",
       "      <td>yes</td>\n",
       "      <td>True</td>\n",
       "      <td>Behr, Mr. Karl Howell</td>\n",
       "      <td>Mr</td>\n",
       "    </tr>\n",
       "    <tr>\n",
       "      <th>890</th>\n",
       "      <td>0</td>\n",
       "      <td>3</td>\n",
       "      <td>male</td>\n",
       "      <td>32.0</td>\n",
       "      <td>0</td>\n",
       "      <td>0</td>\n",
       "      <td>7.7500</td>\n",
       "      <td>Q</td>\n",
       "      <td>Third</td>\n",
       "      <td>man</td>\n",
       "      <td>True</td>\n",
       "      <td>no</td>\n",
       "      <td>True</td>\n",
       "      <td>Dooley, Mr. Patrick</td>\n",
       "      <td>Mr</td>\n",
       "    </tr>\n",
       "  </tbody>\n",
       "</table>\n",
       "<p>891 rows × 15 columns</p>\n",
       "</div>"
      ],
      "text/plain": [
       "     survived  pclass     sex   age  sibsp  parch     fare embarked   class  \\\n",
       "0           0       3    male  22.0      1      0   7.2500        S   Third   \n",
       "1           1       1  female  38.0      1      0  71.2833        C   First   \n",
       "2           1       3  female  26.0      0      0   7.9250        S   Third   \n",
       "3           1       1  female  35.0      1      0  53.1000        S   First   \n",
       "4           0       3    male  35.0      0      0   8.0500        S   Third   \n",
       "..        ...     ...     ...   ...    ...    ...      ...      ...     ...   \n",
       "886         0       2    male  27.0      0      0  13.0000        S  Second   \n",
       "887         1       1  female  19.0      0      0  30.0000        S   First   \n",
       "888         0       3  female   NaN      1      2  23.4500        S   Third   \n",
       "889         1       1    male  26.0      0      0  30.0000        C   First   \n",
       "890         0       3    male  32.0      0      0   7.7500        Q   Third   \n",
       "\n",
       "       who  adult_male alive  alone  \\\n",
       "0      man        True    no  False   \n",
       "1    woman       False   yes  False   \n",
       "2    woman       False   yes   True   \n",
       "3    woman       False   yes  False   \n",
       "4      man        True    no   True   \n",
       "..     ...         ...   ...    ...   \n",
       "886    man        True    no   True   \n",
       "887  woman       False   yes   True   \n",
       "888  woman       False    no  False   \n",
       "889    man        True   yes   True   \n",
       "890    man        True    no   True   \n",
       "\n",
       "                                                  Name  title  \n",
       "0                              Braund, Mr. Owen Harris     Mr  \n",
       "1    Cumings, Mrs. John Bradley (Florence Briggs Th...    Mrs  \n",
       "2                               Heikkinen, Miss. Laina   Miss  \n",
       "3         Futrelle, Mrs. Jacques Heath (Lily May Peel)    Mrs  \n",
       "4                             Allen, Mr. William Henry     Mr  \n",
       "..                                                 ...    ...  \n",
       "886                              Montvila, Rev. Juozas    Rev  \n",
       "887                       Graham, Miss. Margaret Edith   Miss  \n",
       "888           Johnston, Miss. Catherine Helen \"Carrie\"   Miss  \n",
       "889                              Behr, Mr. Karl Howell     Mr  \n",
       "890                                Dooley, Mr. Patrick     Mr  \n",
       "\n",
       "[891 rows x 15 columns]"
      ]
     },
     "execution_count": 7,
     "metadata": {},
     "output_type": "execute_result"
    }
   ],
   "source": [
    "import pandas as pd\n",
    "import seaborn as sns\n",
    "\n",
    "df = sns.load_dataset('titanic')\n",
    "n_df = pd.read_csv('train.csv')\n",
    "df = pd.concat([df,n_df['Name']],axis=1)\n",
    "appel = df['Name'].str.split(',').str[1].str.split('.')\n",
    "df['title'] = appel.str.get(0)\n",
    "\n",
    "# age_m = pd.DataFrame(round(df.groupby('title')['age'].mean(),1))\n",
    "# df = pd.merge(df, age_m, on='title',how='left')\n",
    "\n",
    "rdf = df.drop(['embark_town','deck'],axis=1)\n",
    "rdf"
   ]
  },
  {
   "cell_type": "code",
   "execution_count": 8,
   "metadata": {
    "ExecuteTime": {
     "end_time": "2020-07-24T01:06:17.031499Z",
     "start_time": "2020-07-24T01:06:16.987526Z"
    }
   },
   "outputs": [
    {
     "name": "stdout",
     "output_type": "stream",
     "text": [
      "[[166  12]\n",
      " [ 29  61]]\n",
      "0.8470149253731343\n"
     ]
    }
   ],
   "source": [
    "rdf['age'].fillna(rdf['age'].value_counts(dropna=True).idxmax(), inplace=True) # 최빈값으로 치환\n",
    "rdf['embarked'].fillna(rdf['embarked'].value_counts(dropna=True).idxmax() , inplace=True ) \n",
    "\n",
    "rdf.columns.values\n",
    "\n",
    "ndf = rdf[['survived','pclass','sex','age','sibsp','parch','embarked']]\n",
    "\n",
    "gender = pd.get_dummies(ndf.sex)\n",
    "ndf = pd.concat([ndf, gender],axis=1)\n",
    "\n",
    "oh_embarked = pd.get_dummies(ndf.embarked, prefix='town')\n",
    "ndf = pd.concat([ndf, oh_embarked], axis=1)\n",
    "ndf = ndf.drop(['embarked','sex'],axis=1,)\n",
    "\n",
    "X = ndf[['pclass','age','sibsp','parch','female','male','town_C','town_Q','town_S']]\n",
    "y = ndf.survived\n",
    "\n",
    "from sklearn import preprocessing as ppc\n",
    "X = ppc.StandardScaler().fit(X).transform(X)\n",
    "X\n",
    "\n",
    "from sklearn.model_selection import train_test_split as tts\n",
    "X_train, X_test, y_train, y_test = tts(X, y, test_size=0.3, random_state=4)\n",
    "\n",
    "from sklearn.neighbors import KNeighborsClassifier as knc\n",
    "knn = knc(n_neighbors=13)\n",
    "knn.fit(X_train, y_train)\n",
    "\n",
    "y_hat = knn.predict(X_test)\n",
    "\n",
    "from sklearn import metrics\n",
    "knn_matrix = metrics.confusion_matrix(y_test, y_hat)\n",
    "print(knn_matrix)\n",
    "\n",
    "from sklearn.metrics import accuracy_score\n",
    "accuracy = accuracy_score( y_test, y_hat)\n",
    "print(accuracy)"
   ]
  },
  {
   "cell_type": "markdown",
   "metadata": {},
   "source": [
    "### ※ 문제222. 지금 현재 타이타닉 데이터프레임의 결측치가 어느 컬럼에 있는지 확인하시오"
   ]
  },
  {
   "cell_type": "code",
   "execution_count": 10,
   "metadata": {
    "ExecuteTime": {
     "end_time": "2020-07-24T01:10:55.091039Z",
     "start_time": "2020-07-24T01:10:55.083043Z"
    }
   },
   "outputs": [
    {
     "data": {
      "text/plain": [
       "survived    0\n",
       "pclass      0\n",
       "age         0\n",
       "sibsp       0\n",
       "parch       0\n",
       "female      0\n",
       "male        0\n",
       "town_C      0\n",
       "town_Q      0\n",
       "town_S      0\n",
       "dtype: int64"
      ]
     },
     "execution_count": 10,
     "metadata": {},
     "output_type": "execute_result"
    }
   ],
   "source": [
    "ndf.isnull().sum()"
   ]
  },
  {
   "cell_type": "markdown",
   "metadata": {},
   "source": [
    "### ※ 문제222. 위의 코드에 데이터만 변경해서 kNN 모델을 생성하시오. \n",
    "    R 머신러닝 때 kNN 알고리즘 배울때 사용했던 유방암 데이터로 모델을 생성하시오\n",
    "    wisc_bc_data.csv\n",
    "    Wisconsin Hospital 데이터\n",
    "    유방암 종양의 크기와 지름, 거칠기 등에 대한 수치 데이터이며 라벨 컬럼은 diagnosis이고 B가 양성, M이 악성"
   ]
  },
  {
   "cell_type": "code",
   "execution_count": 13,
   "metadata": {
    "ExecuteTime": {
     "end_time": "2020-07-24T01:15:17.146154Z",
     "start_time": "2020-07-24T01:15:17.122168Z"
    }
   },
   "outputs": [
    {
     "name": "stdout",
     "output_type": "stream",
     "text": [
      "<class 'pandas.core.frame.DataFrame'>\n",
      "RangeIndex: 569 entries, 0 to 568\n",
      "Data columns (total 32 columns):\n",
      " #   Column             Non-Null Count  Dtype  \n",
      "---  ------             --------------  -----  \n",
      " 0   id                 569 non-null    int64  \n",
      " 1   diagnosis          569 non-null    object \n",
      " 2   radius_mean        569 non-null    float64\n",
      " 3   texture_mean       569 non-null    float64\n",
      " 4   perimeter_mean     569 non-null    float64\n",
      " 5   area_mean          569 non-null    float64\n",
      " 6   smoothness_mean    569 non-null    float64\n",
      " 7   compactness_mean   569 non-null    float64\n",
      " 8   concavity_mean     569 non-null    float64\n",
      " 9   points_mean        569 non-null    float64\n",
      " 10  symmetry_mean      569 non-null    float64\n",
      " 11  dimension_mean     569 non-null    float64\n",
      " 12  radius_se          569 non-null    float64\n",
      " 13  texture_se         569 non-null    float64\n",
      " 14  perimeter_se       569 non-null    float64\n",
      " 15  area_se            569 non-null    float64\n",
      " 16  smoothness_se      569 non-null    float64\n",
      " 17  compactness_se     569 non-null    float64\n",
      " 18  concavity_se       569 non-null    float64\n",
      " 19  points_se          569 non-null    float64\n",
      " 20  symmetry_se        569 non-null    float64\n",
      " 21  dimension_se       569 non-null    float64\n",
      " 22  radius_worst       569 non-null    float64\n",
      " 23  texture_worst      569 non-null    float64\n",
      " 24  perimeter_worst    569 non-null    float64\n",
      " 25  area_worst         569 non-null    float64\n",
      " 26  smoothness_worst   569 non-null    float64\n",
      " 27  compactness_worst  569 non-null    float64\n",
      " 28  concavity_worst    569 non-null    float64\n",
      " 29  points_worst       569 non-null    float64\n",
      " 30  symmetry_worst     569 non-null    float64\n",
      " 31  dimension_worst    569 non-null    float64\n",
      "dtypes: float64(30), int64(1), object(1)\n",
      "memory usage: 142.4+ KB\n"
     ]
    }
   ],
   "source": [
    "import pandas as pd\n",
    "df = pd.read_csv('wisc_bc_data.csv')\n",
    "df.info()"
   ]
  },
  {
   "cell_type": "markdown",
   "metadata": {},
   "source": [
    "### <b>■ 머신러닝 모델 훈련 및 예측 순서</b>\n",
    "    1. 데이터프레임 생성\n",
    "    2. 결측치 확인 및 처리\n",
    "    3. 범주형 데이터를 수치형 데이터로 변경\n",
    "    4. 정규화 또는 표준화\n",
    "    5. 훈련 데이터와 테스트 분리\n",
    "    6. 모델 훈련\n",
    "    7. 예측\n",
    "    8. 모델 평가"
   ]
  },
  {
   "cell_type": "code",
   "execution_count": 41,
   "metadata": {
    "ExecuteTime": {
     "end_time": "2020-07-24T01:32:40.336164Z",
     "start_time": "2020-07-24T01:32:40.297188Z"
    }
   },
   "outputs": [
    {
     "name": "stdout",
     "output_type": "stream",
     "text": [
      "[[108   2]\n",
      " [  0  61]]\n",
      "0.9883040935672515\n"
     ]
    }
   ],
   "source": [
    "# 1. 데이터프레임 생성\n",
    "import pandas as pd\n",
    "df = pd.read_csv('wisc_bc_data.csv')\n",
    "\n",
    "# 2. 결측치 확인 및 처리\n",
    "df.isnull().sum()\n",
    "\n",
    "# 3. 범주형 데이터를 수치형 데이터로 변경\n",
    "diag = pd.get_dummies(df.diagnosis, prefix='diag')\n",
    "df = pd.concat([df, diag],axis=1)\n",
    "\n",
    "rdf = df.drop(['diagnosis','diag_B'],axis=1)\n",
    "\n",
    "# 4. 정규화 또는 표준화\n",
    "y = df.diag_M\n",
    "X = rdf.drop('diag_M',axis=1)\n",
    "\n",
    "from sklearn import preprocessing as ppc\n",
    "X = ppc.StandardScaler().fit(X).transform(X)\n",
    "\n",
    "# 5. 훈련 데이터와 테스트 분리\n",
    "from sklearn.model_selection import train_test_split as tts\n",
    "X_train, X_test, y_train, y_test = tts(X,y,test_size=0.3,random_state=5)\n",
    "X_train.shape, X_test.shape\n",
    "\n",
    "# 6. 모델 훈련\n",
    "from sklearn.neighbors import KNeighborsClassifier as knc\n",
    "knn = knc(n_neighbors = 7)\n",
    "knn.fit(X_train, y_train)\n",
    "\n",
    "# 7. 예측\n",
    "y_hat = knn.predict(X_test)\n",
    "\n",
    "# 8. 모델 평가\n",
    "from sklearn import metrics\n",
    "knn_matrix = metrics.confusion_matrix(y_test, y_hat)\n",
    "print(knn_matrix)\n",
    "\n",
    "from sklearn.metrics import accuracy_score\n",
    "accuracy = accuracy_score( y_test, y_hat)\n",
    "print(accuracy)"
   ]
  },
  {
   "cell_type": "code",
   "execution_count": null,
   "metadata": {},
   "outputs": [],
   "source": []
  },
  {
   "cell_type": "code",
   "execution_count": null,
   "metadata": {},
   "outputs": [],
   "source": []
  },
  {
   "cell_type": "code",
   "execution_count": null,
   "metadata": {},
   "outputs": [],
   "source": []
  },
  {
   "cell_type": "code",
   "execution_count": null,
   "metadata": {},
   "outputs": [],
   "source": []
  }
 ],
 "metadata": {
  "kernelspec": {
   "display_name": "Python 3",
   "language": "python",
   "name": "python3"
  },
  "language_info": {
   "codemirror_mode": {
    "name": "ipython",
    "version": 3
   },
   "file_extension": ".py",
   "mimetype": "text/x-python",
   "name": "python",
   "nbconvert_exporter": "python",
   "pygments_lexer": "ipython3",
   "version": "3.7.6"
  },
  "toc": {
   "base_numbering": 1,
   "nav_menu": {},
   "number_sections": true,
   "sideBar": true,
   "skip_h1_title": false,
   "title_cell": "Table of Contents",
   "title_sidebar": "Contents",
   "toc_cell": false,
   "toc_position": {},
   "toc_section_display": true,
   "toc_window_display": false
  },
  "varInspector": {
   "cols": {
    "lenName": 16,
    "lenType": 16,
    "lenVar": 40
   },
   "kernels_config": {
    "python": {
     "delete_cmd_postfix": "",
     "delete_cmd_prefix": "del ",
     "library": "var_list.py",
     "varRefreshCmd": "print(var_dic_list())"
    },
    "r": {
     "delete_cmd_postfix": ") ",
     "delete_cmd_prefix": "rm(",
     "library": "var_list.r",
     "varRefreshCmd": "cat(var_dic_list()) "
    }
   },
   "types_to_exclude": [
    "module",
    "function",
    "builtin_function_or_method",
    "instance",
    "_Feature"
   ],
   "window_display": false
  }
 },
 "nbformat": 4,
 "nbformat_minor": 4
}
