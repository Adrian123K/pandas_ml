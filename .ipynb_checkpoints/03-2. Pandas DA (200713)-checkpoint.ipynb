{
 "cells": [
  {
   "cell_type": "markdown",
   "metadata": {},
   "source": [
    "## <b>■ 3장 데이터 살펴보기</b>\n",
    "    머신러닝 모델을 생성하기 전에 데이터를 살펴보면서 머신러닝 모델을 생성하기에 적합한 데이터인지 \n",
    "    어떠한 머신러닝 알고리즘을 적용해야하는 데이터인지 파악하기 위해 데이터를 살펴보는 방법을 배운다\n",
    "     ex) R : str(), summary()\n",
    "### <b>■ 3.1 데이터프레임의 내용과 자료형 확인하기</b>\n",
    "```python\n",
    "    head() : 처음 5개 행 확인\n",
    "    tail() : 마지막 5개 행 확인\n",
    "    shape() : DataFrame의 row, column 확인\n",
    "    dtype() : DataFrame의 자료형 확인\n",
    "    describe() : DataFrame의 기술통계정보 확인\n",
    "```"
   ]
  },
  {
   "cell_type": "code",
   "execution_count": 2,
   "metadata": {
    "ExecuteTime": {
     "end_time": "2020-07-13T06:31:36.386551Z",
     "start_time": "2020-07-13T06:31:36.363564Z"
    }
   },
   "outputs": [
    {
     "data": {
      "text/plain": [
       "(   empno   ename        job     mgr    hiredate   sal    comm  deptno\n",
       " 0   7839    KING  PRESIDENT     NaN  1981-11-17  5000     NaN      10\n",
       " 1   7698   BLAKE    MANAGER  7839.0  1981-05-01  2850     NaN      30\n",
       " 2   7782   CLARK    MANAGER  7839.0  1981-05-09  2450     NaN      10\n",
       " 3   7566   JONES    MANAGER  7839.0  1981-04-01  2975     NaN      20\n",
       " 4   7654  MARTIN   SALESMAN  7698.0  1981-09-10  1250  1400.0      30,\n",
       "     empno   ename      job     mgr    hiredate   sal  comm  deptno\n",
       " 9    7902    FORD  ANALYST  7566.0  1981-12-11  3000   NaN      20\n",
       " 10   7369   SMITH    CLERK  7902.0  1980-12-09   800   NaN      20\n",
       " 11   7788   SCOTT  ANALYST  7566.0  1982-12-22  3000   NaN      20\n",
       " 12   7876   ADAMS    CLERK  7788.0  1983-01-15  1100   NaN      20\n",
       " 13   7934  MILLER    CLERK  7782.0  1982-01-11  1300   NaN      10)"
      ]
     },
     "execution_count": 2,
     "metadata": {},
     "output_type": "execute_result"
    }
   ],
   "source": [
    "# 예제\n",
    "import pandas as pd\n",
    "emp=pd.read_csv('emp.csv')\n",
    "emp.head(), emp.tail()"
   ]
  },
  {
   "cell_type": "markdown",
   "metadata": {},
   "source": [
    "### ※ 문제81. emp의 위의 5개 행이 아닌 10개 행이 출력되게 하시오"
   ]
  },
  {
   "cell_type": "code",
   "execution_count": 3,
   "metadata": {
    "ExecuteTime": {
     "end_time": "2020-07-13T06:32:44.440784Z",
     "start_time": "2020-07-13T06:32:44.384754Z"
    }
   },
   "outputs": [
    {
     "data": {
      "text/html": [
       "<div>\n",
       "<style scoped>\n",
       "    .dataframe tbody tr th:only-of-type {\n",
       "        vertical-align: middle;\n",
       "    }\n",
       "\n",
       "    .dataframe tbody tr th {\n",
       "        vertical-align: top;\n",
       "    }\n",
       "\n",
       "    .dataframe thead th {\n",
       "        text-align: right;\n",
       "    }\n",
       "</style>\n",
       "<table border=\"1\" class=\"dataframe\">\n",
       "  <thead>\n",
       "    <tr style=\"text-align: right;\">\n",
       "      <th></th>\n",
       "      <th>empno</th>\n",
       "      <th>ename</th>\n",
       "      <th>job</th>\n",
       "      <th>mgr</th>\n",
       "      <th>hiredate</th>\n",
       "      <th>sal</th>\n",
       "      <th>comm</th>\n",
       "      <th>deptno</th>\n",
       "    </tr>\n",
       "  </thead>\n",
       "  <tbody>\n",
       "    <tr>\n",
       "      <th>0</th>\n",
       "      <td>7839</td>\n",
       "      <td>KING</td>\n",
       "      <td>PRESIDENT</td>\n",
       "      <td>NaN</td>\n",
       "      <td>1981-11-17</td>\n",
       "      <td>5000</td>\n",
       "      <td>NaN</td>\n",
       "      <td>10</td>\n",
       "    </tr>\n",
       "    <tr>\n",
       "      <th>1</th>\n",
       "      <td>7698</td>\n",
       "      <td>BLAKE</td>\n",
       "      <td>MANAGER</td>\n",
       "      <td>7839.0</td>\n",
       "      <td>1981-05-01</td>\n",
       "      <td>2850</td>\n",
       "      <td>NaN</td>\n",
       "      <td>30</td>\n",
       "    </tr>\n",
       "    <tr>\n",
       "      <th>2</th>\n",
       "      <td>7782</td>\n",
       "      <td>CLARK</td>\n",
       "      <td>MANAGER</td>\n",
       "      <td>7839.0</td>\n",
       "      <td>1981-05-09</td>\n",
       "      <td>2450</td>\n",
       "      <td>NaN</td>\n",
       "      <td>10</td>\n",
       "    </tr>\n",
       "    <tr>\n",
       "      <th>3</th>\n",
       "      <td>7566</td>\n",
       "      <td>JONES</td>\n",
       "      <td>MANAGER</td>\n",
       "      <td>7839.0</td>\n",
       "      <td>1981-04-01</td>\n",
       "      <td>2975</td>\n",
       "      <td>NaN</td>\n",
       "      <td>20</td>\n",
       "    </tr>\n",
       "    <tr>\n",
       "      <th>4</th>\n",
       "      <td>7654</td>\n",
       "      <td>MARTIN</td>\n",
       "      <td>SALESMAN</td>\n",
       "      <td>7698.0</td>\n",
       "      <td>1981-09-10</td>\n",
       "      <td>1250</td>\n",
       "      <td>1400.0</td>\n",
       "      <td>30</td>\n",
       "    </tr>\n",
       "    <tr>\n",
       "      <th>5</th>\n",
       "      <td>7499</td>\n",
       "      <td>ALLEN</td>\n",
       "      <td>SALESMAN</td>\n",
       "      <td>7698.0</td>\n",
       "      <td>1981-02-11</td>\n",
       "      <td>1600</td>\n",
       "      <td>300.0</td>\n",
       "      <td>30</td>\n",
       "    </tr>\n",
       "    <tr>\n",
       "      <th>6</th>\n",
       "      <td>7844</td>\n",
       "      <td>TURNER</td>\n",
       "      <td>SALESMAN</td>\n",
       "      <td>7698.0</td>\n",
       "      <td>1981-08-21</td>\n",
       "      <td>1500</td>\n",
       "      <td>0.0</td>\n",
       "      <td>30</td>\n",
       "    </tr>\n",
       "    <tr>\n",
       "      <th>7</th>\n",
       "      <td>7900</td>\n",
       "      <td>JAMES</td>\n",
       "      <td>CLERK</td>\n",
       "      <td>7698.0</td>\n",
       "      <td>1981-12-11</td>\n",
       "      <td>950</td>\n",
       "      <td>NaN</td>\n",
       "      <td>30</td>\n",
       "    </tr>\n",
       "    <tr>\n",
       "      <th>8</th>\n",
       "      <td>7521</td>\n",
       "      <td>WARD</td>\n",
       "      <td>SALESMAN</td>\n",
       "      <td>7698.0</td>\n",
       "      <td>1981-02-23</td>\n",
       "      <td>1250</td>\n",
       "      <td>500.0</td>\n",
       "      <td>30</td>\n",
       "    </tr>\n",
       "    <tr>\n",
       "      <th>9</th>\n",
       "      <td>7902</td>\n",
       "      <td>FORD</td>\n",
       "      <td>ANALYST</td>\n",
       "      <td>7566.0</td>\n",
       "      <td>1981-12-11</td>\n",
       "      <td>3000</td>\n",
       "      <td>NaN</td>\n",
       "      <td>20</td>\n",
       "    </tr>\n",
       "  </tbody>\n",
       "</table>\n",
       "</div>"
      ],
      "text/plain": [
       "   empno   ename        job     mgr    hiredate   sal    comm  deptno\n",
       "0   7839    KING  PRESIDENT     NaN  1981-11-17  5000     NaN      10\n",
       "1   7698   BLAKE    MANAGER  7839.0  1981-05-01  2850     NaN      30\n",
       "2   7782   CLARK    MANAGER  7839.0  1981-05-09  2450     NaN      10\n",
       "3   7566   JONES    MANAGER  7839.0  1981-04-01  2975     NaN      20\n",
       "4   7654  MARTIN   SALESMAN  7698.0  1981-09-10  1250  1400.0      30\n",
       "5   7499   ALLEN   SALESMAN  7698.0  1981-02-11  1600   300.0      30\n",
       "6   7844  TURNER   SALESMAN  7698.0  1981-08-21  1500     0.0      30\n",
       "7   7900   JAMES      CLERK  7698.0  1981-12-11   950     NaN      30\n",
       "8   7521    WARD   SALESMAN  7698.0  1981-02-23  1250   500.0      30\n",
       "9   7902    FORD    ANALYST  7566.0  1981-12-11  3000     NaN      20"
      ]
     },
     "execution_count": 3,
     "metadata": {},
     "output_type": "execute_result"
    }
   ],
   "source": [
    "emp.head(10)"
   ]
  },
  {
   "cell_type": "markdown",
   "metadata": {},
   "source": [
    "### ※ 문제82. emp dataFrame의 column들의 자료형을 확인하시오"
   ]
  },
  {
   "cell_type": "code",
   "execution_count": 5,
   "metadata": {
    "ExecuteTime": {
     "end_time": "2020-07-13T06:33:59.550441Z",
     "start_time": "2020-07-13T06:33:59.544444Z"
    }
   },
   "outputs": [
    {
     "data": {
      "text/plain": [
       "empno         int64\n",
       "ename        object\n",
       "job          object\n",
       "mgr         float64\n",
       "hiredate     object\n",
       "sal           int64\n",
       "comm        float64\n",
       "deptno        int64\n",
       "dtype: object"
      ]
     },
     "execution_count": 5,
     "metadata": {},
     "output_type": "execute_result"
    }
   ],
   "source": [
    "emp.dtypes"
   ]
  },
  {
   "cell_type": "markdown",
   "metadata": {},
   "source": [
    "### ※ 문제83. emp dataFrame이 몇 행 몇 열인지 확인하시오"
   ]
  },
  {
   "cell_type": "code",
   "execution_count": 7,
   "metadata": {
    "ExecuteTime": {
     "end_time": "2020-07-13T06:34:53.863069Z",
     "start_time": "2020-07-13T06:34:53.859071Z"
    }
   },
   "outputs": [
    {
     "data": {
      "text/plain": [
       "(14, 8)"
      ]
     },
     "execution_count": 7,
     "metadata": {},
     "output_type": "execute_result"
    }
   ],
   "source": [
    "emp.shape"
   ]
  },
  {
   "cell_type": "markdown",
   "metadata": {},
   "source": [
    "### ※ 문제84. emp dataFrame의 column들의 기술통계정보를 출력하시오"
   ]
  },
  {
   "cell_type": "code",
   "execution_count": 8,
   "metadata": {
    "ExecuteTime": {
     "end_time": "2020-07-13T06:36:07.261239Z",
     "start_time": "2020-07-13T06:36:07.251245Z"
    }
   },
   "outputs": [
    {
     "data": {
      "text/plain": [
       "<bound method NDFrame.describe of     empno   ename        job     mgr    hiredate   sal    comm  deptno\n",
       "0    7839    KING  PRESIDENT     NaN  1981-11-17  5000     NaN      10\n",
       "1    7698   BLAKE    MANAGER  7839.0  1981-05-01  2850     NaN      30\n",
       "2    7782   CLARK    MANAGER  7839.0  1981-05-09  2450     NaN      10\n",
       "3    7566   JONES    MANAGER  7839.0  1981-04-01  2975     NaN      20\n",
       "4    7654  MARTIN   SALESMAN  7698.0  1981-09-10  1250  1400.0      30\n",
       "5    7499   ALLEN   SALESMAN  7698.0  1981-02-11  1600   300.0      30\n",
       "6    7844  TURNER   SALESMAN  7698.0  1981-08-21  1500     0.0      30\n",
       "7    7900   JAMES      CLERK  7698.0  1981-12-11   950     NaN      30\n",
       "8    7521    WARD   SALESMAN  7698.0  1981-02-23  1250   500.0      30\n",
       "9    7902    FORD    ANALYST  7566.0  1981-12-11  3000     NaN      20\n",
       "10   7369   SMITH      CLERK  7902.0  1980-12-09   800     NaN      20\n",
       "11   7788   SCOTT    ANALYST  7566.0  1982-12-22  3000     NaN      20\n",
       "12   7876   ADAMS      CLERK  7788.0  1983-01-15  1100     NaN      20\n",
       "13   7934  MILLER      CLERK  7782.0  1982-01-11  1300     NaN      10>"
      ]
     },
     "execution_count": 8,
     "metadata": {},
     "output_type": "execute_result"
    }
   ],
   "source": [
    "emp.describe"
   ]
  },
  {
   "cell_type": "code",
   "execution_count": null,
   "metadata": {},
   "outputs": [],
   "source": []
  },
  {
   "cell_type": "code",
   "execution_count": null,
   "metadata": {},
   "outputs": [],
   "source": []
  },
  {
   "cell_type": "code",
   "execution_count": null,
   "metadata": {},
   "outputs": [],
   "source": []
  }
 ],
 "metadata": {
  "kernelspec": {
   "display_name": "Python 3",
   "language": "python",
   "name": "python3"
  },
  "language_info": {
   "codemirror_mode": {
    "name": "ipython",
    "version": 3
   },
   "file_extension": ".py",
   "mimetype": "text/x-python",
   "name": "python",
   "nbconvert_exporter": "python",
   "pygments_lexer": "ipython3",
   "version": "3.7.6"
  },
  "toc": {
   "base_numbering": 1,
   "nav_menu": {},
   "number_sections": true,
   "sideBar": true,
   "skip_h1_title": false,
   "title_cell": "Table of Contents",
   "title_sidebar": "Contents",
   "toc_cell": false,
   "toc_position": {},
   "toc_section_display": true,
   "toc_window_display": false
  },
  "varInspector": {
   "cols": {
    "lenName": 16,
    "lenType": 16,
    "lenVar": 40
   },
   "kernels_config": {
    "python": {
     "delete_cmd_postfix": "",
     "delete_cmd_prefix": "del ",
     "library": "var_list.py",
     "varRefreshCmd": "print(var_dic_list())"
    },
    "r": {
     "delete_cmd_postfix": ") ",
     "delete_cmd_prefix": "rm(",
     "library": "var_list.r",
     "varRefreshCmd": "cat(var_dic_list()) "
    }
   },
   "types_to_exclude": [
    "module",
    "function",
    "builtin_function_or_method",
    "instance",
    "_Feature"
   ],
   "window_display": false
  }
 },
 "nbformat": 4,
 "nbformat_minor": 4
}
