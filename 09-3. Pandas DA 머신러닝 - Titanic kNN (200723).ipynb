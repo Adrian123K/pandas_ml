{
 "cells": [
  {
   "cell_type": "markdown",
   "metadata": {},
   "source": [
    "# <b>■ 7장. 머신러닝 (p.284)</b>\n",
    "    파이썬으로 머신러닝 데이터 분석하는 방법\n",
    "    \n",
    "    머신러닝 데이터 분석 순서\n",
    "        1. csv file - DataFrame 생성\n",
    "        2. 결측치를 제거하거나 치환\n",
    "        3. 범주형 데이터 - 숫자형 데이터로 변환\n",
    "        4. 정규화 진행 (min-max / z-score)\n",
    "        5. 데이터를 훈련 데이터 / 테스트 데이터로 분리\n",
    "        6. 훈련 데이터로 모델 생성 (sklearn)\n",
    "        7. 테스트 데이터로 예측\n",
    "        8. 모형의 예측능력을 평가"
   ]
  },
  {
   "cell_type": "code",
   "execution_count": 25,
   "metadata": {
    "ExecuteTime": {
     "end_time": "2020-07-23T07:51:36.543409Z",
     "start_time": "2020-07-23T07:51:36.521423Z"
    }
   },
   "outputs": [
    {
     "data": {
      "text/plain": [
       "(   survived  pclass     sex   age  sibsp  parch     fare embarked  class  \\\n",
       " 0         0       3    male  22.0      1      0   7.2500        S  Third   \n",
       " 1         1       1  female  38.0      1      0  71.2833        C  First   \n",
       " 2         1       3  female  26.0      0      0   7.9250        S  Third   \n",
       " 3         1       1  female  35.0      1      0  53.1000        S  First   \n",
       " 4         0       3    male  35.0      0      0   8.0500        S  Third   \n",
       " \n",
       "      who  adult_male deck  embark_town alive  alone  \n",
       " 0    man        True  NaN  Southampton    no  False  \n",
       " 1  woman       False    C    Cherbourg   yes  False  \n",
       " 2  woman       False  NaN  Southampton   yes   True  \n",
       " 3  woman       False    C  Southampton   yes  False  \n",
       " 4    man        True  NaN  Southampton    no   True  ,\n",
       " (891, 15))"
      ]
     },
     "execution_count": 25,
     "metadata": {},
     "output_type": "execute_result"
    }
   ],
   "source": [
    "# 예제1. seaborn의 타이타닉 생존자를 예측하는 머신러닝 모델을 kNN 알고리즘으로 생성\n",
    "# 1. csv file - DataFrame 생성\n",
    "import pandas as pd\n",
    "import seaborn as sns\n",
    "\n",
    "df = sns.load_dataset('titanic') # 컬럼이 모두 다 출력될 수 있도록 열의 개수에 한도를 늘린다.\n",
    "\n",
    "pd.set_option('display.max_columns',20)\n",
    "df.head(), df.shape"
   ]
  },
  {
   "cell_type": "code",
   "execution_count": 26,
   "metadata": {
    "ExecuteTime": {
     "end_time": "2020-07-23T07:51:37.035490Z",
     "start_time": "2020-07-23T07:51:37.014502Z"
    }
   },
   "outputs": [
    {
     "name": "stdout",
     "output_type": "stream",
     "text": [
      "<class 'pandas.core.frame.DataFrame'>\n",
      "RangeIndex: 891 entries, 0 to 890\n",
      "Data columns (total 15 columns):\n",
      " #   Column       Non-Null Count  Dtype   \n",
      "---  ------       --------------  -----   \n",
      " 0   survived     891 non-null    int64   \n",
      " 1   pclass       891 non-null    int64   \n",
      " 2   sex          891 non-null    object  \n",
      " 3   age          714 non-null    float64 \n",
      " 4   sibsp        891 non-null    int64   \n",
      " 5   parch        891 non-null    int64   \n",
      " 6   fare         891 non-null    float64 \n",
      " 7   embarked     889 non-null    object  \n",
      " 8   class        891 non-null    category\n",
      " 9   who          891 non-null    object  \n",
      " 10  adult_male   891 non-null    bool    \n",
      " 11  deck         203 non-null    category\n",
      " 12  embark_town  889 non-null    object  \n",
      " 13  alive        891 non-null    object  \n",
      " 14  alone        891 non-null    bool    \n",
      "dtypes: bool(2), category(2), float64(2), int64(4), object(5)\n",
      "memory usage: 80.6+ KB\n"
     ]
    },
    {
     "data": {
      "text/plain": [
       "(714,\n",
       " survived      0\n",
       " pclass        0\n",
       " sex           0\n",
       " age           0\n",
       " sibsp         0\n",
       " parch         0\n",
       " fare          0\n",
       " embarked      2\n",
       " class         0\n",
       " who           0\n",
       " adult_male    0\n",
       " alive         0\n",
       " alone         0\n",
       " dtype: int64)"
      ]
     },
     "execution_count": 26,
     "metadata": {},
     "output_type": "execute_result"
    }
   ],
   "source": [
    "# 2. 결측치를 제거하거나 치환\n",
    "# 2.1 타이타닉 데이터프레임의 자료형을 확인\n",
    "df.info()\n",
    "# 2.2 결측치 확인\n",
    "df.isnull().sum()\n",
    "# 2.3 deck의 결측치는 전체 891개 중 688개나 되므로 삭제 / embark, embark_town은 같은 데이터이므로 embark_town 삭제\n",
    "rdf = df.drop(['embark_town','deck'],axis=1)\n",
    "rdf.columns.values\n",
    "# 2.4 age의 결측치가 177개 -> 해당 행을 삭제\n",
    "rdf = rdf.dropna(subset=['age'],how='any',axis=0,)\n",
    "len(rdf), rdf.isnull().sum()"
   ]
  },
  {
   "cell_type": "code",
   "execution_count": 68,
   "metadata": {
    "ExecuteTime": {
     "end_time": "2020-07-23T08:06:26.725938Z",
     "start_time": "2020-07-23T08:06:26.694956Z"
    }
   },
   "outputs": [
    {
     "data": {
      "text/html": [
       "<div>\n",
       "<style scoped>\n",
       "    .dataframe tbody tr th:only-of-type {\n",
       "        vertical-align: middle;\n",
       "    }\n",
       "\n",
       "    .dataframe tbody tr th {\n",
       "        vertical-align: top;\n",
       "    }\n",
       "\n",
       "    .dataframe thead th {\n",
       "        text-align: right;\n",
       "    }\n",
       "</style>\n",
       "<table border=\"1\" class=\"dataframe\">\n",
       "  <thead>\n",
       "    <tr style=\"text-align: right;\">\n",
       "      <th></th>\n",
       "      <th>survived</th>\n",
       "      <th>pclass</th>\n",
       "      <th>age</th>\n",
       "      <th>sibsp</th>\n",
       "      <th>parch</th>\n",
       "      <th>female</th>\n",
       "      <th>male</th>\n",
       "      <th>town_C</th>\n",
       "      <th>town_Q</th>\n",
       "      <th>town_S</th>\n",
       "    </tr>\n",
       "  </thead>\n",
       "  <tbody>\n",
       "    <tr>\n",
       "      <th>0</th>\n",
       "      <td>0</td>\n",
       "      <td>3</td>\n",
       "      <td>22.0</td>\n",
       "      <td>1</td>\n",
       "      <td>0</td>\n",
       "      <td>0</td>\n",
       "      <td>1</td>\n",
       "      <td>0</td>\n",
       "      <td>0</td>\n",
       "      <td>1</td>\n",
       "    </tr>\n",
       "    <tr>\n",
       "      <th>1</th>\n",
       "      <td>1</td>\n",
       "      <td>1</td>\n",
       "      <td>38.0</td>\n",
       "      <td>1</td>\n",
       "      <td>0</td>\n",
       "      <td>1</td>\n",
       "      <td>0</td>\n",
       "      <td>1</td>\n",
       "      <td>0</td>\n",
       "      <td>0</td>\n",
       "    </tr>\n",
       "    <tr>\n",
       "      <th>2</th>\n",
       "      <td>1</td>\n",
       "      <td>3</td>\n",
       "      <td>26.0</td>\n",
       "      <td>0</td>\n",
       "      <td>0</td>\n",
       "      <td>1</td>\n",
       "      <td>0</td>\n",
       "      <td>0</td>\n",
       "      <td>0</td>\n",
       "      <td>1</td>\n",
       "    </tr>\n",
       "    <tr>\n",
       "      <th>3</th>\n",
       "      <td>1</td>\n",
       "      <td>1</td>\n",
       "      <td>35.0</td>\n",
       "      <td>1</td>\n",
       "      <td>0</td>\n",
       "      <td>1</td>\n",
       "      <td>0</td>\n",
       "      <td>0</td>\n",
       "      <td>0</td>\n",
       "      <td>1</td>\n",
       "    </tr>\n",
       "    <tr>\n",
       "      <th>4</th>\n",
       "      <td>0</td>\n",
       "      <td>3</td>\n",
       "      <td>35.0</td>\n",
       "      <td>0</td>\n",
       "      <td>0</td>\n",
       "      <td>0</td>\n",
       "      <td>1</td>\n",
       "      <td>0</td>\n",
       "      <td>0</td>\n",
       "      <td>1</td>\n",
       "    </tr>\n",
       "    <tr>\n",
       "      <th>...</th>\n",
       "      <td>...</td>\n",
       "      <td>...</td>\n",
       "      <td>...</td>\n",
       "      <td>...</td>\n",
       "      <td>...</td>\n",
       "      <td>...</td>\n",
       "      <td>...</td>\n",
       "      <td>...</td>\n",
       "      <td>...</td>\n",
       "      <td>...</td>\n",
       "    </tr>\n",
       "    <tr>\n",
       "      <th>885</th>\n",
       "      <td>0</td>\n",
       "      <td>3</td>\n",
       "      <td>39.0</td>\n",
       "      <td>0</td>\n",
       "      <td>5</td>\n",
       "      <td>1</td>\n",
       "      <td>0</td>\n",
       "      <td>0</td>\n",
       "      <td>1</td>\n",
       "      <td>0</td>\n",
       "    </tr>\n",
       "    <tr>\n",
       "      <th>886</th>\n",
       "      <td>0</td>\n",
       "      <td>2</td>\n",
       "      <td>27.0</td>\n",
       "      <td>0</td>\n",
       "      <td>0</td>\n",
       "      <td>0</td>\n",
       "      <td>1</td>\n",
       "      <td>0</td>\n",
       "      <td>0</td>\n",
       "      <td>1</td>\n",
       "    </tr>\n",
       "    <tr>\n",
       "      <th>887</th>\n",
       "      <td>1</td>\n",
       "      <td>1</td>\n",
       "      <td>19.0</td>\n",
       "      <td>0</td>\n",
       "      <td>0</td>\n",
       "      <td>1</td>\n",
       "      <td>0</td>\n",
       "      <td>0</td>\n",
       "      <td>0</td>\n",
       "      <td>1</td>\n",
       "    </tr>\n",
       "    <tr>\n",
       "      <th>889</th>\n",
       "      <td>1</td>\n",
       "      <td>1</td>\n",
       "      <td>26.0</td>\n",
       "      <td>0</td>\n",
       "      <td>0</td>\n",
       "      <td>0</td>\n",
       "      <td>1</td>\n",
       "      <td>1</td>\n",
       "      <td>0</td>\n",
       "      <td>0</td>\n",
       "    </tr>\n",
       "    <tr>\n",
       "      <th>890</th>\n",
       "      <td>0</td>\n",
       "      <td>3</td>\n",
       "      <td>32.0</td>\n",
       "      <td>0</td>\n",
       "      <td>0</td>\n",
       "      <td>0</td>\n",
       "      <td>1</td>\n",
       "      <td>0</td>\n",
       "      <td>1</td>\n",
       "      <td>0</td>\n",
       "    </tr>\n",
       "  </tbody>\n",
       "</table>\n",
       "<p>714 rows × 10 columns</p>\n",
       "</div>"
      ],
      "text/plain": [
       "     survived  pclass   age  sibsp  parch  female  male  town_C  town_Q  \\\n",
       "0           0       3  22.0      1      0       0     1       0       0   \n",
       "1           1       1  38.0      1      0       1     0       1       0   \n",
       "2           1       3  26.0      0      0       1     0       0       0   \n",
       "3           1       1  35.0      1      0       1     0       0       0   \n",
       "4           0       3  35.0      0      0       0     1       0       0   \n",
       "..        ...     ...   ...    ...    ...     ...   ...     ...     ...   \n",
       "885         0       3  39.0      0      5       1     0       0       1   \n",
       "886         0       2  27.0      0      0       0     1       0       0   \n",
       "887         1       1  19.0      0      0       1     0       0       0   \n",
       "889         1       1  26.0      0      0       0     1       1       0   \n",
       "890         0       3  32.0      0      0       0     1       0       1   \n",
       "\n",
       "     town_S  \n",
       "0         1  \n",
       "1         0  \n",
       "2         1  \n",
       "3         1  \n",
       "4         1  \n",
       "..      ...  \n",
       "885       0  \n",
       "886       1  \n",
       "887       1  \n",
       "889       0  \n",
       "890       0  \n",
       "\n",
       "[714 rows x 10 columns]"
      ]
     },
     "execution_count": 68,
     "metadata": {},
     "output_type": "execute_result"
    }
   ],
   "source": [
    "# 3. 범주형 데이터 - 숫자형 데이터로 변환\n",
    "# 3.1 머신러닝 학습에 필요한 컬럼을 선택(feature selection)\n",
    "ndf = rdf[['survived','pclass','sex','age','sibsp','parch','embarked']]\n",
    "ndf.head()\n",
    "# 위의 컬럼중에서 2개(sex, embarked)가 범주형\n",
    "# 3.2 범주형 데이터를 숫자로 변환(onehot encoding)\n",
    "gender = pd.get_dummies(ndf.sex)\n",
    "ndf = pd.concat([ndf, gender],axis=1)\n",
    "oh_embarked = pd.get_dummies(ndf.embarked, prefix='town')\n",
    "# prefix='town'이라고 해야 컬럼안에 도시명으로 컬럼명이 생성\n",
    "ndf = pd.concat([ndf, oh_embarked], axis=1)\n",
    "# 3.3 범주형 컬럼을 drop한다.\n",
    "ndf = ndf.drop(['embarked','sex'],axis=1,)\n",
    "ndf"
   ]
  },
  {
   "cell_type": "code",
   "execution_count": 30,
   "metadata": {
    "ExecuteTime": {
     "end_time": "2020-07-23T07:55:17.731849Z",
     "start_time": "2020-07-23T07:55:16.972574Z"
    }
   },
   "outputs": [
    {
     "data": {
      "text/plain": [
       "array([[ 0.91123237, -0.53037664,  0.52457013, ..., -0.47180795,\n",
       "        -0.20203051,  0.53740921],\n",
       "       [-1.47636364,  0.57183099,  0.52457013, ...,  2.11950647,\n",
       "        -0.20203051, -1.86077941],\n",
       "       [ 0.91123237, -0.25482473, -0.55170307, ..., -0.47180795,\n",
       "        -0.20203051,  0.53740921],\n",
       "       ...,\n",
       "       [-1.47636364, -0.73704057, -0.55170307, ..., -0.47180795,\n",
       "        -0.20203051,  0.53740921],\n",
       "       [-1.47636364, -0.25482473, -0.55170307, ...,  2.11950647,\n",
       "        -0.20203051, -1.86077941],\n",
       "       [ 0.91123237,  0.15850313, -0.55170307, ..., -0.47180795,\n",
       "         4.94974747, -1.86077941]])"
      ]
     },
     "execution_count": 30,
     "metadata": {},
     "output_type": "execute_result"
    }
   ],
   "source": [
    "# 4. 정규화 진행 (min-max / z-score)\n",
    "# 4.1 독립변수와 종속변수로 분리\n",
    "X = ndf[['pclass','age','sibsp','parch','female','male','town_C','town_Q','town_S']]\n",
    "y = ndf.survived\n",
    "# 4.2 표준화\n",
    "from sklearn import preprocessing as ppc\n",
    "X = ppc.StandardScaler().fit(X).transform(X)\n",
    "X"
   ]
  },
  {
   "cell_type": "code",
   "execution_count": 67,
   "metadata": {
    "ExecuteTime": {
     "end_time": "2020-07-23T08:06:22.996690Z",
     "start_time": "2020-07-23T08:06:22.988694Z"
    }
   },
   "outputs": [
    {
     "data": {
      "text/plain": [
       "((499, 9), (215, 9))"
      ]
     },
     "execution_count": 67,
     "metadata": {},
     "output_type": "execute_result"
    }
   ],
   "source": [
    "# 5. 데이터를 훈련 데이터 / 테스트 데이터로 분리\n",
    "from sklearn.model_selection import train_test_split as tts\n",
    "X_train, X_test, y_train, y_test = tts(X, y, test_size=0.3, random_state=4)\n",
    "# 훈련 7, 테스트 3으로 나눈다.\n",
    "X_train.shape , X_test.shape "
   ]
  },
  {
   "cell_type": "code",
   "execution_count": 63,
   "metadata": {
    "ExecuteTime": {
     "end_time": "2020-07-23T08:06:18.628290Z",
     "start_time": "2020-07-23T08:06:18.620294Z"
    }
   },
   "outputs": [
    {
     "data": {
      "text/plain": [
       "KNeighborsClassifier(algorithm='auto', leaf_size=30, metric='minkowski',\n",
       "                     metric_params=None, n_jobs=None, n_neighbors=13, p=2,\n",
       "                     weights='uniform')"
      ]
     },
     "execution_count": 63,
     "metadata": {},
     "output_type": "execute_result"
    }
   ],
   "source": [
    "### 6. 훈련 데이터로 모델 생성 (sklearn)\n",
    "from sklearn.neighbors import KNeighborsClassifier as knc\n",
    "knn = knc(n_neighbors=13)\n",
    "knn.fit(X_train, y_train)"
   ]
  },
  {
   "cell_type": "code",
   "execution_count": 64,
   "metadata": {
    "ExecuteTime": {
     "end_time": "2020-07-23T08:06:18.812194Z",
     "start_time": "2020-07-23T08:06:18.795204Z"
    }
   },
   "outputs": [
    {
     "data": {
      "text/plain": [
       "array([0, 1, 1, 0, 0, 1, 0, 0, 1, 1], dtype=int64)"
      ]
     },
     "execution_count": 64,
     "metadata": {},
     "output_type": "execute_result"
    }
   ],
   "source": [
    "# 7. 테스트 데이터로 예측\n",
    "y_hat = knn.predict(X_test)\n",
    "y_hat[0:10]"
   ]
  },
  {
   "cell_type": "code",
   "execution_count": 65,
   "metadata": {
    "ExecuteTime": {
     "end_time": "2020-07-23T08:06:18.996140Z",
     "start_time": "2020-07-23T08:06:18.989145Z"
    }
   },
   "outputs": [
    {
     "data": {
      "text/plain": [
       "array([[109,  15],\n",
       "       [ 23,  68]], dtype=int64)"
      ]
     },
     "execution_count": 65,
     "metadata": {},
     "output_type": "execute_result"
    }
   ],
   "source": [
    "# 8. 모형의 예측능력을 평가\n",
    "from sklearn import metrics\n",
    "knn_matrix = metrics.confusion_matrix(y_test, y_hat)\n",
    "knn_matrix"
   ]
  },
  {
   "cell_type": "code",
   "execution_count": 66,
   "metadata": {
    "ExecuteTime": {
     "end_time": "2020-07-23T08:06:19.558718Z",
     "start_time": "2020-07-23T08:06:19.552722Z"
    },
    "scrolled": true
   },
   "outputs": [
    {
     "data": {
      "text/plain": [
       "0.8232558139534883"
      ]
     },
     "execution_count": 66,
     "metadata": {},
     "output_type": "execute_result"
    }
   ],
   "source": [
    "from sklearn.metrics import accuracy_score\n",
    "accuracy = accuracy_score( y_test, y_hat)\n",
    "accuracy"
   ]
  },
  {
   "cell_type": "markdown",
   "metadata": {},
   "source": [
    "### ※ 문제219. (오늘의 마지막 문제) 나이의 결측치를 호칭의 나이의 평균값으로 치환하게 되면 정확도가 더 올라가는지 확인하시오"
   ]
  },
  {
   "cell_type": "code",
   "execution_count": 123,
   "metadata": {
    "ExecuteTime": {
     "end_time": "2020-07-23T08:27:03.515487Z",
     "start_time": "2020-07-23T08:27:03.429541Z"
    },
    "scrolled": true
   },
   "outputs": [
    {
     "name": "stdout",
     "output_type": "stream",
     "text": [
      "[[170   8]\n",
      " [ 28  62]]\n",
      "0.8656716417910447\n"
     ]
    }
   ],
   "source": [
    "import pandas as pd\n",
    "import seaborn as sns\n",
    "\n",
    "df = sns.load_dataset('titanic')\n",
    "n_df = pd.read_csv('train.csv')\n",
    "df = pd.concat([df,n_df['Name']],axis=1)\n",
    "appel = df['Name'].str.split(',').str[1].str.split('.')\n",
    "df['title'] = appel.str.get(0)\n",
    "\n",
    "age_m = pd.DataFrame(round(df.groupby('title')['age'].mean(),1))\n",
    "df = pd.merge(df, age_m, on='title',how='left')\n",
    "df.age_x.fillna(df.age_y, inplace=True)\n",
    "\n",
    "rdf = df.drop(['embark_town','deck'],axis=1)\n",
    "rdf.columns.values\n",
    "\n",
    "ndf = rdf[['survived','pclass','sex','age_x','sibsp','parch','embarked']]\n",
    "\n",
    "gender = pd.get_dummies(ndf.sex)\n",
    "ndf = pd.concat([ndf, gender],axis=1)\n",
    "\n",
    "oh_embarked = pd.get_dummies(ndf.embarked, prefix='town')\n",
    "ndf = pd.concat([ndf, oh_embarked], axis=1)\n",
    "ndf = ndf.drop(['embarked','sex'],axis=1,)\n",
    "\n",
    "X = ndf[['pclass','age_x','sibsp','parch','female','male','town_C','town_Q','town_S']]\n",
    "y = ndf.survived\n",
    "\n",
    "from sklearn import preprocessing as ppc\n",
    "X = ppc.StandardScaler().fit(X).transform(X)\n",
    "X\n",
    "\n",
    "from sklearn.model_selection import train_test_split as tts\n",
    "X_train, X_test, y_train, y_test = tts(X, y, test_size=0.3, random_state=4)\n",
    "\n",
    "from sklearn.neighbors import KNeighborsClassifier as knc\n",
    "knn = knc(n_neighbors=13)\n",
    "knn.fit(X_train, y_train)\n",
    "\n",
    "y_hat = knn.predict(X_test)\n",
    "\n",
    "from sklearn import metrics\n",
    "knn_matrix = metrics.confusion_matrix(y_test, y_hat)\n",
    "print(knn_matrix)\n",
    "\n",
    "from sklearn.metrics import accuracy_score\n",
    "accuracy = accuracy_score( y_test, y_hat)\n",
    "print(accuracy)"
   ]
  },
  {
   "cell_type": "code",
   "execution_count": null,
   "metadata": {},
   "outputs": [],
   "source": []
  },
  {
   "cell_type": "code",
   "execution_count": 69,
   "metadata": {
    "ExecuteTime": {
     "end_time": "2020-07-23T08:07:53.713593Z",
     "start_time": "2020-07-23T08:07:53.643638Z"
    }
   },
   "outputs": [
    {
     "name": "stdout",
     "output_type": "stream",
     "text": [
      "<class 'pandas.core.frame.DataFrame'>\n",
      "RangeIndex: 891 entries, 0 to 890\n",
      "Data columns (total 15 columns):\n",
      " #   Column       Non-Null Count  Dtype   \n",
      "---  ------       --------------  -----   \n",
      " 0   survived     891 non-null    int64   \n",
      " 1   pclass       891 non-null    int64   \n",
      " 2   sex          891 non-null    object  \n",
      " 3   age          714 non-null    float64 \n",
      " 4   sibsp        891 non-null    int64   \n",
      " 5   parch        891 non-null    int64   \n",
      " 6   fare         891 non-null    float64 \n",
      " 7   embarked     889 non-null    object  \n",
      " 8   class        891 non-null    category\n",
      " 9   who          891 non-null    object  \n",
      " 10  adult_male   891 non-null    bool    \n",
      " 11  deck         203 non-null    category\n",
      " 12  embark_town  889 non-null    object  \n",
      " 13  alive        891 non-null    object  \n",
      " 14  alone        891 non-null    bool    \n",
      "dtypes: bool(2), category(2), float64(2), int64(4), object(5)\n",
      "memory usage: 80.6+ KB\n"
     ]
    },
    {
     "data": {
      "text/plain": [
       "0.8232558139534883"
      ]
     },
     "execution_count": 69,
     "metadata": {},
     "output_type": "execute_result"
    }
   ],
   "source": [
    "# 예제1. seaborn의 타이타닉 생존자를 예측하는 머신러닝 모델을 kNN 알고리즘으로 생성\n",
    "# 1. csv file - DataFrame 생성\n",
    "import pandas as pd\n",
    "import seaborn as sns\n",
    "\n",
    "df = sns.load_dataset('titanic') # 컬럼이 모두 다 출력될 수 있도록 열의 개수에 한도를 늘린다.\n",
    "\n",
    "pd.set_option('display.max_columns',20)\n",
    "df.head(), df.shape\n",
    "\n",
    "# 2. 결측치를 제거하거나 치환\n",
    "# 2.1 타이타닉 데이터프레임의 자료형을 확인\n",
    "df.info()\n",
    "# 2.2 결측치 확인\n",
    "df.isnull().sum()\n",
    "# 2.3 deck의 결측치는 전체 891개 중 688개나 되므로 삭제 / embark, embark_town은 같은 데이터이므로 embark_town 삭제\n",
    "rdf = df.drop(['embark_town','deck'],axis=1)\n",
    "rdf.columns.values\n",
    "# 2.4 age의 결측치가 177개 -> 해당 행을 삭제\n",
    "rdf = rdf.dropna(subset=['age'],how='any',axis=0,)\n",
    "len(rdf), rdf.isnull().sum()\n",
    "\n",
    "# 3. 범주형 데이터 - 숫자형 데이터로 변환\n",
    "# 3.1 머신러닝 학습에 필요한 컬럼을 선택(feature selection)\n",
    "ndf = rdf[['survived','pclass','sex','age','sibsp','parch','embarked']]\n",
    "ndf.head()\n",
    "# 위의 컬럼중에서 2개(sex, embarked)가 범주형\n",
    "# 3.2 범주형 데이터를 숫자로 변환(onehot encoding)\n",
    "gender = pd.get_dummies(ndf.sex)\n",
    "ndf = pd.concat([ndf, gender],axis=1)\n",
    "oh_embarked = pd.get_dummies(ndf.embarked, prefix='town')\n",
    "# prefix='town'이라고 해야 컬럼안에 도시명으로 컬럼명이 생성\n",
    "ndf = pd.concat([ndf, oh_embarked], axis=1)\n",
    "# 3.3 범주형 컬럼을 drop한다.\n",
    "ndf = ndf.drop(['embarked','sex'],axis=1,)\n",
    "ndf\n",
    "\n",
    "# 4. 정규화 진행 (min-max / z-score)\n",
    "# 4.1 독립변수와 종속변수로 분리\n",
    "X = ndf[['pclass','age','sibsp','parch','female','male','town_C','town_Q','town_S']]\n",
    "y = ndf.survived\n",
    "# 4.2 표준화\n",
    "from sklearn import preprocessing as ppc\n",
    "X = ppc.StandardScaler().fit(X).transform(X)\n",
    "X\n",
    "\n",
    "# 5. 데이터를 훈련 데이터 / 테스트 데이터로 분리\n",
    "from sklearn.model_selection import train_test_split as tts\n",
    "X_train, X_test, y_train, y_test = tts(X, y, test_size=0.3, random_state=4)\n",
    "# 훈련 7, 테스트 3으로 나눈다.\n",
    "X_train.shape , X_test.shape \n",
    "\n",
    "### 6. 훈련 데이터로 모델 생성 (sklearn)\n",
    "from sklearn.neighbors import KNeighborsClassifier as knc\n",
    "knn = knc(n_neighbors=13)\n",
    "knn.fit(X_train, y_train)\n",
    "\n",
    "# 7. 테스트 데이터로 예측\n",
    "y_hat = knn.predict(X_test)\n",
    "y_hat[0:10]\n",
    "\n",
    "# 8. 모형의 예측능력을 평가\n",
    "from sklearn import metrics\n",
    "knn_matrix = metrics.confusion_matrix(y_test, y_hat)\n",
    "knn_matrix\n",
    "\n",
    "from sklearn.metrics import accuracy_score\n",
    "accuracy = accuracy_score( y_test, y_hat)\n",
    "accuracy"
   ]
  }
 ],
 "metadata": {
  "kernelspec": {
   "display_name": "Python 3",
   "language": "python",
   "name": "python3"
  },
  "language_info": {
   "codemirror_mode": {
    "name": "ipython",
    "version": 3
   },
   "file_extension": ".py",
   "mimetype": "text/x-python",
   "name": "python",
   "nbconvert_exporter": "python",
   "pygments_lexer": "ipython3",
   "version": "3.7.6"
  },
  "toc": {
   "base_numbering": 1,
   "nav_menu": {},
   "number_sections": true,
   "sideBar": true,
   "skip_h1_title": false,
   "title_cell": "Table of Contents",
   "title_sidebar": "Contents",
   "toc_cell": false,
   "toc_position": {},
   "toc_section_display": true,
   "toc_window_display": false
  },
  "varInspector": {
   "cols": {
    "lenName": 16,
    "lenType": 16,
    "lenVar": 40
   },
   "kernels_config": {
    "python": {
     "delete_cmd_postfix": "",
     "delete_cmd_prefix": "del ",
     "library": "var_list.py",
     "varRefreshCmd": "print(var_dic_list())"
    },
    "r": {
     "delete_cmd_postfix": ") ",
     "delete_cmd_prefix": "rm(",
     "library": "var_list.r",
     "varRefreshCmd": "cat(var_dic_list()) "
    }
   },
   "types_to_exclude": [
    "module",
    "function",
    "builtin_function_or_method",
    "instance",
    "_Feature"
   ],
   "window_display": false
  }
 },
 "nbformat": 4,
 "nbformat_minor": 4
}
