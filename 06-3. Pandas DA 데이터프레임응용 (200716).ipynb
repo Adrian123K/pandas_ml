{
 "cells": [
  {
   "cell_type": "markdown",
   "metadata": {},
   "source": [
    "## <b> ■ 6장. 데이터프레임의 다양한 응용</b>\n",
    "    파생변수 생성하는 방법\n",
    "    \n",
    "    1. 개별원소에 함수 매핑\n",
    "    2. 시리즈 객체의 함수 매핑\n",
    "    3. 열의 재구성\n",
    "    4. 필터링\n",
    "    5. 데이터프레임 합치기\n",
    "    6. 그룹연산    "
   ]
  },
  {
   "cell_type": "markdown",
   "metadata": {},
   "source": [
    "### <b> ■ 개별원소에 함수 매핑</b>\n",
    "    1. 시리즈 원소에 함수 매핑\n",
    "        문법\n",
    "            시리즈객체.apply('매핑함수')\n",
    "        \n",
    "        시리즈 객체에 apply() 메소드를 적용하면 인자로 전달하는 매핑함수에 시리즈의 모든 원소를 하나씩 입력하고 함수의 리턴값을 돌려받는다.\n",
    "```python\n",
    "def add_10(n):\n",
    "    return n+10\n",
    "\n",
    "import seaborn as sns\n",
    "tit = sns.load_dataset('titanic')\n",
    "sr1 = tit.age.apply(add_10)\n",
    "sr1\n",
    "```\n",
    "    2. 데이터프레임 원소에 함수 매핑\n",
    "        문법\n",
    "            데이터프레임객체.applymap('매핑함수')\n",
    "            \n",
    "        데이터프레임의 apply(axis=0) 메소드를 적용하면 모든 열을 하나씩 분리하여 매핑함수의 인자로 열(시리즈)에 전달된다.\n",
    "```python\n",
    "import seaborn as sns\n",
    "\n",
    "tit = sns.load_dataset('titanic')\n",
    "df = tit.loc[:,['age','fare']]\n",
    "\n",
    "def add_10(n):\n",
    "    return n+10\n",
    "\n",
    "df_map = df.applymap(add_10)\n",
    "df_map.head()\n",
    "```"
   ]
  },
  {
   "cell_type": "code",
   "execution_count": 1,
   "metadata": {
    "ExecuteTime": {
     "end_time": "2020-07-16T07:00:44.470379Z",
     "start_time": "2020-07-16T07:00:32.263699Z"
    }
   },
   "outputs": [
    {
     "data": {
      "text/plain": [
       "0      32.0\n",
       "1      48.0\n",
       "2      36.0\n",
       "3      45.0\n",
       "4      45.0\n",
       "       ... \n",
       "886    37.0\n",
       "887    29.0\n",
       "888     NaN\n",
       "889    36.0\n",
       "890    42.0\n",
       "Name: age, Length: 891, dtype: float64"
      ]
     },
     "execution_count": 1,
     "metadata": {},
     "output_type": "execute_result"
    }
   ],
   "source": [
    "def add_10(n):\n",
    "    return n+10\n",
    "\n",
    "import seaborn as sns\n",
    "tit = sns.load_dataset('titanic')\n",
    "sr1 = tit.age.apply(add_10)\n",
    "sr1"
   ]
  },
  {
   "cell_type": "markdown",
   "metadata": {},
   "source": [
    "### ※ 문제176. 타이타닉 데이터프레임의 age2라는 파생변수를 생성하는데 기존 나이에 10살을 추가한 파생변수를 생성하시오"
   ]
  },
  {
   "cell_type": "code",
   "execution_count": 2,
   "metadata": {
    "ExecuteTime": {
     "end_time": "2020-07-16T07:03:43.964475Z",
     "start_time": "2020-07-16T07:03:43.856338Z"
    }
   },
   "outputs": [
    {
     "data": {
      "text/html": [
       "<div>\n",
       "<style scoped>\n",
       "    .dataframe tbody tr th:only-of-type {\n",
       "        vertical-align: middle;\n",
       "    }\n",
       "\n",
       "    .dataframe tbody tr th {\n",
       "        vertical-align: top;\n",
       "    }\n",
       "\n",
       "    .dataframe thead th {\n",
       "        text-align: right;\n",
       "    }\n",
       "</style>\n",
       "<table border=\"1\" class=\"dataframe\">\n",
       "  <thead>\n",
       "    <tr style=\"text-align: right;\">\n",
       "      <th></th>\n",
       "      <th>survived</th>\n",
       "      <th>pclass</th>\n",
       "      <th>sex</th>\n",
       "      <th>age</th>\n",
       "      <th>sibsp</th>\n",
       "      <th>parch</th>\n",
       "      <th>fare</th>\n",
       "      <th>embarked</th>\n",
       "      <th>class</th>\n",
       "      <th>who</th>\n",
       "      <th>adult_male</th>\n",
       "      <th>deck</th>\n",
       "      <th>embark_town</th>\n",
       "      <th>alive</th>\n",
       "      <th>alone</th>\n",
       "      <th>age2</th>\n",
       "    </tr>\n",
       "  </thead>\n",
       "  <tbody>\n",
       "    <tr>\n",
       "      <th>0</th>\n",
       "      <td>0</td>\n",
       "      <td>3</td>\n",
       "      <td>male</td>\n",
       "      <td>22.0</td>\n",
       "      <td>1</td>\n",
       "      <td>0</td>\n",
       "      <td>7.2500</td>\n",
       "      <td>S</td>\n",
       "      <td>Third</td>\n",
       "      <td>man</td>\n",
       "      <td>True</td>\n",
       "      <td>NaN</td>\n",
       "      <td>Southampton</td>\n",
       "      <td>no</td>\n",
       "      <td>False</td>\n",
       "      <td>32.0</td>\n",
       "    </tr>\n",
       "    <tr>\n",
       "      <th>1</th>\n",
       "      <td>1</td>\n",
       "      <td>1</td>\n",
       "      <td>female</td>\n",
       "      <td>38.0</td>\n",
       "      <td>1</td>\n",
       "      <td>0</td>\n",
       "      <td>71.2833</td>\n",
       "      <td>C</td>\n",
       "      <td>First</td>\n",
       "      <td>woman</td>\n",
       "      <td>False</td>\n",
       "      <td>C</td>\n",
       "      <td>Cherbourg</td>\n",
       "      <td>yes</td>\n",
       "      <td>False</td>\n",
       "      <td>48.0</td>\n",
       "    </tr>\n",
       "    <tr>\n",
       "      <th>2</th>\n",
       "      <td>1</td>\n",
       "      <td>3</td>\n",
       "      <td>female</td>\n",
       "      <td>26.0</td>\n",
       "      <td>0</td>\n",
       "      <td>0</td>\n",
       "      <td>7.9250</td>\n",
       "      <td>S</td>\n",
       "      <td>Third</td>\n",
       "      <td>woman</td>\n",
       "      <td>False</td>\n",
       "      <td>NaN</td>\n",
       "      <td>Southampton</td>\n",
       "      <td>yes</td>\n",
       "      <td>True</td>\n",
       "      <td>36.0</td>\n",
       "    </tr>\n",
       "    <tr>\n",
       "      <th>3</th>\n",
       "      <td>1</td>\n",
       "      <td>1</td>\n",
       "      <td>female</td>\n",
       "      <td>35.0</td>\n",
       "      <td>1</td>\n",
       "      <td>0</td>\n",
       "      <td>53.1000</td>\n",
       "      <td>S</td>\n",
       "      <td>First</td>\n",
       "      <td>woman</td>\n",
       "      <td>False</td>\n",
       "      <td>C</td>\n",
       "      <td>Southampton</td>\n",
       "      <td>yes</td>\n",
       "      <td>False</td>\n",
       "      <td>45.0</td>\n",
       "    </tr>\n",
       "    <tr>\n",
       "      <th>4</th>\n",
       "      <td>0</td>\n",
       "      <td>3</td>\n",
       "      <td>male</td>\n",
       "      <td>35.0</td>\n",
       "      <td>0</td>\n",
       "      <td>0</td>\n",
       "      <td>8.0500</td>\n",
       "      <td>S</td>\n",
       "      <td>Third</td>\n",
       "      <td>man</td>\n",
       "      <td>True</td>\n",
       "      <td>NaN</td>\n",
       "      <td>Southampton</td>\n",
       "      <td>no</td>\n",
       "      <td>True</td>\n",
       "      <td>45.0</td>\n",
       "    </tr>\n",
       "  </tbody>\n",
       "</table>\n",
       "</div>"
      ],
      "text/plain": [
       "   survived  pclass     sex   age  sibsp  parch     fare embarked  class  \\\n",
       "0         0       3    male  22.0      1      0   7.2500        S  Third   \n",
       "1         1       1  female  38.0      1      0  71.2833        C  First   \n",
       "2         1       3  female  26.0      0      0   7.9250        S  Third   \n",
       "3         1       1  female  35.0      1      0  53.1000        S  First   \n",
       "4         0       3    male  35.0      0      0   8.0500        S  Third   \n",
       "\n",
       "     who  adult_male deck  embark_town alive  alone  age2  \n",
       "0    man        True  NaN  Southampton    no  False  32.0  \n",
       "1  woman       False    C    Cherbourg   yes  False  48.0  \n",
       "2  woman       False  NaN  Southampton   yes   True  36.0  \n",
       "3  woman       False    C  Southampton   yes  False  45.0  \n",
       "4    man        True  NaN  Southampton    no   True  45.0  "
      ]
     },
     "execution_count": 2,
     "metadata": {},
     "output_type": "execute_result"
    }
   ],
   "source": [
    "def add_10(n):\n",
    "    return n+10\n",
    "\n",
    "import seaborn as sns\n",
    "\n",
    "tit = sns.load_dataset('titanic')\n",
    "tit['age2'] = tit.age.apply(add_10)\n",
    "tit.head()"
   ]
  },
  {
   "cell_type": "markdown",
   "metadata": {},
   "source": [
    "### ※ 문제177. 미국국민의 의료비(insurance.csv)를 Pandas 데이터프레임으로 생성하고 나이가 많을수록 의료비가 많이 드는지 회귀분석 모델로 확인하기 위하여 age2라는 파생변수를 생성하고 기존 나이의 제곱으로 데이터를 생성하시오"
   ]
  },
  {
   "cell_type": "code",
   "execution_count": 4,
   "metadata": {
    "ExecuteTime": {
     "end_time": "2020-07-16T07:07:09.547221Z",
     "start_time": "2020-07-16T07:07:09.532230Z"
    }
   },
   "outputs": [
    {
     "data": {
      "text/plain": [
       "0        361\n",
       "1        324\n",
       "2        784\n",
       "3       1089\n",
       "4       1024\n",
       "        ... \n",
       "1333    2500\n",
       "1334     324\n",
       "1335     324\n",
       "1336     441\n",
       "1337    3721\n",
       "Name: age2, Length: 1338, dtype: int64"
      ]
     },
     "execution_count": 4,
     "metadata": {},
     "output_type": "execute_result"
    }
   ],
   "source": [
    "def age_sq(n):\n",
    "    return n**2\n",
    "\n",
    "import pandas as pd\n",
    "\n",
    "ins = pd.read_csv('insurance.csv',header=0)\n",
    "ins['age2']=ins.age.apply(age_sq)\n",
    "ins.age2"
   ]
  },
  {
   "cell_type": "code",
   "execution_count": 5,
   "metadata": {
    "ExecuteTime": {
     "end_time": "2020-07-16T07:14:02.191938Z",
     "start_time": "2020-07-16T07:14:01.992062Z"
    }
   },
   "outputs": [
    {
     "data": {
      "text/html": [
       "<div>\n",
       "<style scoped>\n",
       "    .dataframe tbody tr th:only-of-type {\n",
       "        vertical-align: middle;\n",
       "    }\n",
       "\n",
       "    .dataframe tbody tr th {\n",
       "        vertical-align: top;\n",
       "    }\n",
       "\n",
       "    .dataframe thead th {\n",
       "        text-align: right;\n",
       "    }\n",
       "</style>\n",
       "<table border=\"1\" class=\"dataframe\">\n",
       "  <thead>\n",
       "    <tr style=\"text-align: right;\">\n",
       "      <th></th>\n",
       "      <th>age</th>\n",
       "      <th>fare</th>\n",
       "    </tr>\n",
       "  </thead>\n",
       "  <tbody>\n",
       "    <tr>\n",
       "      <th>0</th>\n",
       "      <td>32.0</td>\n",
       "      <td>17.2500</td>\n",
       "    </tr>\n",
       "    <tr>\n",
       "      <th>1</th>\n",
       "      <td>48.0</td>\n",
       "      <td>81.2833</td>\n",
       "    </tr>\n",
       "    <tr>\n",
       "      <th>2</th>\n",
       "      <td>36.0</td>\n",
       "      <td>17.9250</td>\n",
       "    </tr>\n",
       "    <tr>\n",
       "      <th>3</th>\n",
       "      <td>45.0</td>\n",
       "      <td>63.1000</td>\n",
       "    </tr>\n",
       "    <tr>\n",
       "      <th>4</th>\n",
       "      <td>45.0</td>\n",
       "      <td>18.0500</td>\n",
       "    </tr>\n",
       "  </tbody>\n",
       "</table>\n",
       "</div>"
      ],
      "text/plain": [
       "    age     fare\n",
       "0  32.0  17.2500\n",
       "1  48.0  81.2833\n",
       "2  36.0  17.9250\n",
       "3  45.0  63.1000\n",
       "4  45.0  18.0500"
      ]
     },
     "execution_count": 5,
     "metadata": {},
     "output_type": "execute_result"
    }
   ],
   "source": [
    "import seaborn as sns\n",
    "\n",
    "tit = sns.load_dataset('titanic')\n",
    "df = tit.loc[:,['age','fare']]\n",
    "\n",
    "def add_10(n):\n",
    "    return n+10\n",
    "\n",
    "df_map = df.applymap(add_10)\n",
    "df_map.head()"
   ]
  },
  {
   "cell_type": "markdown",
   "metadata": {},
   "source": [
    "### ※ 문제178. kaggle의 타이타닉 데이터에서 이름과 이름의 길이를 출력하시오"
   ]
  },
  {
   "cell_type": "code",
   "execution_count": 10,
   "metadata": {
    "ExecuteTime": {
     "end_time": "2020-07-16T07:18:55.219394Z",
     "start_time": "2020-07-16T07:18:55.199407Z"
    }
   },
   "outputs": [
    {
     "data": {
      "text/html": [
       "<div>\n",
       "<style scoped>\n",
       "    .dataframe tbody tr th:only-of-type {\n",
       "        vertical-align: middle;\n",
       "    }\n",
       "\n",
       "    .dataframe tbody tr th {\n",
       "        vertical-align: top;\n",
       "    }\n",
       "\n",
       "    .dataframe thead th {\n",
       "        text-align: right;\n",
       "    }\n",
       "</style>\n",
       "<table border=\"1\" class=\"dataframe\">\n",
       "  <thead>\n",
       "    <tr style=\"text-align: right;\">\n",
       "      <th></th>\n",
       "      <th>Name</th>\n",
       "      <th>N_length</th>\n",
       "    </tr>\n",
       "  </thead>\n",
       "  <tbody>\n",
       "    <tr>\n",
       "      <th>0</th>\n",
       "      <td>Braund, Mr. Owen Harris</td>\n",
       "      <td>23</td>\n",
       "    </tr>\n",
       "    <tr>\n",
       "      <th>1</th>\n",
       "      <td>Cumings, Mrs. John Bradley (Florence Briggs Th...</td>\n",
       "      <td>51</td>\n",
       "    </tr>\n",
       "    <tr>\n",
       "      <th>2</th>\n",
       "      <td>Heikkinen, Miss. Laina</td>\n",
       "      <td>22</td>\n",
       "    </tr>\n",
       "    <tr>\n",
       "      <th>3</th>\n",
       "      <td>Futrelle, Mrs. Jacques Heath (Lily May Peel)</td>\n",
       "      <td>44</td>\n",
       "    </tr>\n",
       "    <tr>\n",
       "      <th>4</th>\n",
       "      <td>Allen, Mr. William Henry</td>\n",
       "      <td>24</td>\n",
       "    </tr>\n",
       "    <tr>\n",
       "      <th>...</th>\n",
       "      <td>...</td>\n",
       "      <td>...</td>\n",
       "    </tr>\n",
       "    <tr>\n",
       "      <th>886</th>\n",
       "      <td>Montvila, Rev. Juozas</td>\n",
       "      <td>21</td>\n",
       "    </tr>\n",
       "    <tr>\n",
       "      <th>887</th>\n",
       "      <td>Graham, Miss. Margaret Edith</td>\n",
       "      <td>28</td>\n",
       "    </tr>\n",
       "    <tr>\n",
       "      <th>888</th>\n",
       "      <td>Johnston, Miss. Catherine Helen \"Carrie\"</td>\n",
       "      <td>40</td>\n",
       "    </tr>\n",
       "    <tr>\n",
       "      <th>889</th>\n",
       "      <td>Behr, Mr. Karl Howell</td>\n",
       "      <td>21</td>\n",
       "    </tr>\n",
       "    <tr>\n",
       "      <th>890</th>\n",
       "      <td>Dooley, Mr. Patrick</td>\n",
       "      <td>19</td>\n",
       "    </tr>\n",
       "  </tbody>\n",
       "</table>\n",
       "<p>891 rows × 2 columns</p>\n",
       "</div>"
      ],
      "text/plain": [
       "                                                  Name  N_length\n",
       "0                              Braund, Mr. Owen Harris        23\n",
       "1    Cumings, Mrs. John Bradley (Florence Briggs Th...        51\n",
       "2                               Heikkinen, Miss. Laina        22\n",
       "3         Futrelle, Mrs. Jacques Heath (Lily May Peel)        44\n",
       "4                             Allen, Mr. William Henry        24\n",
       "..                                                 ...       ...\n",
       "886                              Montvila, Rev. Juozas        21\n",
       "887                       Graham, Miss. Margaret Edith        28\n",
       "888           Johnston, Miss. Catherine Helen \"Carrie\"        40\n",
       "889                              Behr, Mr. Karl Howell        21\n",
       "890                                Dooley, Mr. Patrick        19\n",
       "\n",
       "[891 rows x 2 columns]"
      ]
     },
     "execution_count": 10,
     "metadata": {},
     "output_type": "execute_result"
    }
   ],
   "source": [
    "import pandas as pd\n",
    "\n",
    "tit = pd.read_csv('train.csv')\n",
    "\n",
    "tit['N_length'] = tit.Name.apply(len)\n",
    "tit[['Name','N_length']]"
   ]
  },
  {
   "cell_type": "markdown",
   "metadata": {},
   "source": [
    "### ※ 문제179.위의 결과를 다시 출력하는데 이름의 길이가 가장 긴 승객부터 출력하시오"
   ]
  },
  {
   "cell_type": "code",
   "execution_count": 14,
   "metadata": {
    "ExecuteTime": {
     "end_time": "2020-07-16T07:21:01.881246Z",
     "start_time": "2020-07-16T07:21:01.860259Z"
    }
   },
   "outputs": [
    {
     "data": {
      "text/html": [
       "<div>\n",
       "<style scoped>\n",
       "    .dataframe tbody tr th:only-of-type {\n",
       "        vertical-align: middle;\n",
       "    }\n",
       "\n",
       "    .dataframe tbody tr th {\n",
       "        vertical-align: top;\n",
       "    }\n",
       "\n",
       "    .dataframe thead th {\n",
       "        text-align: right;\n",
       "    }\n",
       "</style>\n",
       "<table border=\"1\" class=\"dataframe\">\n",
       "  <thead>\n",
       "    <tr style=\"text-align: right;\">\n",
       "      <th></th>\n",
       "      <th>Name</th>\n",
       "      <th>N_length</th>\n",
       "    </tr>\n",
       "  </thead>\n",
       "  <tbody>\n",
       "    <tr>\n",
       "      <th>307</th>\n",
       "      <td>Penasco y Castellana, Mrs. Victor de Satode (M...</td>\n",
       "      <td>82</td>\n",
       "    </tr>\n",
       "    <tr>\n",
       "      <th>427</th>\n",
       "      <td>Phillips, Miss. Kate Florence (\"Mrs Kate Louis...</td>\n",
       "      <td>67</td>\n",
       "    </tr>\n",
       "    <tr>\n",
       "      <th>556</th>\n",
       "      <td>Duff Gordon, Lady. (Lucille Christiana Sutherl...</td>\n",
       "      <td>65</td>\n",
       "    </tr>\n",
       "    <tr>\n",
       "      <th>670</th>\n",
       "      <td>Brown, Mrs. Thomas William Solomon (Elizabeth ...</td>\n",
       "      <td>61</td>\n",
       "    </tr>\n",
       "    <tr>\n",
       "      <th>25</th>\n",
       "      <td>Asplund, Mrs. Carl Oscar (Selma Augusta Emilia...</td>\n",
       "      <td>57</td>\n",
       "    </tr>\n",
       "    <tr>\n",
       "      <th>...</th>\n",
       "      <td>...</td>\n",
       "      <td>...</td>\n",
       "    </tr>\n",
       "    <tr>\n",
       "      <th>509</th>\n",
       "      <td>Lang, Mr. Fang</td>\n",
       "      <td>14</td>\n",
       "    </tr>\n",
       "    <tr>\n",
       "      <th>169</th>\n",
       "      <td>Ling, Mr. Lee</td>\n",
       "      <td>13</td>\n",
       "    </tr>\n",
       "    <tr>\n",
       "      <th>74</th>\n",
       "      <td>Bing, Mr. Lee</td>\n",
       "      <td>13</td>\n",
       "    </tr>\n",
       "    <tr>\n",
       "      <th>692</th>\n",
       "      <td>Lam, Mr. Ali</td>\n",
       "      <td>12</td>\n",
       "    </tr>\n",
       "    <tr>\n",
       "      <th>826</th>\n",
       "      <td>Lam, Mr. Len</td>\n",
       "      <td>12</td>\n",
       "    </tr>\n",
       "  </tbody>\n",
       "</table>\n",
       "<p>891 rows × 2 columns</p>\n",
       "</div>"
      ],
      "text/plain": [
       "                                                  Name  N_length\n",
       "307  Penasco y Castellana, Mrs. Victor de Satode (M...        82\n",
       "427  Phillips, Miss. Kate Florence (\"Mrs Kate Louis...        67\n",
       "556  Duff Gordon, Lady. (Lucille Christiana Sutherl...        65\n",
       "670  Brown, Mrs. Thomas William Solomon (Elizabeth ...        61\n",
       "25   Asplund, Mrs. Carl Oscar (Selma Augusta Emilia...        57\n",
       "..                                                 ...       ...\n",
       "509                                     Lang, Mr. Fang        14\n",
       "169                                      Ling, Mr. Lee        13\n",
       "74                                       Bing, Mr. Lee        13\n",
       "692                                       Lam, Mr. Ali        12\n",
       "826                                       Lam, Mr. Len        12\n",
       "\n",
       "[891 rows x 2 columns]"
      ]
     },
     "execution_count": 14,
     "metadata": {},
     "output_type": "execute_result"
    }
   ],
   "source": [
    "import pandas as pd\n",
    "\n",
    "tit = pd.read_csv('train.csv')\n",
    "\n",
    "tit['N_length'] = tit.Name.apply(len)\n",
    "tit[['Name','N_length']].sort_values(by='N_length',ascending=False)"
   ]
  },
  {
   "cell_type": "markdown",
   "metadata": {},
   "source": [
    "    *데이터프레임의 함수 매핑 문법을 이용해서 결측치를 확인하는 방법\n",
    "    \n",
    "    머신러닝 포트폴리오 관련해서 면접질문\n",
    "        신경망과 관련해서 모델을 많이 안다고 자랑하는 면접자들 말고 데이터 전처리하느라고 머리를 쥐어 뜯었던 경험담을 늘어놓는 사람들을 뽑아라"
   ]
  },
  {
   "cell_type": "markdown",
   "metadata": {},
   "source": [
    "### ※ 문제180. seaborn 타이타닉의 age와 fare에 결측치가 얼마나 있는지 확인하시오"
   ]
  },
  {
   "cell_type": "code",
   "execution_count": 15,
   "metadata": {
    "ExecuteTime": {
     "end_time": "2020-07-16T07:27:41.625535Z",
     "start_time": "2020-07-16T07:27:41.591554Z"
    }
   },
   "outputs": [
    {
     "data": {
      "text/html": [
       "<div>\n",
       "<style scoped>\n",
       "    .dataframe tbody tr th:only-of-type {\n",
       "        vertical-align: middle;\n",
       "    }\n",
       "\n",
       "    .dataframe tbody tr th {\n",
       "        vertical-align: top;\n",
       "    }\n",
       "\n",
       "    .dataframe thead th {\n",
       "        text-align: right;\n",
       "    }\n",
       "</style>\n",
       "<table border=\"1\" class=\"dataframe\">\n",
       "  <thead>\n",
       "    <tr style=\"text-align: right;\">\n",
       "      <th></th>\n",
       "      <th>age</th>\n",
       "      <th>fare</th>\n",
       "    </tr>\n",
       "  </thead>\n",
       "  <tbody>\n",
       "    <tr>\n",
       "      <th>0</th>\n",
       "      <td>False</td>\n",
       "      <td>False</td>\n",
       "    </tr>\n",
       "    <tr>\n",
       "      <th>1</th>\n",
       "      <td>False</td>\n",
       "      <td>False</td>\n",
       "    </tr>\n",
       "    <tr>\n",
       "      <th>2</th>\n",
       "      <td>False</td>\n",
       "      <td>False</td>\n",
       "    </tr>\n",
       "    <tr>\n",
       "      <th>3</th>\n",
       "      <td>False</td>\n",
       "      <td>False</td>\n",
       "    </tr>\n",
       "    <tr>\n",
       "      <th>4</th>\n",
       "      <td>False</td>\n",
       "      <td>False</td>\n",
       "    </tr>\n",
       "    <tr>\n",
       "      <th>...</th>\n",
       "      <td>...</td>\n",
       "      <td>...</td>\n",
       "    </tr>\n",
       "    <tr>\n",
       "      <th>886</th>\n",
       "      <td>False</td>\n",
       "      <td>False</td>\n",
       "    </tr>\n",
       "    <tr>\n",
       "      <th>887</th>\n",
       "      <td>False</td>\n",
       "      <td>False</td>\n",
       "    </tr>\n",
       "    <tr>\n",
       "      <th>888</th>\n",
       "      <td>True</td>\n",
       "      <td>False</td>\n",
       "    </tr>\n",
       "    <tr>\n",
       "      <th>889</th>\n",
       "      <td>False</td>\n",
       "      <td>False</td>\n",
       "    </tr>\n",
       "    <tr>\n",
       "      <th>890</th>\n",
       "      <td>False</td>\n",
       "      <td>False</td>\n",
       "    </tr>\n",
       "  </tbody>\n",
       "</table>\n",
       "<p>891 rows × 2 columns</p>\n",
       "</div>"
      ],
      "text/plain": [
       "       age   fare\n",
       "0    False  False\n",
       "1    False  False\n",
       "2    False  False\n",
       "3    False  False\n",
       "4    False  False\n",
       "..     ...    ...\n",
       "886  False  False\n",
       "887  False  False\n",
       "888   True  False\n",
       "889  False  False\n",
       "890  False  False\n",
       "\n",
       "[891 rows x 2 columns]"
      ]
     },
     "execution_count": 15,
     "metadata": {},
     "output_type": "execute_result"
    }
   ],
   "source": [
    "import seaborn as sns\n",
    "\n",
    "tit = sns.load_dataset('titanic')\n",
    "df = tit.loc[:,['age','fare']]\n",
    "\n",
    "def missing_values(series):\n",
    "    return series.isnull()\n",
    "\n",
    "rs = df.apply(missing_values,axis=0)\n",
    "rs"
   ]
  },
  {
   "cell_type": "markdown",
   "metadata": {},
   "source": [
    "### ※ 문제181. 위의 결과가 True, False로 나오는게 아니라 결측치의 개수로 나오게 함수를 수정하시오"
   ]
  },
  {
   "cell_type": "code",
   "execution_count": 16,
   "metadata": {
    "ExecuteTime": {
     "end_time": "2020-07-16T07:29:47.220100Z",
     "start_time": "2020-07-16T07:29:47.195115Z"
    }
   },
   "outputs": [
    {
     "data": {
      "text/plain": [
       "age     177\n",
       "fare      0\n",
       "dtype: int64"
      ]
     },
     "execution_count": 16,
     "metadata": {},
     "output_type": "execute_result"
    }
   ],
   "source": [
    "import seaborn as sns\n",
    "\n",
    "tit = sns.load_dataset('titanic')\n",
    "df = tit.loc[:,['age','fare']]\n",
    "\n",
    "def missing_values(series):\n",
    "    return series.isnull().sum()\n",
    "\n",
    "rs = df.apply(missing_values,axis=0)\n",
    "rs"
   ]
  },
  {
   "cell_type": "markdown",
   "metadata": {},
   "source": [
    "### ※ 문제182. kaggle의 타이타닉 나이 데이터의 결측치 177개를 나이 데이터의 중앙값으로 치환하시오"
   ]
  },
  {
   "cell_type": "code",
   "execution_count": 18,
   "metadata": {
    "ExecuteTime": {
     "end_time": "2020-07-16T07:32:39.905791Z",
     "start_time": "2020-07-16T07:32:39.897795Z"
    }
   },
   "outputs": [
    {
     "data": {
      "text/plain": [
       "0"
      ]
     },
     "execution_count": 18,
     "metadata": {},
     "output_type": "execute_result"
    }
   ],
   "source": [
    "df['age'].fillna(df['age'].median(), inplace=True)\n",
    "df.age.isnull().sum()"
   ]
  },
  {
   "cell_type": "markdown",
   "metadata": {},
   "source": [
    "### ※ 문제183. 어제는 타이타닉 생존자 예측을 위해서 kNN 모델을 만들때 나이의 결측치를 아래와 같이 테스트 했는데 오늘 중앙값으로 놓고 정확도를 확인하시오"
   ]
  },
  {
   "cell_type": "code",
   "execution_count": 25,
   "metadata": {
    "ExecuteTime": {
     "end_time": "2020-07-16T07:37:12.943898Z",
     "start_time": "2020-07-16T07:37:12.862946Z"
    }
   },
   "outputs": [
    {
     "name": "stdout",
     "output_type": "stream",
     "text": [
      "[[171   7]\n",
      " [ 33  57]]\n",
      "0.8507462686567164\n"
     ]
    }
   ],
   "source": [
    "import  pandas  as  pd\n",
    "import  seaborn  as  sns \n",
    "\n",
    "df = sns.load_dataset('titanic')\n",
    "\n",
    "pd.set_option('display.max_columns', 15 ) \n",
    "\n",
    "rdf = df\n",
    "\n",
    "## 값 치환\n",
    "rdf['age'].fillna(rdf['age'].median(), inplace=True) # 중앙값으로 치환\n",
    "rdf['deck'].fillna(rdf['deck'].value_counts(dropna=True).idxmax(), inplace=True) # 최빈값으로 치환\n",
    "rdf['embark_town'].fillna(rdf['embark_town'].value_counts(dropna=True).idxmax(),inplace=True) # 최빈값으로 치환\n",
    "rdf['embarked'].fillna(rdf['embarked'].value_counts(dropna=True).idxmax() , inplace=True ) \n",
    "# rdf.isnull().sum()\n",
    "\n",
    "## dummies\n",
    "deck_dummies = pd.get_dummies(rdf['deck'], prefix='deck')\n",
    "rdf = pd.concat([rdf, deck_dummies], axis=1)\n",
    "\n",
    "gender = pd.get_dummies( rdf['sex'] ) \n",
    "rdf = pd.concat( [rdf, gender], axis=1 ) \n",
    "\n",
    "onehot_embarked = pd.get_dummies( rdf['embarked'], prefix='town') \n",
    "rdf = pd.concat([ rdf, onehot_embarked], axis=1)\n",
    "\n",
    "class_dummies = pd.get_dummies(rdf['class'])\n",
    "rdf = pd.concat([rdf, class_dummies], axis=1)\n",
    "\n",
    "et_dummies = pd.get_dummies(rdf['embark_town'], prefix='embarked')\n",
    "rdf = pd.concat([rdf, et_dummies], axis=1)\n",
    "\n",
    "rdf.drop( ['sex', 'embarked', 'class', 'embark_town', 'deck'],  axis=1, inplace=True ) # 명목형 column 삭제\n",
    "\n",
    "X = rdf[ [ 'pclass' ,'age', 'sibsp','parch', 'female', 'male', 'town_C', 'town_Q',  'town_S','embarked_Cherbourg','embarked_Queenstown','embarked_Southampton','First','Second','Third']]\n",
    "y = rdf['survived']   \n",
    "\n",
    "from  sklearn   import   preprocessing\n",
    "X = preprocessing.StandardScaler().fit(X).transform(X)\n",
    "\n",
    "from  sklearn.model_selection  import   train_test_split\n",
    "X_train, X_test, y_train, y_test =train_test_split( X, y, test_size=0.3, random_state = 4 ) # random_state값 변경\n",
    "\n",
    "from  sklearn.neighbors  import   KNeighborsClassifier \n",
    "\n",
    "knn = KNeighborsClassifier( n_neighbors=17 ) \n",
    "knn.fit ( X_train, y_train )\n",
    "\n",
    "y_hat = knn.predict( X_test ) \n",
    "\n",
    "from  sklearn   import   metrics \n",
    "knn_matrix  =  metrics.confusion_matrix( y_test,  y_hat )\n",
    "print(knn_matrix)\n",
    "\n",
    "from sklearn.metrics import accuracy_score\n",
    "\n",
    "accuracy = accuracy_score( y_test, y_hat)\n",
    "print(accuracy)"
   ]
  }
 ],
 "metadata": {
  "kernelspec": {
   "display_name": "Python 3",
   "language": "python",
   "name": "python3"
  },
  "language_info": {
   "codemirror_mode": {
    "name": "ipython",
    "version": 3
   },
   "file_extension": ".py",
   "mimetype": "text/x-python",
   "name": "python",
   "nbconvert_exporter": "python",
   "pygments_lexer": "ipython3",
   "version": "3.7.6"
  },
  "toc": {
   "base_numbering": 1,
   "nav_menu": {},
   "number_sections": true,
   "sideBar": true,
   "skip_h1_title": false,
   "title_cell": "Table of Contents",
   "title_sidebar": "Contents",
   "toc_cell": false,
   "toc_position": {},
   "toc_section_display": true,
   "toc_window_display": false
  },
  "varInspector": {
   "cols": {
    "lenName": 16,
    "lenType": 16,
    "lenVar": 40
   },
   "kernels_config": {
    "python": {
     "delete_cmd_postfix": "",
     "delete_cmd_prefix": "del ",
     "library": "var_list.py",
     "varRefreshCmd": "print(var_dic_list())"
    },
    "r": {
     "delete_cmd_postfix": ") ",
     "delete_cmd_prefix": "rm(",
     "library": "var_list.r",
     "varRefreshCmd": "cat(var_dic_list()) "
    }
   },
   "types_to_exclude": [
    "module",
    "function",
    "builtin_function_or_method",
    "instance",
    "_Feature"
   ],
   "window_display": false
  }
 },
 "nbformat": 4,
 "nbformat_minor": 4
}
