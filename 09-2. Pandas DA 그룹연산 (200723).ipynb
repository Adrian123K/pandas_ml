{
 "cells": [
  {
   "cell_type": "markdown",
   "metadata": {},
   "source": [
    "## <b>■ 그룹연산</b>\n",
    "    1. df.groupby\n",
    "    2. group.함수()\n",
    "    3. group.agg\n",
    "\n",
    "### <b>■ 그룹객체.agg</b>\n",
    "    문법\n",
    "        group.agg(매핑함수)"
   ]
  },
  {
   "cell_type": "markdown",
   "metadata": {},
   "source": [
    "    예제. \n",
    "```SQL\n",
    "select deptno, sum(sal)\n",
    "    from emp\n",
    "    group by deptno;\n",
    "```"
   ]
  },
  {
   "cell_type": "code",
   "execution_count": 3,
   "metadata": {
    "ExecuteTime": {
     "end_time": "2020-07-23T05:16:07.308232Z",
     "start_time": "2020-07-23T05:16:07.293240Z"
    }
   },
   "outputs": [
    {
     "data": {
      "text/html": [
       "<div>\n",
       "<style scoped>\n",
       "    .dataframe tbody tr th:only-of-type {\n",
       "        vertical-align: middle;\n",
       "    }\n",
       "\n",
       "    .dataframe tbody tr th {\n",
       "        vertical-align: top;\n",
       "    }\n",
       "\n",
       "    .dataframe thead th {\n",
       "        text-align: right;\n",
       "    }\n",
       "</style>\n",
       "<table border=\"1\" class=\"dataframe\">\n",
       "  <thead>\n",
       "    <tr style=\"text-align: right;\">\n",
       "      <th></th>\n",
       "      <th>sal</th>\n",
       "    </tr>\n",
       "    <tr>\n",
       "      <th>deptno</th>\n",
       "      <th></th>\n",
       "    </tr>\n",
       "  </thead>\n",
       "  <tbody>\n",
       "    <tr>\n",
       "      <th>10</th>\n",
       "      <td>8750</td>\n",
       "    </tr>\n",
       "    <tr>\n",
       "      <th>20</th>\n",
       "      <td>10875</td>\n",
       "    </tr>\n",
       "    <tr>\n",
       "      <th>30</th>\n",
       "      <td>9400</td>\n",
       "    </tr>\n",
       "  </tbody>\n",
       "</table>\n",
       "</div>"
      ],
      "text/plain": [
       "          sal\n",
       "deptno       \n",
       "10       8750\n",
       "20      10875\n",
       "30       9400"
      ]
     },
     "execution_count": 3,
     "metadata": {},
     "output_type": "execute_result"
    }
   ],
   "source": [
    "import pandas as pd\n",
    "emp = pd.read_csv('emp.csv')\n",
    "\n",
    "df = emp[['sal','deptno']]\n",
    "\n",
    "gp = df.groupby('deptno')\n",
    "gp.agg(sum)"
   ]
  },
  {
   "cell_type": "markdown",
   "metadata": {},
   "source": [
    "### ※ 문제213. 아래의 SQL을 Pandas로 구현하시오\n",
    "```sql\n",
    "select deptno, job, sum(sal)\n",
    "    from emp\n",
    "    group by deptno, job\n",
    "    order by deptno, job;\n",
    "```"
   ]
  },
  {
   "cell_type": "code",
   "execution_count": 9,
   "metadata": {
    "ExecuteTime": {
     "end_time": "2020-07-23T05:21:51.237484Z",
     "start_time": "2020-07-23T05:21:51.215498Z"
    }
   },
   "outputs": [
    {
     "data": {
      "text/html": [
       "<div>\n",
       "<style scoped>\n",
       "    .dataframe tbody tr th:only-of-type {\n",
       "        vertical-align: middle;\n",
       "    }\n",
       "\n",
       "    .dataframe tbody tr th {\n",
       "        vertical-align: top;\n",
       "    }\n",
       "\n",
       "    .dataframe thead th {\n",
       "        text-align: right;\n",
       "    }\n",
       "</style>\n",
       "<table border=\"1\" class=\"dataframe\">\n",
       "  <thead>\n",
       "    <tr style=\"text-align: right;\">\n",
       "      <th></th>\n",
       "      <th></th>\n",
       "      <th>sal</th>\n",
       "    </tr>\n",
       "    <tr>\n",
       "      <th>deptno</th>\n",
       "      <th>job</th>\n",
       "      <th></th>\n",
       "    </tr>\n",
       "  </thead>\n",
       "  <tbody>\n",
       "    <tr>\n",
       "      <th rowspan=\"3\" valign=\"top\">10</th>\n",
       "      <th>CLERK</th>\n",
       "      <td>1300</td>\n",
       "    </tr>\n",
       "    <tr>\n",
       "      <th>MANAGER</th>\n",
       "      <td>2450</td>\n",
       "    </tr>\n",
       "    <tr>\n",
       "      <th>PRESIDENT</th>\n",
       "      <td>5000</td>\n",
       "    </tr>\n",
       "    <tr>\n",
       "      <th rowspan=\"3\" valign=\"top\">20</th>\n",
       "      <th>ANALYST</th>\n",
       "      <td>6000</td>\n",
       "    </tr>\n",
       "    <tr>\n",
       "      <th>CLERK</th>\n",
       "      <td>1900</td>\n",
       "    </tr>\n",
       "    <tr>\n",
       "      <th>MANAGER</th>\n",
       "      <td>2975</td>\n",
       "    </tr>\n",
       "    <tr>\n",
       "      <th rowspan=\"3\" valign=\"top\">30</th>\n",
       "      <th>CLERK</th>\n",
       "      <td>950</td>\n",
       "    </tr>\n",
       "    <tr>\n",
       "      <th>MANAGER</th>\n",
       "      <td>2850</td>\n",
       "    </tr>\n",
       "    <tr>\n",
       "      <th>SALESMAN</th>\n",
       "      <td>5600</td>\n",
       "    </tr>\n",
       "  </tbody>\n",
       "</table>\n",
       "</div>"
      ],
      "text/plain": [
       "                   sal\n",
       "deptno job            \n",
       "10     CLERK      1300\n",
       "       MANAGER    2450\n",
       "       PRESIDENT  5000\n",
       "20     ANALYST    6000\n",
       "       CLERK      1900\n",
       "       MANAGER    2975\n",
       "30     CLERK       950\n",
       "       MANAGER    2850\n",
       "       SALESMAN   5600"
      ]
     },
     "execution_count": 9,
     "metadata": {},
     "output_type": "execute_result"
    }
   ],
   "source": [
    "import pandas as pd\n",
    "emp = pd.read_csv('emp.csv')\n",
    "df = emp[['deptno','job','sal']]\n",
    "gp = df.groupby(['deptno','job'])\n",
    "\n",
    "gp.agg(sum).sort_values(by=['deptno','job'],ascending=True)"
   ]
  },
  {
   "cell_type": "markdown",
   "metadata": {},
   "source": [
    "### ※ 문제214. 아래의 SQL을 Pandas로 구현하시오\n",
    "```sql\n",
    "select deptno, min(sal), max(sal)\n",
    "    from emp\n",
    "    group by deptno;\n",
    "```"
   ]
  },
  {
   "cell_type": "code",
   "execution_count": 10,
   "metadata": {
    "ExecuteTime": {
     "end_time": "2020-07-23T05:26:25.139035Z",
     "start_time": "2020-07-23T05:26:25.079071Z"
    }
   },
   "outputs": [
    {
     "data": {
      "text/html": [
       "<div>\n",
       "<style scoped>\n",
       "    .dataframe tbody tr th:only-of-type {\n",
       "        vertical-align: middle;\n",
       "    }\n",
       "\n",
       "    .dataframe tbody tr th {\n",
       "        vertical-align: top;\n",
       "    }\n",
       "\n",
       "    .dataframe thead tr th {\n",
       "        text-align: left;\n",
       "    }\n",
       "\n",
       "    .dataframe thead tr:last-of-type th {\n",
       "        text-align: right;\n",
       "    }\n",
       "</style>\n",
       "<table border=\"1\" class=\"dataframe\">\n",
       "  <thead>\n",
       "    <tr>\n",
       "      <th></th>\n",
       "      <th colspan=\"2\" halign=\"left\">sal</th>\n",
       "    </tr>\n",
       "    <tr>\n",
       "      <th></th>\n",
       "      <th>min</th>\n",
       "      <th>max</th>\n",
       "    </tr>\n",
       "    <tr>\n",
       "      <th>deptno</th>\n",
       "      <th></th>\n",
       "      <th></th>\n",
       "    </tr>\n",
       "  </thead>\n",
       "  <tbody>\n",
       "    <tr>\n",
       "      <th>10</th>\n",
       "      <td>1300</td>\n",
       "      <td>5000</td>\n",
       "    </tr>\n",
       "    <tr>\n",
       "      <th>20</th>\n",
       "      <td>800</td>\n",
       "      <td>3000</td>\n",
       "    </tr>\n",
       "    <tr>\n",
       "      <th>30</th>\n",
       "      <td>950</td>\n",
       "      <td>2850</td>\n",
       "    </tr>\n",
       "  </tbody>\n",
       "</table>\n",
       "</div>"
      ],
      "text/plain": [
       "         sal      \n",
       "         min   max\n",
       "deptno            \n",
       "10      1300  5000\n",
       "20       800  3000\n",
       "30       950  2850"
      ]
     },
     "execution_count": 10,
     "metadata": {},
     "output_type": "execute_result"
    }
   ],
   "source": [
    "import pandas as pd\n",
    "emp = pd.read_csv('emp.csv')\n",
    "df = emp[['deptno','sal']]\n",
    "gp = df.groupby('deptno')\n",
    "gp.agg([min,max])"
   ]
  },
  {
   "cell_type": "markdown",
   "metadata": {},
   "source": [
    "### ※ 문제215. Kaggle 타이타닉의 클래스별 운임의 최대값과 최소값을 아래와 같이 출력하시오\n",
    "            Fare\n",
    "            min       max\n",
    "    Pclass\n",
    "    1       0.0       512.3292\n",
    "    2       0.0        73.5000\n",
    "    3       0.0        69.5500"
   ]
  },
  {
   "cell_type": "code",
   "execution_count": 12,
   "metadata": {
    "ExecuteTime": {
     "end_time": "2020-07-23T05:31:45.877757Z",
     "start_time": "2020-07-23T05:31:45.792750Z"
    }
   },
   "outputs": [
    {
     "data": {
      "text/html": [
       "<div>\n",
       "<style scoped>\n",
       "    .dataframe tbody tr th:only-of-type {\n",
       "        vertical-align: middle;\n",
       "    }\n",
       "\n",
       "    .dataframe tbody tr th {\n",
       "        vertical-align: top;\n",
       "    }\n",
       "\n",
       "    .dataframe thead tr th {\n",
       "        text-align: left;\n",
       "    }\n",
       "\n",
       "    .dataframe thead tr:last-of-type th {\n",
       "        text-align: right;\n",
       "    }\n",
       "</style>\n",
       "<table border=\"1\" class=\"dataframe\">\n",
       "  <thead>\n",
       "    <tr>\n",
       "      <th></th>\n",
       "      <th colspan=\"2\" halign=\"left\">Fare</th>\n",
       "    </tr>\n",
       "    <tr>\n",
       "      <th></th>\n",
       "      <th>min</th>\n",
       "      <th>max</th>\n",
       "    </tr>\n",
       "    <tr>\n",
       "      <th>Pclass</th>\n",
       "      <th></th>\n",
       "      <th></th>\n",
       "    </tr>\n",
       "  </thead>\n",
       "  <tbody>\n",
       "    <tr>\n",
       "      <th>1</th>\n",
       "      <td>0.0</td>\n",
       "      <td>512.3292</td>\n",
       "    </tr>\n",
       "    <tr>\n",
       "      <th>2</th>\n",
       "      <td>0.0</td>\n",
       "      <td>73.5000</td>\n",
       "    </tr>\n",
       "    <tr>\n",
       "      <th>3</th>\n",
       "      <td>0.0</td>\n",
       "      <td>69.5500</td>\n",
       "    </tr>\n",
       "  </tbody>\n",
       "</table>\n",
       "</div>"
      ],
      "text/plain": [
       "       Fare          \n",
       "        min       max\n",
       "Pclass               \n",
       "1       0.0  512.3292\n",
       "2       0.0   73.5000\n",
       "3       0.0   69.5500"
      ]
     },
     "execution_count": 12,
     "metadata": {},
     "output_type": "execute_result"
    }
   ],
   "source": [
    "import pandas as pd\n",
    "tit = pd.read_csv('train.csv')\n",
    "df = tit[['Pclass','Fare']]\n",
    "gp = df.groupby(['Pclass'])\n",
    "gp.agg([min,max])"
   ]
  },
  {
   "cell_type": "markdown",
   "metadata": {},
   "source": [
    "## <b>■ 그룹연산</b>\n",
    "    1. df.groupby\n",
    "    2. group.함수()\n",
    "    3. group.agg\n",
    "    4. group.filter(조건식 함수)\n",
    "    \n",
    "### <b>■ group.filter(조건식 함수)</b>\n",
    "    그룹객체에 filter() 메소드를 적용할 때 조건식을 가진 함수를 전달하면 조건이 참인 그룹만을 남긴다.\n",
    "    문법\n",
    "        group.filter(조건식 함수)"
   ]
  },
  {
   "cell_type": "markdown",
   "metadata": {},
   "source": [
    "##### 예제. 부서번호별 평균월급이 2000보다 작은 사원들의 이름, 월급, 직업, 부서번호를 출력\n",
    "```sql\n",
    "select ename, sal, job, 부서평균\n",
    "    from (\n",
    "            select ename, sal, job, deptno, avg(sal) over (partition by deptno) 부서평균\n",
    "                from emp\n",
    "         )\n",
    "    where 부서평균 < 2000;\n",
    "```"
   ]
  },
  {
   "cell_type": "code",
   "execution_count": 18,
   "metadata": {
    "ExecuteTime": {
     "end_time": "2020-07-23T05:41:26.672637Z",
     "start_time": "2020-07-23T05:41:26.653648Z"
    },
    "scrolled": true
   },
   "outputs": [
    {
     "data": {
      "text/html": [
       "<div>\n",
       "<style scoped>\n",
       "    .dataframe tbody tr th:only-of-type {\n",
       "        vertical-align: middle;\n",
       "    }\n",
       "\n",
       "    .dataframe tbody tr th {\n",
       "        vertical-align: top;\n",
       "    }\n",
       "\n",
       "    .dataframe thead th {\n",
       "        text-align: right;\n",
       "    }\n",
       "</style>\n",
       "<table border=\"1\" class=\"dataframe\">\n",
       "  <thead>\n",
       "    <tr style=\"text-align: right;\">\n",
       "      <th></th>\n",
       "      <th>ename</th>\n",
       "      <th>sal</th>\n",
       "      <th>job</th>\n",
       "      <th>deptno</th>\n",
       "    </tr>\n",
       "  </thead>\n",
       "  <tbody>\n",
       "    <tr>\n",
       "      <th>1</th>\n",
       "      <td>BLAKE</td>\n",
       "      <td>2850</td>\n",
       "      <td>MANAGER</td>\n",
       "      <td>30</td>\n",
       "    </tr>\n",
       "    <tr>\n",
       "      <th>4</th>\n",
       "      <td>MARTIN</td>\n",
       "      <td>1250</td>\n",
       "      <td>SALESMAN</td>\n",
       "      <td>30</td>\n",
       "    </tr>\n",
       "    <tr>\n",
       "      <th>5</th>\n",
       "      <td>ALLEN</td>\n",
       "      <td>1600</td>\n",
       "      <td>SALESMAN</td>\n",
       "      <td>30</td>\n",
       "    </tr>\n",
       "    <tr>\n",
       "      <th>6</th>\n",
       "      <td>TURNER</td>\n",
       "      <td>1500</td>\n",
       "      <td>SALESMAN</td>\n",
       "      <td>30</td>\n",
       "    </tr>\n",
       "    <tr>\n",
       "      <th>7</th>\n",
       "      <td>JAMES</td>\n",
       "      <td>950</td>\n",
       "      <td>CLERK</td>\n",
       "      <td>30</td>\n",
       "    </tr>\n",
       "    <tr>\n",
       "      <th>8</th>\n",
       "      <td>WARD</td>\n",
       "      <td>1250</td>\n",
       "      <td>SALESMAN</td>\n",
       "      <td>30</td>\n",
       "    </tr>\n",
       "  </tbody>\n",
       "</table>\n",
       "</div>"
      ],
      "text/plain": [
       "    ename   sal       job  deptno\n",
       "1   BLAKE  2850   MANAGER      30\n",
       "4  MARTIN  1250  SALESMAN      30\n",
       "5   ALLEN  1600  SALESMAN      30\n",
       "6  TURNER  1500  SALESMAN      30\n",
       "7   JAMES   950     CLERK      30\n",
       "8    WARD  1250  SALESMAN      30"
      ]
     },
     "execution_count": 18,
     "metadata": {},
     "output_type": "execute_result"
    }
   ],
   "source": [
    "import pandas as pd\n",
    "emp = pd.read_csv('emp.csv')\n",
    "df = emp[['ename','sal','job','deptno']]\n",
    "gp = df.groupby('deptno')\n",
    "gp.filter(lambda x:x.sal.mean()<2000)"
   ]
  },
  {
   "cell_type": "markdown",
   "metadata": {},
   "source": [
    "## <b>■ 그룹연산</b>\n",
    "    1. df.groupby\n",
    "    2. group.함수()\n",
    "    3. group.agg\n",
    "    4. group.filter(조건식 함수)\n",
    "    5. group.apply(매핑 함수)\n",
    "    \n",
    "### <b>■ group.apply</b>\n",
    "    apply() 메소드는 Pandas 객체의 개별원소를 특정함수에 일대일매핑\n",
    "    문법\n",
    "        group.apply(매핑함수)"
   ]
  },
  {
   "cell_type": "code",
   "execution_count": 22,
   "metadata": {
    "ExecuteTime": {
     "end_time": "2020-07-23T06:13:14.801325Z",
     "start_time": "2020-07-23T06:13:14.739365Z"
    }
   },
   "outputs": [
    {
     "data": {
      "text/html": [
       "<div>\n",
       "<style scoped>\n",
       "    .dataframe tbody tr th:only-of-type {\n",
       "        vertical-align: middle;\n",
       "    }\n",
       "\n",
       "    .dataframe tbody tr th {\n",
       "        vertical-align: top;\n",
       "    }\n",
       "\n",
       "    .dataframe thead th {\n",
       "        text-align: right;\n",
       "    }\n",
       "</style>\n",
       "<table border=\"1\" class=\"dataframe\">\n",
       "  <thead>\n",
       "    <tr style=\"text-align: right;\">\n",
       "      <th></th>\n",
       "      <th></th>\n",
       "      <th>Survived</th>\n",
       "      <th>Age</th>\n",
       "      <th>Pclass</th>\n",
       "      <th>Fare</th>\n",
       "    </tr>\n",
       "    <tr>\n",
       "      <th>Pclass</th>\n",
       "      <th></th>\n",
       "      <th></th>\n",
       "      <th></th>\n",
       "      <th></th>\n",
       "      <th></th>\n",
       "    </tr>\n",
       "  </thead>\n",
       "  <tbody>\n",
       "    <tr>\n",
       "      <th rowspan=\"8\" valign=\"top\">1</th>\n",
       "      <th>count</th>\n",
       "      <td>216.000000</td>\n",
       "      <td>186.000000</td>\n",
       "      <td>216.0</td>\n",
       "      <td>216.000000</td>\n",
       "    </tr>\n",
       "    <tr>\n",
       "      <th>mean</th>\n",
       "      <td>0.629630</td>\n",
       "      <td>38.233441</td>\n",
       "      <td>1.0</td>\n",
       "      <td>84.154687</td>\n",
       "    </tr>\n",
       "    <tr>\n",
       "      <th>std</th>\n",
       "      <td>0.484026</td>\n",
       "      <td>14.802856</td>\n",
       "      <td>0.0</td>\n",
       "      <td>78.380373</td>\n",
       "    </tr>\n",
       "    <tr>\n",
       "      <th>min</th>\n",
       "      <td>0.000000</td>\n",
       "      <td>0.920000</td>\n",
       "      <td>1.0</td>\n",
       "      <td>0.000000</td>\n",
       "    </tr>\n",
       "    <tr>\n",
       "      <th>25%</th>\n",
       "      <td>0.000000</td>\n",
       "      <td>27.000000</td>\n",
       "      <td>1.0</td>\n",
       "      <td>30.923950</td>\n",
       "    </tr>\n",
       "    <tr>\n",
       "      <th>50%</th>\n",
       "      <td>1.000000</td>\n",
       "      <td>37.000000</td>\n",
       "      <td>1.0</td>\n",
       "      <td>60.287500</td>\n",
       "    </tr>\n",
       "    <tr>\n",
       "      <th>75%</th>\n",
       "      <td>1.000000</td>\n",
       "      <td>49.000000</td>\n",
       "      <td>1.0</td>\n",
       "      <td>93.500000</td>\n",
       "    </tr>\n",
       "    <tr>\n",
       "      <th>max</th>\n",
       "      <td>1.000000</td>\n",
       "      <td>80.000000</td>\n",
       "      <td>1.0</td>\n",
       "      <td>512.329200</td>\n",
       "    </tr>\n",
       "    <tr>\n",
       "      <th rowspan=\"8\" valign=\"top\">2</th>\n",
       "      <th>count</th>\n",
       "      <td>184.000000</td>\n",
       "      <td>173.000000</td>\n",
       "      <td>184.0</td>\n",
       "      <td>184.000000</td>\n",
       "    </tr>\n",
       "    <tr>\n",
       "      <th>mean</th>\n",
       "      <td>0.472826</td>\n",
       "      <td>29.877630</td>\n",
       "      <td>2.0</td>\n",
       "      <td>20.662183</td>\n",
       "    </tr>\n",
       "    <tr>\n",
       "      <th>std</th>\n",
       "      <td>0.500623</td>\n",
       "      <td>14.001077</td>\n",
       "      <td>0.0</td>\n",
       "      <td>13.417399</td>\n",
       "    </tr>\n",
       "    <tr>\n",
       "      <th>min</th>\n",
       "      <td>0.000000</td>\n",
       "      <td>0.670000</td>\n",
       "      <td>2.0</td>\n",
       "      <td>0.000000</td>\n",
       "    </tr>\n",
       "    <tr>\n",
       "      <th>25%</th>\n",
       "      <td>0.000000</td>\n",
       "      <td>23.000000</td>\n",
       "      <td>2.0</td>\n",
       "      <td>13.000000</td>\n",
       "    </tr>\n",
       "    <tr>\n",
       "      <th>50%</th>\n",
       "      <td>0.000000</td>\n",
       "      <td>29.000000</td>\n",
       "      <td>2.0</td>\n",
       "      <td>14.250000</td>\n",
       "    </tr>\n",
       "    <tr>\n",
       "      <th>75%</th>\n",
       "      <td>1.000000</td>\n",
       "      <td>36.000000</td>\n",
       "      <td>2.0</td>\n",
       "      <td>26.000000</td>\n",
       "    </tr>\n",
       "    <tr>\n",
       "      <th>max</th>\n",
       "      <td>1.000000</td>\n",
       "      <td>70.000000</td>\n",
       "      <td>2.0</td>\n",
       "      <td>73.500000</td>\n",
       "    </tr>\n",
       "    <tr>\n",
       "      <th rowspan=\"8\" valign=\"top\">3</th>\n",
       "      <th>count</th>\n",
       "      <td>491.000000</td>\n",
       "      <td>355.000000</td>\n",
       "      <td>491.0</td>\n",
       "      <td>491.000000</td>\n",
       "    </tr>\n",
       "    <tr>\n",
       "      <th>mean</th>\n",
       "      <td>0.242363</td>\n",
       "      <td>25.140620</td>\n",
       "      <td>3.0</td>\n",
       "      <td>13.675550</td>\n",
       "    </tr>\n",
       "    <tr>\n",
       "      <th>std</th>\n",
       "      <td>0.428949</td>\n",
       "      <td>12.495398</td>\n",
       "      <td>0.0</td>\n",
       "      <td>11.778142</td>\n",
       "    </tr>\n",
       "    <tr>\n",
       "      <th>min</th>\n",
       "      <td>0.000000</td>\n",
       "      <td>0.420000</td>\n",
       "      <td>3.0</td>\n",
       "      <td>0.000000</td>\n",
       "    </tr>\n",
       "    <tr>\n",
       "      <th>25%</th>\n",
       "      <td>0.000000</td>\n",
       "      <td>18.000000</td>\n",
       "      <td>3.0</td>\n",
       "      <td>7.750000</td>\n",
       "    </tr>\n",
       "    <tr>\n",
       "      <th>50%</th>\n",
       "      <td>0.000000</td>\n",
       "      <td>24.000000</td>\n",
       "      <td>3.0</td>\n",
       "      <td>8.050000</td>\n",
       "    </tr>\n",
       "    <tr>\n",
       "      <th>75%</th>\n",
       "      <td>0.000000</td>\n",
       "      <td>32.000000</td>\n",
       "      <td>3.0</td>\n",
       "      <td>15.500000</td>\n",
       "    </tr>\n",
       "    <tr>\n",
       "      <th>max</th>\n",
       "      <td>1.000000</td>\n",
       "      <td>74.000000</td>\n",
       "      <td>3.0</td>\n",
       "      <td>69.550000</td>\n",
       "    </tr>\n",
       "  </tbody>\n",
       "</table>\n",
       "</div>"
      ],
      "text/plain": [
       "                Survived         Age  Pclass        Fare\n",
       "Pclass                                                  \n",
       "1      count  216.000000  186.000000   216.0  216.000000\n",
       "       mean     0.629630   38.233441     1.0   84.154687\n",
       "       std      0.484026   14.802856     0.0   78.380373\n",
       "       min      0.000000    0.920000     1.0    0.000000\n",
       "       25%      0.000000   27.000000     1.0   30.923950\n",
       "       50%      1.000000   37.000000     1.0   60.287500\n",
       "       75%      1.000000   49.000000     1.0   93.500000\n",
       "       max      1.000000   80.000000     1.0  512.329200\n",
       "2      count  184.000000  173.000000   184.0  184.000000\n",
       "       mean     0.472826   29.877630     2.0   20.662183\n",
       "       std      0.500623   14.001077     0.0   13.417399\n",
       "       min      0.000000    0.670000     2.0    0.000000\n",
       "       25%      0.000000   23.000000     2.0   13.000000\n",
       "       50%      0.000000   29.000000     2.0   14.250000\n",
       "       75%      1.000000   36.000000     2.0   26.000000\n",
       "       max      1.000000   70.000000     2.0   73.500000\n",
       "3      count  491.000000  355.000000   491.0  491.000000\n",
       "       mean     0.242363   25.140620     3.0   13.675550\n",
       "       std      0.428949   12.495398     0.0   11.778142\n",
       "       min      0.000000    0.420000     3.0    0.000000\n",
       "       25%      0.000000   18.000000     3.0    7.750000\n",
       "       50%      0.000000   24.000000     3.0    8.050000\n",
       "       75%      0.000000   32.000000     3.0   15.500000\n",
       "       max      1.000000   74.000000     3.0   69.550000"
      ]
     },
     "execution_count": 22,
     "metadata": {},
     "output_type": "execute_result"
    }
   ],
   "source": [
    "import pandas as pd\n",
    "tit = pd.read_csv('train.csv')\n",
    "df = tit[['Name','Survived','Age','Pclass','Fare']]\n",
    "gp = df.groupby('Pclass')\n",
    "rs = gp.apply(lambda x:x.describe())\n",
    "rs"
   ]
  },
  {
   "cell_type": "markdown",
   "metadata": {},
   "source": [
    "    클래스별로 생존, 나이, 운임에 대한 건수, 평균값, 최대값, 최소값, 사분위수 값, 표준편차를 출력\n",
    "    \n",
    "    머신러닝 알고리즘으로 기계를 학습시킬 때 변수의 단위가 다르면 학습이 잘 안될 수 있으므로 동일한 수치 단위로 조정 필요\n",
    "        -> 정규화\n",
    "    \n",
    "#### <b>면접질문</b>\n",
    "    1. 데이터의 종류에 따라 적합한 머신러닝 알고리즘이 무엇인가\n",
    "    2. 회귀분석에서 결정계수가 무엇인가\n",
    "    3. 데이터 정규화를 하는 이유가 무엇인가\n",
    "        데이터가 가진 feature의 스케일이 심하게 차이가 나는 경우에는 모델이 학습할 때 학습이 잘 안될 수 있으므로 \n",
    "        모든 데이터의 포인트가 동일한 스케일(중요도)로 반영되도록 해주기 위해서\n",
    "    4. 데이터의 정규화의 방법에는 무엇이 있나\n",
    "        1) min-max 정규화(최소-최대 정규화)\n",
    "$${{x-min(x)}\\over{max(x)-min(x)}}$$\n",
    "\n",
    "            모든 feature들의 스케일이 동일해지지만 이상치(outlier)를 잘 처리하지 못한다.\n",
    "            \n",
    "        2) z-score 정규화(Z-점수 정규화)\n",
    "$${{x- \\mu}\\over {\\sigma}}$$\n",
    "\n",
    "            이상치(outlier)는 잘 처리하지만, 정확히 동일한 척도로 정규화된 데이터를 생성하지 않는다.\n",
    "            \n",
    "#### ※ 생각해야할 문제. 이상치(outlier)를 잘 처리한다는 것은 무슨 얘기인가?"
   ]
  },
  {
   "cell_type": "code",
   "execution_count": 25,
   "metadata": {
    "ExecuteTime": {
     "end_time": "2020-07-23T06:31:04.856498Z",
     "start_time": "2020-07-23T06:31:04.833512Z"
    }
   },
   "outputs": [
    {
     "data": {
      "text/plain": [
       "(0     -0.251342\n",
       " 1     -0.015770\n",
       " 2      0.068776\n",
       " 3     -0.218434\n",
       " 4      0.789041\n",
       "          ...   \n",
       " 886   -0.205529\n",
       " 887   -1.299306\n",
       " 888         NaN\n",
       " 889   -0.826424\n",
       " 890    0.548953\n",
       " Name: Age, Length: 891, dtype: float64,\n",
       " count    7.140000e+02\n",
       " mean    -7.945714e-17\n",
       " std      9.985965e-01\n",
       " min     -2.520692e+00\n",
       " 25%     -5.714600e-01\n",
       " 50%     -6.268304e-02\n",
       " 75%      5.922208e-01\n",
       " max      3.910190e+00\n",
       " Name: Age, dtype: float64)"
      ]
     },
     "execution_count": 25,
     "metadata": {},
     "output_type": "execute_result"
    }
   ],
   "source": [
    "# 예제. z-score 정규화\n",
    "import pandas as pd\n",
    "tit = pd.read_csv('train.csv')\n",
    "df = tit[['Name','Survived','Age','Pclass','Fare']]\n",
    "gp = df.groupby('Pclass')\n",
    "def z_score(x):\n",
    "    return ((x-x.mean())/x.std())\n",
    "agg_gp = gp.Age.apply(z_score)\n",
    "agg_gp, agg_gp.describe()"
   ]
  },
  {
   "cell_type": "markdown",
   "metadata": {},
   "source": [
    "### ※ 문제216. Kaggle 타이타닉 데이터의 운임을 min-max 정규화 하시오"
   ]
  },
  {
   "cell_type": "code",
   "execution_count": 26,
   "metadata": {
    "ExecuteTime": {
     "end_time": "2020-07-23T06:33:38.987685Z",
     "start_time": "2020-07-23T06:33:38.967698Z"
    },
    "scrolled": true
   },
   "outputs": [
    {
     "data": {
      "text/plain": [
       "0      0.104242\n",
       "1      0.139136\n",
       "2      0.113947\n",
       "3      0.103644\n",
       "4      0.115744\n",
       "         ...   \n",
       "886    0.176871\n",
       "887    0.058556\n",
       "888    0.337168\n",
       "889    0.058556\n",
       "890    0.111431\n",
       "Name: Fare, Length: 891, dtype: float64"
      ]
     },
     "execution_count": 26,
     "metadata": {},
     "output_type": "execute_result"
    }
   ],
   "source": [
    "import pandas as pd\n",
    "tit = pd.read_csv('train.csv')\n",
    "df = tit[['Name','Survived','Age','Pclass','Fare']]\n",
    "gp = df.groupby('Pclass')\n",
    "def min_max_norm(x):\n",
    "    return((x-min(x))/(max(x)-min(x)))\n",
    "gp.Fare.apply(min_max_norm)"
   ]
  },
  {
   "cell_type": "markdown",
   "metadata": {},
   "source": [
    "## <b>■ 그룹연산</b>\n",
    "    1. df.groupby\n",
    "    2. group.함수()\n",
    "    3. group.agg\n",
    "    4. group.filter(조건식 함수)\n",
    "    5. group.apply(매핑 함수)\n",
    "    6. 멀티인덱스\n",
    "    \n",
    "### <b>■ 멀티인덱스</b>\n",
    "    groupby() 메소드에 여러 열을 리스트 형태로 전달하면 각 열들이 다중으로 행 인덱스를 구성하는 것을 확인했는데 \n",
    "    이처럼 Pandas는 행 인덱스를 여러 레벨로 구현할 수 있도록 멀티인덱스 클래스를 지원"
   ]
  },
  {
   "cell_type": "code",
   "execution_count": 28,
   "metadata": {
    "ExecuteTime": {
     "end_time": "2020-07-23T06:44:47.186602Z",
     "start_time": "2020-07-23T06:44:47.164614Z"
    }
   },
   "outputs": [
    {
     "data": {
      "text/html": [
       "<div>\n",
       "<style scoped>\n",
       "    .dataframe tbody tr th:only-of-type {\n",
       "        vertical-align: middle;\n",
       "    }\n",
       "\n",
       "    .dataframe tbody tr th {\n",
       "        vertical-align: top;\n",
       "    }\n",
       "\n",
       "    .dataframe thead th {\n",
       "        text-align: right;\n",
       "    }\n",
       "</style>\n",
       "<table border=\"1\" class=\"dataframe\">\n",
       "  <thead>\n",
       "    <tr style=\"text-align: right;\">\n",
       "      <th></th>\n",
       "      <th></th>\n",
       "      <th>Survived</th>\n",
       "      <th>Age</th>\n",
       "      <th>Fare</th>\n",
       "    </tr>\n",
       "    <tr>\n",
       "      <th>Pclass</th>\n",
       "      <th>Sex</th>\n",
       "      <th></th>\n",
       "      <th></th>\n",
       "      <th></th>\n",
       "    </tr>\n",
       "  </thead>\n",
       "  <tbody>\n",
       "    <tr>\n",
       "      <th rowspan=\"2\" valign=\"top\">1</th>\n",
       "      <th>female</th>\n",
       "      <td>0.968085</td>\n",
       "      <td>34.611765</td>\n",
       "      <td>106.125798</td>\n",
       "    </tr>\n",
       "    <tr>\n",
       "      <th>male</th>\n",
       "      <td>0.368852</td>\n",
       "      <td>41.281386</td>\n",
       "      <td>67.226127</td>\n",
       "    </tr>\n",
       "    <tr>\n",
       "      <th rowspan=\"2\" valign=\"top\">2</th>\n",
       "      <th>female</th>\n",
       "      <td>0.921053</td>\n",
       "      <td>28.722973</td>\n",
       "      <td>21.970121</td>\n",
       "    </tr>\n",
       "    <tr>\n",
       "      <th>male</th>\n",
       "      <td>0.157407</td>\n",
       "      <td>30.740707</td>\n",
       "      <td>19.741782</td>\n",
       "    </tr>\n",
       "    <tr>\n",
       "      <th rowspan=\"2\" valign=\"top\">3</th>\n",
       "      <th>female</th>\n",
       "      <td>0.500000</td>\n",
       "      <td>21.750000</td>\n",
       "      <td>16.118810</td>\n",
       "    </tr>\n",
       "    <tr>\n",
       "      <th>male</th>\n",
       "      <td>0.135447</td>\n",
       "      <td>26.507589</td>\n",
       "      <td>12.661633</td>\n",
       "    </tr>\n",
       "  </tbody>\n",
       "</table>\n",
       "</div>"
      ],
      "text/plain": [
       "               Survived        Age        Fare\n",
       "Pclass Sex                                    \n",
       "1      female  0.968085  34.611765  106.125798\n",
       "       male    0.368852  41.281386   67.226127\n",
       "2      female  0.921053  28.722973   21.970121\n",
       "       male    0.157407  30.740707   19.741782\n",
       "3      female  0.500000  21.750000   16.118810\n",
       "       male    0.135447  26.507589   12.661633"
      ]
     },
     "execution_count": 28,
     "metadata": {},
     "output_type": "execute_result"
    }
   ],
   "source": [
    "import pandas as pd\n",
    "tit = pd.read_csv('train.csv')\n",
    "df = tit[['Name','Survived','Age','Pclass','Fare','Sex']]\n",
    "gp = df.groupby(['Pclass','Sex'])\n",
    "gdf = gp.mean()\n",
    "gdf"
   ]
  },
  {
   "cell_type": "markdown",
   "metadata": {},
   "source": [
    "### ※ 문제217. 위의 결과에서 first class만 따로 검색하시오"
   ]
  },
  {
   "cell_type": "code",
   "execution_count": 31,
   "metadata": {
    "ExecuteTime": {
     "end_time": "2020-07-23T06:45:35.114595Z",
     "start_time": "2020-07-23T06:45:35.091608Z"
    }
   },
   "outputs": [
    {
     "data": {
      "text/html": [
       "<div>\n",
       "<style scoped>\n",
       "    .dataframe tbody tr th:only-of-type {\n",
       "        vertical-align: middle;\n",
       "    }\n",
       "\n",
       "    .dataframe tbody tr th {\n",
       "        vertical-align: top;\n",
       "    }\n",
       "\n",
       "    .dataframe thead th {\n",
       "        text-align: right;\n",
       "    }\n",
       "</style>\n",
       "<table border=\"1\" class=\"dataframe\">\n",
       "  <thead>\n",
       "    <tr style=\"text-align: right;\">\n",
       "      <th></th>\n",
       "      <th>Survived</th>\n",
       "      <th>Age</th>\n",
       "      <th>Fare</th>\n",
       "    </tr>\n",
       "    <tr>\n",
       "      <th>Sex</th>\n",
       "      <th></th>\n",
       "      <th></th>\n",
       "      <th></th>\n",
       "    </tr>\n",
       "  </thead>\n",
       "  <tbody>\n",
       "    <tr>\n",
       "      <th>female</th>\n",
       "      <td>0.968085</td>\n",
       "      <td>34.611765</td>\n",
       "      <td>106.125798</td>\n",
       "    </tr>\n",
       "    <tr>\n",
       "      <th>male</th>\n",
       "      <td>0.368852</td>\n",
       "      <td>41.281386</td>\n",
       "      <td>67.226127</td>\n",
       "    </tr>\n",
       "  </tbody>\n",
       "</table>\n",
       "</div>"
      ],
      "text/plain": [
       "        Survived        Age        Fare\n",
       "Sex                                    \n",
       "female  0.968085  34.611765  106.125798\n",
       "male    0.368852  41.281386   67.226127"
      ]
     },
     "execution_count": 31,
     "metadata": {},
     "output_type": "execute_result"
    }
   ],
   "source": [
    "import pandas as pd\n",
    "tit = pd.read_csv('train.csv')\n",
    "df = tit[['Name','Survived','Age','Pclass','Fare','Sex']]\n",
    "gp = df.groupby(['Pclass','Sex'])\n",
    "gdf = gp.mean()\n",
    "gdf.loc[1]"
   ]
  },
  {
   "cell_type": "markdown",
   "metadata": {},
   "source": [
    "### ※ 문제218. 위의 결과에서 first클래스의 female 데이터만 검색하시오"
   ]
  },
  {
   "cell_type": "code",
   "execution_count": 36,
   "metadata": {
    "ExecuteTime": {
     "end_time": "2020-07-23T07:15:00.269629Z",
     "start_time": "2020-07-23T07:15:00.219660Z"
    }
   },
   "outputs": [
    {
     "data": {
      "text/plain": [
       "Survived      0.968085\n",
       "Age          34.611765\n",
       "Fare        106.125798\n",
       "Name: (1, female), dtype: float64"
      ]
     },
     "execution_count": 36,
     "metadata": {},
     "output_type": "execute_result"
    }
   ],
   "source": [
    "import pandas as pd\n",
    "tit = pd.read_csv('train.csv')\n",
    "df = tit[['Name','Survived','Age','Pclass','Fare','Sex']]\n",
    "gp = df.groupby(['Pclass','Sex'])\n",
    "gdf = gp.mean()\n",
    "gdf.loc[1,'female']"
   ]
  }
 ],
 "metadata": {
  "kernelspec": {
   "display_name": "Python 3",
   "language": "python",
   "name": "python3"
  },
  "language_info": {
   "codemirror_mode": {
    "name": "ipython",
    "version": 3
   },
   "file_extension": ".py",
   "mimetype": "text/x-python",
   "name": "python",
   "nbconvert_exporter": "python",
   "pygments_lexer": "ipython3",
   "version": "3.7.6"
  },
  "toc": {
   "base_numbering": 1,
   "nav_menu": {},
   "number_sections": true,
   "sideBar": true,
   "skip_h1_title": false,
   "title_cell": "Table of Contents",
   "title_sidebar": "Contents",
   "toc_cell": false,
   "toc_position": {},
   "toc_section_display": true,
   "toc_window_display": false
  },
  "varInspector": {
   "cols": {
    "lenName": 16,
    "lenType": 16,
    "lenVar": 40
   },
   "kernels_config": {
    "python": {
     "delete_cmd_postfix": "",
     "delete_cmd_prefix": "del ",
     "library": "var_list.py",
     "varRefreshCmd": "print(var_dic_list())"
    },
    "r": {
     "delete_cmd_postfix": ") ",
     "delete_cmd_prefix": "rm(",
     "library": "var_list.r",
     "varRefreshCmd": "cat(var_dic_list()) "
    }
   },
   "types_to_exclude": [
    "module",
    "function",
    "builtin_function_or_method",
    "instance",
    "_Feature"
   ],
   "window_display": false
  }
 },
 "nbformat": 4,
 "nbformat_minor": 4
}
