{
 "cells": [
  {
   "cell_type": "markdown",
   "metadata": {},
   "source": [
    "## <b>■ 데이터 정규화 : 데이터 프레임 열에 들어있는 숫자를 0-1사이의 숫자로 변환</b>\n",
    "    A, B 변수에서 A의 변수가 큰 숫자값을 갖기 때문에 A 변수의 영향력이 더 커진다. \n",
    "    따라서 min/max 정규화를 써서 0-1 사이의 범위로 만들어 준다.\n",
    "    \n",
    "$$min　/　max　정규화 공식 = {{x-min(x)}\\over {max(x)-min(x)}}$$"
   ]
  },
  {
   "cell_type": "markdown",
   "metadata": {},
   "source": [
    "### ※ 문제169. df 데이터프레임의 horsepower 데이터를 min/max 정규화 하시오"
   ]
  },
  {
   "cell_type": "code",
   "execution_count": null,
   "metadata": {},
   "outputs": [],
   "source": [
    "min_x = df.horsepower - df.horsepwer.min()\n",
    "min_max = df.horsepower.max() - df.horsepower.min()\n",
    "df.horsepower = min_x / min_max\n",
    "df.horsepower.head(), df.horsepower.describe()"
   ]
  },
  {
   "cell_type": "markdown",
   "metadata": {},
   "source": [
    "#### <b>표준화와 정규화 두가지 중에 머신러닝 학습이 잘되는 경우가 정규화여서 대체적으로 딥러닝과 머신러닝 학습 시에는 min/max 정규화를 사용</b>"
   ]
  },
  {
   "cell_type": "markdown",
   "metadata": {},
   "source": [
    "### ※ 문제170. 다시 uci 자동차 연비 데이터를 로드하고 이번에는 horsepower를 표준화하시오\n",
    "    표준화 : 평균이 0, 표준편차 1로 하는 데이터로 변경\n",
    "    정규화 : 0-1 사이의 숫자로 데이터를 변경하는 것\n",
    "    \n",
    "    표준화 및 정규화 작업을 하게 되면 이상치에 영향을 덜 받게 된다."
   ]
  },
  {
   "cell_type": "code",
   "execution_count": 4,
   "metadata": {
    "ExecuteTime": {
     "end_time": "2020-07-16T05:22:17.971248Z",
     "start_time": "2020-07-16T05:22:17.928273Z"
    }
   },
   "outputs": [
    {
     "data": {
      "text/html": [
       "<div>\n",
       "<style scoped>\n",
       "    .dataframe tbody tr th:only-of-type {\n",
       "        vertical-align: middle;\n",
       "    }\n",
       "\n",
       "    .dataframe tbody tr th {\n",
       "        vertical-align: top;\n",
       "    }\n",
       "\n",
       "    .dataframe thead th {\n",
       "        text-align: right;\n",
       "    }\n",
       "</style>\n",
       "<table border=\"1\" class=\"dataframe\">\n",
       "  <thead>\n",
       "    <tr style=\"text-align: right;\">\n",
       "      <th></th>\n",
       "      <th>mpg</th>\n",
       "      <th>cylinders</th>\n",
       "      <th>displacement</th>\n",
       "      <th>horsepower</th>\n",
       "      <th>weight</th>\n",
       "      <th>acceleration</th>\n",
       "      <th>medel year</th>\n",
       "      <th>origin</th>\n",
       "      <th>name</th>\n",
       "    </tr>\n",
       "  </thead>\n",
       "  <tbody>\n",
       "    <tr>\n",
       "      <th>0</th>\n",
       "      <td>15.0</td>\n",
       "      <td>8</td>\n",
       "      <td>350.0</td>\n",
       "      <td>1.575170</td>\n",
       "      <td>3693.0</td>\n",
       "      <td>11.5</td>\n",
       "      <td>70</td>\n",
       "      <td>1</td>\n",
       "      <td>buick skylark 320</td>\n",
       "    </tr>\n",
       "    <tr>\n",
       "      <th>1</th>\n",
       "      <td>18.0</td>\n",
       "      <td>8</td>\n",
       "      <td>318.0</td>\n",
       "      <td>1.185250</td>\n",
       "      <td>3436.0</td>\n",
       "      <td>11.0</td>\n",
       "      <td>70</td>\n",
       "      <td>1</td>\n",
       "      <td>plymouth satellite</td>\n",
       "    </tr>\n",
       "    <tr>\n",
       "      <th>2</th>\n",
       "      <td>16.0</td>\n",
       "      <td>8</td>\n",
       "      <td>304.0</td>\n",
       "      <td>1.185250</td>\n",
       "      <td>3433.0</td>\n",
       "      <td>12.0</td>\n",
       "      <td>70</td>\n",
       "      <td>1</td>\n",
       "      <td>amc rebel sst</td>\n",
       "    </tr>\n",
       "    <tr>\n",
       "      <th>3</th>\n",
       "      <td>17.0</td>\n",
       "      <td>8</td>\n",
       "      <td>302.0</td>\n",
       "      <td>0.925303</td>\n",
       "      <td>3449.0</td>\n",
       "      <td>10.5</td>\n",
       "      <td>70</td>\n",
       "      <td>1</td>\n",
       "      <td>ford torino</td>\n",
       "    </tr>\n",
       "    <tr>\n",
       "      <th>4</th>\n",
       "      <td>15.0</td>\n",
       "      <td>8</td>\n",
       "      <td>429.0</td>\n",
       "      <td>2.432994</td>\n",
       "      <td>4341.0</td>\n",
       "      <td>10.0</td>\n",
       "      <td>70</td>\n",
       "      <td>1</td>\n",
       "      <td>ford galaxie 500</td>\n",
       "    </tr>\n",
       "    <tr>\n",
       "      <th>...</th>\n",
       "      <td>...</td>\n",
       "      <td>...</td>\n",
       "      <td>...</td>\n",
       "      <td>...</td>\n",
       "      <td>...</td>\n",
       "      <td>...</td>\n",
       "      <td>...</td>\n",
       "      <td>...</td>\n",
       "      <td>...</td>\n",
       "    </tr>\n",
       "    <tr>\n",
       "      <th>392</th>\n",
       "      <td>27.0</td>\n",
       "      <td>4</td>\n",
       "      <td>140.0</td>\n",
       "      <td>-0.478408</td>\n",
       "      <td>2790.0</td>\n",
       "      <td>15.6</td>\n",
       "      <td>82</td>\n",
       "      <td>1</td>\n",
       "      <td>ford mustang gl</td>\n",
       "    </tr>\n",
       "    <tr>\n",
       "      <th>393</th>\n",
       "      <td>44.0</td>\n",
       "      <td>4</td>\n",
       "      <td>97.0</td>\n",
       "      <td>-1.362226</td>\n",
       "      <td>2130.0</td>\n",
       "      <td>24.6</td>\n",
       "      <td>82</td>\n",
       "      <td>2</td>\n",
       "      <td>vw pickup</td>\n",
       "    </tr>\n",
       "    <tr>\n",
       "      <th>394</th>\n",
       "      <td>32.0</td>\n",
       "      <td>4</td>\n",
       "      <td>135.0</td>\n",
       "      <td>-0.530397</td>\n",
       "      <td>2295.0</td>\n",
       "      <td>11.6</td>\n",
       "      <td>82</td>\n",
       "      <td>1</td>\n",
       "      <td>dodge rampage</td>\n",
       "    </tr>\n",
       "    <tr>\n",
       "      <th>395</th>\n",
       "      <td>28.0</td>\n",
       "      <td>4</td>\n",
       "      <td>120.0</td>\n",
       "      <td>-0.660371</td>\n",
       "      <td>2625.0</td>\n",
       "      <td>18.6</td>\n",
       "      <td>82</td>\n",
       "      <td>1</td>\n",
       "      <td>ford ranger</td>\n",
       "    </tr>\n",
       "    <tr>\n",
       "      <th>396</th>\n",
       "      <td>31.0</td>\n",
       "      <td>4</td>\n",
       "      <td>119.0</td>\n",
       "      <td>-0.582387</td>\n",
       "      <td>2720.0</td>\n",
       "      <td>19.4</td>\n",
       "      <td>82</td>\n",
       "      <td>1</td>\n",
       "      <td>chevy s-10</td>\n",
       "    </tr>\n",
       "  </tbody>\n",
       "</table>\n",
       "<p>391 rows × 9 columns</p>\n",
       "</div>"
      ],
      "text/plain": [
       "      mpg  cylinders  displacement  horsepower  weight  acceleration  \\\n",
       "0    15.0          8         350.0    1.575170  3693.0          11.5   \n",
       "1    18.0          8         318.0    1.185250  3436.0          11.0   \n",
       "2    16.0          8         304.0    1.185250  3433.0          12.0   \n",
       "3    17.0          8         302.0    0.925303  3449.0          10.5   \n",
       "4    15.0          8         429.0    2.432994  4341.0          10.0   \n",
       "..    ...        ...           ...         ...     ...           ...   \n",
       "392  27.0          4         140.0   -0.478408  2790.0          15.6   \n",
       "393  44.0          4          97.0   -1.362226  2130.0          24.6   \n",
       "394  32.0          4         135.0   -0.530397  2295.0          11.6   \n",
       "395  28.0          4         120.0   -0.660371  2625.0          18.6   \n",
       "396  31.0          4         119.0   -0.582387  2720.0          19.4   \n",
       "\n",
       "     medel year  origin                name  \n",
       "0            70       1   buick skylark 320  \n",
       "1            70       1  plymouth satellite  \n",
       "2            70       1       amc rebel sst  \n",
       "3            70       1         ford torino  \n",
       "4            70       1    ford galaxie 500  \n",
       "..          ...     ...                 ...  \n",
       "392          82       1     ford mustang gl  \n",
       "393          82       2           vw pickup  \n",
       "394          82       1       dodge rampage  \n",
       "395          82       1         ford ranger  \n",
       "396          82       1          chevy s-10  \n",
       "\n",
       "[391 rows x 9 columns]"
      ]
     },
     "execution_count": 4,
     "metadata": {},
     "output_type": "execute_result"
    }
   ],
   "source": [
    "import pandas as pd\n",
    "df = pd.read_csv(\"prac/auto-mpg.csv\")\n",
    "df.columns= ['mpg','cylinders','displacement','horsepower','weight','acceleration','medel year','origin','name']\n",
    "\n",
    "import  numpy  as  np \n",
    "df.horsepower.replace(\"?\", np.nan,  inplace=True)\n",
    "df.dropna( subset=[\"horsepower\"], axis=0, inplace=True)\n",
    "df['horsepower']=df['horsepower'].astype('float')\n",
    "\n",
    "import pandas as pd    \n",
    "from sklearn.preprocessing import StandardScaler\n",
    "\n",
    "features = [\"horsepower\"] # 표준화 하고 싶은 column들을 입력\n",
    "autoscaler = StandardScaler()\n",
    "df[features] = autoscaler.fit_transform(df[features])\n",
    "df"
   ]
  },
  {
   "cell_type": "markdown",
   "metadata": {},
   "source": [
    "### <b>■ 시계열 데이터</b>\n",
    "    일정 시간 간격으로 배치된 데이터들의 수열\n",
    "    시계열 해석이라고 하는 것은 이런 시계열을 해석하고 이해하는데 쓰이는 여러가지 방법을 연구하는 분야\n",
    "    시계열 예측이라고 하는 것은 주어진 시계열을 보고 수학적인 모델을 만들어서 일어날 것들을 예측하는 것\n",
    "    일반적으로 이런 방법들은 공학이나 과학계산, 혹은 금융시장에서의 주가예측 등에서 많이 사용\n",
    "    주식, 환율 등 금융 데이터를 다루기 위해 개발된 Pandas는 시계열 데이터를 다루는 유용한 기능을 제공\n",
    "    \n",
    "#### <b>■ 시계열 데이터로 예측하기 실습</b>\n",
    "    미국의 항공 데이터의 우러별 승객수 데이터를 이용해서 미래의 날짜의 승객수를 예측하는 실습"
   ]
  },
  {
   "cell_type": "code",
   "execution_count": 6,
   "metadata": {
    "ExecuteTime": {
     "end_time": "2020-07-16T05:28:56.930198Z",
     "start_time": "2020-07-16T05:28:56.736615Z"
    }
   },
   "outputs": [
    {
     "name": "stdout",
     "output_type": "stream",
     "text": [
      "     Month  Passengers\n",
      "0  1949-01       112.0\n",
      "1  1949-02       118.0\n",
      "2  1949-03       132.0\n",
      "3  1949-04       129.0\n",
      "4  1949-05       121.0\n",
      "                                                 Month  Passengers\n",
      "141                                            1960-10       461.0\n",
      "142                                            1960-11       390.0\n",
      "143                                            1960-12       432.0\n",
      "144                                                NaN         NaN\n",
      "145  International airline passengers: monthly tota...         NaN\n",
      "<class 'pandas.core.frame.DataFrame'>\n",
      "RangeIndex: 146 entries, 0 to 145\n",
      "Data columns (total 2 columns):\n",
      " #   Column      Non-Null Count  Dtype  \n",
      "---  ------      --------------  -----  \n",
      " 0   Month       145 non-null    object \n",
      " 1   Passengers  144 non-null    float64\n",
      "dtypes: float64(1), object(1)\n",
      "memory usage: 2.4+ KB\n",
      "None\n"
     ]
    }
   ],
   "source": [
    "import pandas as pd\n",
    "import matplotlib.pyplot as plt\n",
    "import seaborn as sns\n",
    "\n",
    "#matplotlib 패키지 한글 설정 시작\n",
    "# from matplotlib import rc\n",
    "# rc('font', family='Malgun Gothic') \n",
    "#matplotlib 패키지 한글 설정 끝\n",
    "\n",
    "# 1. 데이터 로드\n",
    "df = pd.read_csv('https://raw.githubusercontent.com/ivanarielcaceres/timeseries-lstm-keras/master/data/international-airline-passengers.csv')\n",
    "\n",
    "#2. 데이터 분석\n",
    "print(df.head())\n",
    "print(df.tail())\n",
    "print(df.info())"
   ]
  },
  {
   "cell_type": "code",
   "execution_count": 7,
   "metadata": {
    "ExecuteTime": {
     "end_time": "2020-07-16T05:31:53.046619Z",
     "start_time": "2020-07-16T05:31:51.451478Z"
    }
   },
   "outputs": [
    {
     "data": {
      "image/png": "[encoded data removed]",
      "text/plain": [
       "<Figure size 2160x720 with 1 Axes>"
      ]
     },
     "metadata": {
      "needs_background": "light"
     },
     "output_type": "display_data"
    }
   ],
   "source": [
    "#3. 시각화 하기 \n",
    "import matplotlib.pyplot as plt\n",
    "plt.rcParams[\"figure.figsize\"] = (30,10) # (가로, 세로)\n",
    "plt.rcParams.update({'font.size': 9}) # 글자 크기\n",
    "\n",
    "sns.lineplot(x='Month', y='Passengers', data=df)\n",
    "plt.show()"
   ]
  },
  {
   "cell_type": "code",
   "execution_count": 8,
   "metadata": {
    "ExecuteTime": {
     "end_time": "2020-07-16T05:32:00.029566Z",
     "start_time": "2020-07-16T05:31:58.698652Z"
    }
   },
   "outputs": [
    {
     "name": "stdout",
     "output_type": "stream",
     "text": [
      "                                                 Month  Passengers\n",
      "0                                              1949-01       112.0\n",
      "1                                              1949-02       118.0\n",
      "2                                              1949-03       132.0\n",
      "3                                              1949-04       129.0\n",
      "4                                              1949-05       121.0\n",
      "..                                                 ...         ...\n",
      "141                                            1960-10       461.0\n",
      "142                                            1960-11       390.0\n",
      "143                                            1960-12       432.0\n",
      "144                                                NaN         NaN\n",
      "145  International airline passengers: monthly tota...         NaN\n",
      "\n",
      "[146 rows x 2 columns]\n",
      "       Month  Passengers\n",
      "0    1949-01       112.0\n",
      "1    1949-02       118.0\n",
      "2    1949-03       132.0\n",
      "3    1949-04       129.0\n",
      "4    1949-05       121.0\n",
      "..       ...         ...\n",
      "139  1960-08       606.0\n",
      "140  1960-09       508.0\n",
      "141  1960-10       461.0\n",
      "142  1960-11       390.0\n",
      "143  1960-12       432.0\n",
      "\n",
      "[144 rows x 2 columns]\n"
     ]
    }
   ],
   "source": [
    "# 4.  결측치를 제거합니다.\n",
    "import pandas as pd\n",
    "from statsmodels.tsa.arima_model import ARIMA\n",
    "\n",
    "# df = pd.read_csv('https://raw.githubusercontent.com/ivanarielcaceres/timeseries-lstm-keras/master/data/international-airline-passengers.csv')\n",
    "# print(df)\n",
    "\n",
    "df = df.dropna()\n",
    "print(df)"
   ]
  },
  {
   "cell_type": "code",
   "execution_count": 9,
   "metadata": {
    "ExecuteTime": {
     "end_time": "2020-07-16T05:32:35.448679Z",
     "start_time": "2020-07-16T05:32:35.423694Z"
    }
   },
   "outputs": [
    {
     "data": {
      "text/html": [
       "<div>\n",
       "<style scoped>\n",
       "    .dataframe tbody tr th:only-of-type {\n",
       "        vertical-align: middle;\n",
       "    }\n",
       "\n",
       "    .dataframe tbody tr th {\n",
       "        vertical-align: top;\n",
       "    }\n",
       "\n",
       "    .dataframe thead th {\n",
       "        text-align: right;\n",
       "    }\n",
       "</style>\n",
       "<table border=\"1\" class=\"dataframe\">\n",
       "  <thead>\n",
       "    <tr style=\"text-align: right;\">\n",
       "      <th></th>\n",
       "      <th>Passengers</th>\n",
       "    </tr>\n",
       "    <tr>\n",
       "      <th>Month</th>\n",
       "      <th></th>\n",
       "    </tr>\n",
       "  </thead>\n",
       "  <tbody>\n",
       "    <tr>\n",
       "      <th>1949-01-01</th>\n",
       "      <td>112.0</td>\n",
       "    </tr>\n",
       "    <tr>\n",
       "      <th>1949-02-01</th>\n",
       "      <td>118.0</td>\n",
       "    </tr>\n",
       "    <tr>\n",
       "      <th>1949-03-01</th>\n",
       "      <td>132.0</td>\n",
       "    </tr>\n",
       "    <tr>\n",
       "      <th>1949-04-01</th>\n",
       "      <td>129.0</td>\n",
       "    </tr>\n",
       "    <tr>\n",
       "      <th>1949-05-01</th>\n",
       "      <td>121.0</td>\n",
       "    </tr>\n",
       "  </tbody>\n",
       "</table>\n",
       "</div>"
      ],
      "text/plain": [
       "            Passengers\n",
       "Month                 \n",
       "1949-01-01       112.0\n",
       "1949-02-01       118.0\n",
       "1949-03-01       132.0\n",
       "1949-04-01       129.0\n",
       "1949-05-01       121.0"
      ]
     },
     "execution_count": 9,
     "metadata": {},
     "output_type": "execute_result"
    }
   ],
   "source": [
    "# 5. 연도와 달에 대한 컬럼을 만들어서 행 인덱스로 지정합니다. \n",
    "df['Month'] = pd.to_datetime(df.Month, format='%Y-%m') # 날짜형으로 변환\n",
    "df = df.set_index('Month') # 행 index로 지정\n",
    "df.head()"
   ]
  },
  {
   "cell_type": "code",
   "execution_count": 10,
   "metadata": {
    "ExecuteTime": {
     "end_time": "2020-07-16T05:35:15.966436Z",
     "start_time": "2020-07-16T05:35:15.364575Z"
    }
   },
   "outputs": [
    {
     "name": "stderr",
     "output_type": "stream",
     "text": [
      "C:\\Users\\knitwill\\anaconda3\\lib\\site-packages\\statsmodels\\tsa\\base\\tsa_model.py:162: ValueWarning: No frequency information was provided, so inferred frequency MS will be used.\n",
      "  % freq, ValueWarning)\n",
      "C:\\Users\\knitwill\\anaconda3\\lib\\site-packages\\statsmodels\\tsa\\base\\tsa_model.py:162: ValueWarning: No frequency information was provided, so inferred frequency MS will be used.\n",
      "  % freq, ValueWarning)\n"
     ]
    }
   ],
   "source": [
    "# 6. 모델을 생성합니다.\n",
    "import pandas as pd\n",
    "from statsmodels.tsa.arima_model import ARIMA\n",
    "\n",
    "order = (2, 1, 2)\n",
    "\n",
    "#model = ARIMA(df, order, freq='D')\n",
    "\n",
    "model = ARIMA(df, order)\n",
    "fit = model.fit()\n",
    "#print(fit.summary())"
   ]
  },
  {
   "cell_type": "markdown",
   "metadata": {},
   "source": [
    "    ※ order=(2, 1, 2) : 한번 차분하고 acf 가 2 시점에서 끊기고 pacf 도 2 시점에서 끊긴 모델 \n",
    "       order = (pacf 끊긴것,  한번 차분, acf 가 2시점에서 끊김)\n",
    "       acf 가 서서히 감소하고 pcf 가 p 시점에서 절단이 되면 ar(p) 라는 모델이라 할 수있다.\n",
    "       pacf 가 서서히 감소하고 acf 가 p 시점에서 절단이 되면 ma(p) 라는 모델이라 할 수 있다.  \n",
    "       차분은 평균이 일정하지 않은 시계열 데이터를 평균을 맞추기 위해서 하는 작업을 말한다. \n",
    "       안정적인 시계열 예측을 하기위해 차분을 하는데 차분이란 ? http://www.dodomira.com/2016/04/21/arima_in_r/"
   ]
  },
  {
   "cell_type": "code",
   "execution_count": 12,
   "metadata": {
    "ExecuteTime": {
     "end_time": "2020-07-16T05:35:54.084711Z",
     "start_time": "2020-07-16T05:35:53.917813Z"
    }
   },
   "outputs": [
    {
     "name": "stdout",
     "output_type": "stream",
     "text": [
      "1949-02-01     114.531017\n",
      "1949-03-01     121.350805\n",
      "1949-04-01     137.221162\n",
      "1949-05-01     129.789184\n",
      "1949-06-01     119.169305\n",
      "                 ...     \n",
      "2198-09-01    7714.723051\n",
      "2198-10-01    7717.254068\n",
      "2198-11-01    7719.785084\n",
      "2198-12-01    7722.316101\n",
      "2199-01-01    7724.847118\n",
      "Freq: MS, Length: 3000, dtype: float64\n"
     ]
    }
   ],
   "source": [
    "# 7. 예측을 합니다. \n",
    "preds = fit.predict(1, 3000, typ='levels')\n",
    "print(preds)\n",
    "\n",
    "# 8. 기간을 주고 예측합니다.\n",
    "#preds = fit.predict(\"2001-11-02\", \"2001-12-15\", typ='levels')\n",
    "#print(preds)"
   ]
  },
  {
   "cell_type": "markdown",
   "metadata": {},
   "source": [
    "#### <b>주식 데이터 시계열 분석 실습</b>"
   ]
  },
  {
   "cell_type": "code",
   "execution_count": 22,
   "metadata": {
    "ExecuteTime": {
     "end_time": "2020-07-16T06:09:31.739140Z",
     "start_time": "2020-07-16T06:09:31.724147Z"
    }
   },
   "outputs": [
    {
     "name": "stdout",
     "output_type": "stream",
     "text": [
      "<class 'pandas.core.frame.DataFrame'>\n",
      "RangeIndex: 20 entries, 0 to 19\n",
      "Data columns (total 6 columns):\n",
      " #   Column  Non-Null Count  Dtype \n",
      "---  ------  --------------  ----- \n",
      " 0   Date    20 non-null     object\n",
      " 1   Close   20 non-null     int64 \n",
      " 2   Start   20 non-null     int64 \n",
      " 3   High    20 non-null     int64 \n",
      " 4   Low     20 non-null     int64 \n",
      " 5   Volume  20 non-null     int64 \n",
      "dtypes: int64(5), object(1)\n",
      "memory usage: 1.1+ KB\n"
     ]
    },
    {
     "data": {
      "text/plain": [
       "(         Date  Close  Start   High    Low  Volume\n",
       " 0  2018-07-02  10100  10850  10900  10000  137977\n",
       " 1  2018-06-29  10700  10550  10900   9990  170253\n",
       " 2  2018-06-28  10400  10900  10950  10150  155769\n",
       " 3  2018-06-27  10900  10800  11050  10500  133548\n",
       " 4  2018-06-26  10800  10900  11000  10700   63039,\n",
       " None)"
      ]
     },
     "execution_count": 22,
     "metadata": {},
     "output_type": "execute_result"
    }
   ],
   "source": [
    "import pandas as pd\n",
    "\n",
    "df = pd.read_csv('prac/stock-data.csv')\n",
    "df.head(), df.info()"
   ]
  },
  {
   "cell_type": "markdown",
   "metadata": {
    "ExecuteTime": {
     "end_time": "2020-07-16T06:08:20.577976Z",
     "start_time": "2020-07-16T06:08:20.374913Z"
    }
   },
   "source": [
    "    Date 컬럼이 Object(문자열)이므로 시계열 분석을 할 수가 없다. 따라서 Date 컬럼을 `to_datetime()`을 이용하여 timestamp 객체로 변경한다."
   ]
  },
  {
   "cell_type": "code",
   "execution_count": 23,
   "metadata": {
    "ExecuteTime": {
     "end_time": "2020-07-16T06:09:33.960733Z",
     "start_time": "2020-07-16T06:09:33.949739Z"
    }
   },
   "outputs": [
    {
     "name": "stdout",
     "output_type": "stream",
     "text": [
      "<class 'pandas.core.frame.DataFrame'>\n",
      "RangeIndex: 20 entries, 0 to 19\n",
      "Data columns (total 7 columns):\n",
      " #   Column    Non-Null Count  Dtype         \n",
      "---  ------    --------------  -----         \n",
      " 0   Date      20 non-null     object        \n",
      " 1   Close     20 non-null     int64         \n",
      " 2   Start     20 non-null     int64         \n",
      " 3   High      20 non-null     int64         \n",
      " 4   Low       20 non-null     int64         \n",
      " 5   Volume    20 non-null     int64         \n",
      " 6   new_Date  20 non-null     datetime64[ns]\n",
      "dtypes: datetime64[ns](1), int64(5), object(1)\n",
      "memory usage: 1.2+ KB\n"
     ]
    }
   ],
   "source": [
    "df['new_Date'] = pd.to_datetime(df.Date)\n",
    "df.info()"
   ]
  },
  {
   "cell_type": "markdown",
   "metadata": {},
   "source": [
    "    위와 같이 datetime으로 변경이 되면 시간 순거에 맞춰 데이터를 검색하기가 편해진다.\n",
    "    시계열 컬럼을 row index로 지정하면 시간 순서에 맞춰 indexing 또는 슬라이싱 하기가 편해진다."
   ]
  },
  {
   "cell_type": "markdown",
   "metadata": {},
   "source": [
    "### ※ 문제171. 기존의 Date column을 삭제하시오"
   ]
  },
  {
   "cell_type": "code",
   "execution_count": 24,
   "metadata": {
    "ExecuteTime": {
     "end_time": "2020-07-16T06:09:36.964202Z",
     "start_time": "2020-07-16T06:09:36.953209Z"
    }
   },
   "outputs": [
    {
     "name": "stdout",
     "output_type": "stream",
     "text": [
      "<class 'pandas.core.frame.DataFrame'>\n",
      "RangeIndex: 20 entries, 0 to 19\n",
      "Data columns (total 6 columns):\n",
      " #   Column    Non-Null Count  Dtype         \n",
      "---  ------    --------------  -----         \n",
      " 0   Close     20 non-null     int64         \n",
      " 1   Start     20 non-null     int64         \n",
      " 2   High      20 non-null     int64         \n",
      " 3   Low       20 non-null     int64         \n",
      " 4   Volume    20 non-null     int64         \n",
      " 5   new_Date  20 non-null     datetime64[ns]\n",
      "dtypes: datetime64[ns](1), int64(5)\n",
      "memory usage: 1.1 KB\n"
     ]
    }
   ],
   "source": [
    "df.drop('Date',axis=1, inplace=True)\n",
    "df.info()"
   ]
  },
  {
   "cell_type": "markdown",
   "metadata": {},
   "source": [
    "### ※ 문제172. 새로운 column인 new_Date를 행 index로 지정하시오"
   ]
  },
  {
   "cell_type": "code",
   "execution_count": 25,
   "metadata": {
    "ExecuteTime": {
     "end_time": "2020-07-16T06:09:38.692699Z",
     "start_time": "2020-07-16T06:09:38.682703Z"
    }
   },
   "outputs": [
    {
     "data": {
      "text/html": [
       "<div>\n",
       "<style scoped>\n",
       "    .dataframe tbody tr th:only-of-type {\n",
       "        vertical-align: middle;\n",
       "    }\n",
       "\n",
       "    .dataframe tbody tr th {\n",
       "        vertical-align: top;\n",
       "    }\n",
       "\n",
       "    .dataframe thead th {\n",
       "        text-align: right;\n",
       "    }\n",
       "</style>\n",
       "<table border=\"1\" class=\"dataframe\">\n",
       "  <thead>\n",
       "    <tr style=\"text-align: right;\">\n",
       "      <th></th>\n",
       "      <th>Close</th>\n",
       "      <th>Start</th>\n",
       "      <th>High</th>\n",
       "      <th>Low</th>\n",
       "      <th>Volume</th>\n",
       "    </tr>\n",
       "    <tr>\n",
       "      <th>new_Date</th>\n",
       "      <th></th>\n",
       "      <th></th>\n",
       "      <th></th>\n",
       "      <th></th>\n",
       "      <th></th>\n",
       "    </tr>\n",
       "  </thead>\n",
       "  <tbody>\n",
       "    <tr>\n",
       "      <th>2018-07-02</th>\n",
       "      <td>10100</td>\n",
       "      <td>10850</td>\n",
       "      <td>10900</td>\n",
       "      <td>10000</td>\n",
       "      <td>137977</td>\n",
       "    </tr>\n",
       "    <tr>\n",
       "      <th>2018-06-29</th>\n",
       "      <td>10700</td>\n",
       "      <td>10550</td>\n",
       "      <td>10900</td>\n",
       "      <td>9990</td>\n",
       "      <td>170253</td>\n",
       "    </tr>\n",
       "    <tr>\n",
       "      <th>2018-06-28</th>\n",
       "      <td>10400</td>\n",
       "      <td>10900</td>\n",
       "      <td>10950</td>\n",
       "      <td>10150</td>\n",
       "      <td>155769</td>\n",
       "    </tr>\n",
       "    <tr>\n",
       "      <th>2018-06-27</th>\n",
       "      <td>10900</td>\n",
       "      <td>10800</td>\n",
       "      <td>11050</td>\n",
       "      <td>10500</td>\n",
       "      <td>133548</td>\n",
       "    </tr>\n",
       "    <tr>\n",
       "      <th>2018-06-26</th>\n",
       "      <td>10800</td>\n",
       "      <td>10900</td>\n",
       "      <td>11000</td>\n",
       "      <td>10700</td>\n",
       "      <td>63039</td>\n",
       "    </tr>\n",
       "  </tbody>\n",
       "</table>\n",
       "</div>"
      ],
      "text/plain": [
       "            Close  Start   High    Low  Volume\n",
       "new_Date                                      \n",
       "2018-07-02  10100  10850  10900  10000  137977\n",
       "2018-06-29  10700  10550  10900   9990  170253\n",
       "2018-06-28  10400  10900  10950  10150  155769\n",
       "2018-06-27  10900  10800  11050  10500  133548\n",
       "2018-06-26  10800  10900  11000  10700   63039"
      ]
     },
     "execution_count": 25,
     "metadata": {},
     "output_type": "execute_result"
    }
   ],
   "source": [
    "df.set_index('new_Date',inplace=True)\n",
    "df.head()"
   ]
  },
  {
   "cell_type": "markdown",
   "metadata": {},
   "source": [
    "### ※ 문제173. 위의 new_Date 시계열 데이터를 이용해서 파생변수 3개를 생성하시오\n",
    "    연도만 있는 Year, 월만 있는 Month, 일만 있는 Day를 생성하시오"
   ]
  },
  {
   "cell_type": "code",
   "execution_count": 29,
   "metadata": {
    "ExecuteTime": {
     "end_time": "2020-07-16T06:18:43.821856Z",
     "start_time": "2020-07-16T06:18:43.766890Z"
    }
   },
   "outputs": [
    {
     "name": "stdout",
     "output_type": "stream",
     "text": [
      "<class 'pandas.core.frame.DataFrame'>\n",
      "RangeIndex: 20 entries, 0 to 19\n",
      "Data columns (total 6 columns):\n",
      " #   Column  Non-Null Count  Dtype         \n",
      "---  ------  --------------  -----         \n",
      " 0   Date    20 non-null     datetime64[ns]\n",
      " 1   Close   20 non-null     int64         \n",
      " 2   Start   20 non-null     int64         \n",
      " 3   High    20 non-null     int64         \n",
      " 4   Low     20 non-null     int64         \n",
      " 5   Volume  20 non-null     int64         \n",
      "dtypes: datetime64[ns](1), int64(5)\n",
      "memory usage: 1.1 KB\n"
     ]
    },
    {
     "data": {
      "text/html": [
       "<div>\n",
       "<style scoped>\n",
       "    .dataframe tbody tr th:only-of-type {\n",
       "        vertical-align: middle;\n",
       "    }\n",
       "\n",
       "    .dataframe tbody tr th {\n",
       "        vertical-align: top;\n",
       "    }\n",
       "\n",
       "    .dataframe thead th {\n",
       "        text-align: right;\n",
       "    }\n",
       "</style>\n",
       "<table border=\"1\" class=\"dataframe\">\n",
       "  <thead>\n",
       "    <tr style=\"text-align: right;\">\n",
       "      <th></th>\n",
       "      <th>Close</th>\n",
       "      <th>Start</th>\n",
       "      <th>High</th>\n",
       "      <th>Low</th>\n",
       "      <th>Volume</th>\n",
       "      <th>year</th>\n",
       "      <th>month</th>\n",
       "      <th>day</th>\n",
       "    </tr>\n",
       "    <tr>\n",
       "      <th>Date</th>\n",
       "      <th></th>\n",
       "      <th></th>\n",
       "      <th></th>\n",
       "      <th></th>\n",
       "      <th></th>\n",
       "      <th></th>\n",
       "      <th></th>\n",
       "      <th></th>\n",
       "    </tr>\n",
       "  </thead>\n",
       "  <tbody>\n",
       "    <tr>\n",
       "      <th>2018-07-02</th>\n",
       "      <td>10100</td>\n",
       "      <td>10850</td>\n",
       "      <td>10900</td>\n",
       "      <td>10000</td>\n",
       "      <td>137977</td>\n",
       "      <td>2018</td>\n",
       "      <td>7</td>\n",
       "      <td>2</td>\n",
       "    </tr>\n",
       "    <tr>\n",
       "      <th>2018-06-29</th>\n",
       "      <td>10700</td>\n",
       "      <td>10550</td>\n",
       "      <td>10900</td>\n",
       "      <td>9990</td>\n",
       "      <td>170253</td>\n",
       "      <td>2018</td>\n",
       "      <td>6</td>\n",
       "      <td>29</td>\n",
       "    </tr>\n",
       "    <tr>\n",
       "      <th>2018-06-28</th>\n",
       "      <td>10400</td>\n",
       "      <td>10900</td>\n",
       "      <td>10950</td>\n",
       "      <td>10150</td>\n",
       "      <td>155769</td>\n",
       "      <td>2018</td>\n",
       "      <td>6</td>\n",
       "      <td>28</td>\n",
       "    </tr>\n",
       "    <tr>\n",
       "      <th>2018-06-27</th>\n",
       "      <td>10900</td>\n",
       "      <td>10800</td>\n",
       "      <td>11050</td>\n",
       "      <td>10500</td>\n",
       "      <td>133548</td>\n",
       "      <td>2018</td>\n",
       "      <td>6</td>\n",
       "      <td>27</td>\n",
       "    </tr>\n",
       "    <tr>\n",
       "      <th>2018-06-26</th>\n",
       "      <td>10800</td>\n",
       "      <td>10900</td>\n",
       "      <td>11000</td>\n",
       "      <td>10700</td>\n",
       "      <td>63039</td>\n",
       "      <td>2018</td>\n",
       "      <td>6</td>\n",
       "      <td>26</td>\n",
       "    </tr>\n",
       "    <tr>\n",
       "      <th>2018-06-25</th>\n",
       "      <td>11150</td>\n",
       "      <td>11400</td>\n",
       "      <td>11450</td>\n",
       "      <td>11000</td>\n",
       "      <td>55519</td>\n",
       "      <td>2018</td>\n",
       "      <td>6</td>\n",
       "      <td>25</td>\n",
       "    </tr>\n",
       "    <tr>\n",
       "      <th>2018-06-22</th>\n",
       "      <td>11300</td>\n",
       "      <td>11250</td>\n",
       "      <td>11450</td>\n",
       "      <td>10750</td>\n",
       "      <td>134805</td>\n",
       "      <td>2018</td>\n",
       "      <td>6</td>\n",
       "      <td>22</td>\n",
       "    </tr>\n",
       "    <tr>\n",
       "      <th>2018-06-21</th>\n",
       "      <td>11200</td>\n",
       "      <td>11350</td>\n",
       "      <td>11750</td>\n",
       "      <td>11200</td>\n",
       "      <td>133002</td>\n",
       "      <td>2018</td>\n",
       "      <td>6</td>\n",
       "      <td>21</td>\n",
       "    </tr>\n",
       "    <tr>\n",
       "      <th>2018-06-20</th>\n",
       "      <td>11550</td>\n",
       "      <td>11200</td>\n",
       "      <td>11600</td>\n",
       "      <td>10900</td>\n",
       "      <td>308596</td>\n",
       "      <td>2018</td>\n",
       "      <td>6</td>\n",
       "      <td>20</td>\n",
       "    </tr>\n",
       "    <tr>\n",
       "      <th>2018-06-19</th>\n",
       "      <td>11300</td>\n",
       "      <td>11850</td>\n",
       "      <td>11950</td>\n",
       "      <td>11300</td>\n",
       "      <td>180656</td>\n",
       "      <td>2018</td>\n",
       "      <td>6</td>\n",
       "      <td>19</td>\n",
       "    </tr>\n",
       "    <tr>\n",
       "      <th>2018-06-18</th>\n",
       "      <td>12000</td>\n",
       "      <td>13400</td>\n",
       "      <td>13400</td>\n",
       "      <td>12000</td>\n",
       "      <td>309787</td>\n",
       "      <td>2018</td>\n",
       "      <td>6</td>\n",
       "      <td>18</td>\n",
       "    </tr>\n",
       "    <tr>\n",
       "      <th>2018-06-15</th>\n",
       "      <td>13400</td>\n",
       "      <td>13600</td>\n",
       "      <td>13600</td>\n",
       "      <td>12900</td>\n",
       "      <td>201376</td>\n",
       "      <td>2018</td>\n",
       "      <td>6</td>\n",
       "      <td>15</td>\n",
       "    </tr>\n",
       "    <tr>\n",
       "      <th>2018-06-14</th>\n",
       "      <td>13450</td>\n",
       "      <td>13200</td>\n",
       "      <td>13700</td>\n",
       "      <td>13150</td>\n",
       "      <td>347451</td>\n",
       "      <td>2018</td>\n",
       "      <td>6</td>\n",
       "      <td>14</td>\n",
       "    </tr>\n",
       "    <tr>\n",
       "      <th>2018-06-12</th>\n",
       "      <td>13200</td>\n",
       "      <td>12200</td>\n",
       "      <td>13300</td>\n",
       "      <td>12050</td>\n",
       "      <td>558148</td>\n",
       "      <td>2018</td>\n",
       "      <td>6</td>\n",
       "      <td>12</td>\n",
       "    </tr>\n",
       "    <tr>\n",
       "      <th>2018-06-11</th>\n",
       "      <td>11950</td>\n",
       "      <td>12000</td>\n",
       "      <td>12250</td>\n",
       "      <td>11950</td>\n",
       "      <td>62293</td>\n",
       "      <td>2018</td>\n",
       "      <td>6</td>\n",
       "      <td>11</td>\n",
       "    </tr>\n",
       "    <tr>\n",
       "      <th>2018-06-08</th>\n",
       "      <td>11950</td>\n",
       "      <td>11950</td>\n",
       "      <td>12200</td>\n",
       "      <td>11800</td>\n",
       "      <td>59258</td>\n",
       "      <td>2018</td>\n",
       "      <td>6</td>\n",
       "      <td>8</td>\n",
       "    </tr>\n",
       "    <tr>\n",
       "      <th>2018-06-07</th>\n",
       "      <td>11950</td>\n",
       "      <td>12200</td>\n",
       "      <td>12300</td>\n",
       "      <td>11900</td>\n",
       "      <td>49088</td>\n",
       "      <td>2018</td>\n",
       "      <td>6</td>\n",
       "      <td>7</td>\n",
       "    </tr>\n",
       "    <tr>\n",
       "      <th>2018-06-05</th>\n",
       "      <td>12150</td>\n",
       "      <td>11800</td>\n",
       "      <td>12250</td>\n",
       "      <td>11800</td>\n",
       "      <td>42485</td>\n",
       "      <td>2018</td>\n",
       "      <td>6</td>\n",
       "      <td>5</td>\n",
       "    </tr>\n",
       "    <tr>\n",
       "      <th>2018-06-04</th>\n",
       "      <td>11900</td>\n",
       "      <td>11900</td>\n",
       "      <td>12200</td>\n",
       "      <td>11700</td>\n",
       "      <td>25171</td>\n",
       "      <td>2018</td>\n",
       "      <td>6</td>\n",
       "      <td>4</td>\n",
       "    </tr>\n",
       "    <tr>\n",
       "      <th>2018-06-01</th>\n",
       "      <td>11900</td>\n",
       "      <td>11800</td>\n",
       "      <td>12100</td>\n",
       "      <td>11750</td>\n",
       "      <td>32062</td>\n",
       "      <td>2018</td>\n",
       "      <td>6</td>\n",
       "      <td>1</td>\n",
       "    </tr>\n",
       "  </tbody>\n",
       "</table>\n",
       "</div>"
      ],
      "text/plain": [
       "            Close  Start   High    Low  Volume  year  month  day\n",
       "Date                                                            \n",
       "2018-07-02  10100  10850  10900  10000  137977  2018      7    2\n",
       "2018-06-29  10700  10550  10900   9990  170253  2018      6   29\n",
       "2018-06-28  10400  10900  10950  10150  155769  2018      6   28\n",
       "2018-06-27  10900  10800  11050  10500  133548  2018      6   27\n",
       "2018-06-26  10800  10900  11000  10700   63039  2018      6   26\n",
       "2018-06-25  11150  11400  11450  11000   55519  2018      6   25\n",
       "2018-06-22  11300  11250  11450  10750  134805  2018      6   22\n",
       "2018-06-21  11200  11350  11750  11200  133002  2018      6   21\n",
       "2018-06-20  11550  11200  11600  10900  308596  2018      6   20\n",
       "2018-06-19  11300  11850  11950  11300  180656  2018      6   19\n",
       "2018-06-18  12000  13400  13400  12000  309787  2018      6   18\n",
       "2018-06-15  13400  13600  13600  12900  201376  2018      6   15\n",
       "2018-06-14  13450  13200  13700  13150  347451  2018      6   14\n",
       "2018-06-12  13200  12200  13300  12050  558148  2018      6   12\n",
       "2018-06-11  11950  12000  12250  11950   62293  2018      6   11\n",
       "2018-06-08  11950  11950  12200  11800   59258  2018      6    8\n",
       "2018-06-07  11950  12200  12300  11900   49088  2018      6    7\n",
       "2018-06-05  12150  11800  12250  11800   42485  2018      6    5\n",
       "2018-06-04  11900  11900  12200  11700   25171  2018      6    4\n",
       "2018-06-01  11900  11800  12100  11750   32062  2018      6    1"
      ]
     },
     "execution_count": 29,
     "metadata": {},
     "output_type": "execute_result"
    }
   ],
   "source": [
    "import pandas as pd\n",
    "\n",
    "df = pd.read_csv(\"prac/stock-data.csv\")\n",
    "\n",
    "df[['Date']] = pd.to_datetime(df.Date,format='%Y-%m-%d')\n",
    "df.info()\n",
    "\n",
    "df.set_index('Date',inplace=True)\n",
    "\n",
    "df['year'] = df.index.year\n",
    "df['month'] = df.index.month\n",
    "df['day'] = df.index.day\n",
    "df"
   ]
  },
  {
   "cell_type": "markdown",
   "metadata": {},
   "source": [
    "### ※ 문제174. 위의 데이터에서 행 index date와 close를 가져와서 별도의 데이터프레임인 df2로 생성하시오"
   ]
  },
  {
   "cell_type": "code",
   "execution_count": 43,
   "metadata": {
    "ExecuteTime": {
     "end_time": "2020-07-16T06:30:07.918679Z",
     "start_time": "2020-07-16T06:30:07.885698Z"
    }
   },
   "outputs": [
    {
     "name": "stdout",
     "output_type": "stream",
     "text": [
      "<class 'pandas.core.frame.DataFrame'>\n",
      "DatetimeIndex: 20 entries, 2018-07-02 to 2018-06-01\n",
      "Data columns (total 1 columns):\n",
      " #   Column  Non-Null Count  Dtype\n",
      "---  ------  --------------  -----\n",
      " 0   Close   20 non-null     int64\n",
      "dtypes: int64(1)\n",
      "memory usage: 320.0 bytes\n"
     ]
    }
   ],
   "source": [
    "df2 = df[['Close']]\n",
    "df2."
   ]
  },
  {
   "cell_type": "markdown",
   "metadata": {},
   "source": [
    "### ※ 문제175. 위의 데이터를 이용해서 시계열 예측을 하시오"
   ]
  },
  {
   "cell_type": "code",
   "execution_count": 36,
   "metadata": {
    "ExecuteTime": {
     "end_time": "2020-07-16T06:27:07.490444Z",
     "start_time": "2020-07-16T06:27:06.289475Z"
    }
   },
   "outputs": [
    {
     "data": {
      "image/png": "[encoded data removed]",
      "text/plain": [
       "<Figure size 2160x720 with 1 Axes>"
      ]
     },
     "metadata": {
      "needs_background": "light"
     },
     "output_type": "display_data"
    }
   ],
   "source": [
    "import pandas as pd\n",
    "import matplotlib.pyplot as plt\n",
    "import seaborn as sns\n",
    "\n",
    "import matplotlib.pyplot as plt\n",
    "plt.rcParams[\"figure.figsize\"] = (30,10) # (가로, 세로)\n",
    "plt.rcParams.update({'font.size': 15}) # 글자 크기\n",
    "\n",
    "sns.lineplot(data=df2)\n",
    "plt.show()"
   ]
  },
  {
   "cell_type": "code",
   "execution_count": 50,
   "metadata": {
    "ExecuteTime": {
     "end_time": "2020-07-16T06:39:58.210077Z",
     "start_time": "2020-07-16T06:39:58.136122Z"
    }
   },
   "outputs": [
    {
     "name": "stdout",
     "output_type": "stream",
     "text": [
      "0      10197.213453\n",
      "1      10845.488164\n",
      "2      10454.042223\n",
      "3      11040.433934\n",
      "4      10873.911519\n",
      "           ...     \n",
      "295    38822.068576\n",
      "296    38919.282028\n",
      "297    39016.495481\n",
      "298    39113.708934\n",
      "299    39210.922387\n",
      "Length: 300, dtype: float64\n"
     ]
    },
    {
     "name": "stderr",
     "output_type": "stream",
     "text": [
      "C:\\Users\\knitwill\\anaconda3\\lib\\site-packages\\pandas\\core\\generic.py:5303: SettingWithCopyWarning: \n",
      "A value is trying to be set on a copy of a slice from a DataFrame.\n",
      "Try using .loc[row_indexer,col_indexer] = value instead\n",
      "\n",
      "See the caveats in the documentation: https://pandas.pydata.org/pandas-docs/stable/user_guide/indexing.html#returning-a-view-versus-a-copy\n",
      "  self[name] = value\n",
      "C:\\Users\\knitwill\\anaconda3\\lib\\site-packages\\statsmodels\\tsa\\base\\tsa_model.py:218: ValueWarning: A date index has been provided, but it has no associated frequency information and so will be ignored when e.g. forecasting.\n",
      "  ' ignored when e.g. forecasting.', ValueWarning)\n",
      "C:\\Users\\knitwill\\anaconda3\\lib\\site-packages\\statsmodels\\tsa\\base\\tsa_model.py:222: ValueWarning: A date index has been provided, but it is not monotonic and so will be ignored when e.g. forecasting.\n",
      "  ' forecasting.', ValueWarning)\n",
      "C:\\Users\\knitwill\\anaconda3\\lib\\site-packages\\statsmodels\\tsa\\base\\tsa_model.py:218: ValueWarning: A date index has been provided, but it has no associated frequency information and so will be ignored when e.g. forecasting.\n",
      "  ' ignored when e.g. forecasting.', ValueWarning)\n",
      "C:\\Users\\knitwill\\anaconda3\\lib\\site-packages\\statsmodels\\tsa\\base\\tsa_model.py:222: ValueWarning: A date index has been provided, but it is not monotonic and so will be ignored when e.g. forecasting.\n",
      "  ' forecasting.', ValueWarning)\n",
      "C:\\Users\\knitwill\\anaconda3\\lib\\site-packages\\statsmodels\\tsa\\base\\tsa_model.py:583: ValueWarning: No supported index is available. Prediction results will be given with an integer index beginning at `start`.\n",
      "  ValueWarning)\n",
      "C:\\Users\\knitwill\\anaconda3\\lib\\site-packages\\statsmodels\\tsa\\base\\tsa_model.py:583: ValueWarning: No supported index is available. Prediction results will be given with an integer index beginning at `start`.\n",
      "  ValueWarning)\n"
     ]
    }
   ],
   "source": [
    "import pandas as pd\n",
    "from statsmodels.tsa.arima_model import ARIMA\n",
    "\n",
    "order = (0, 1, 1)\n",
    "df2.Close = df2.Close.astype('float')\n",
    "#model = ARIMA(df, order, freq='D')\n",
    "\n",
    "model = ARIMA(df2, order)\n",
    "fit = model.fit()\n",
    "\n",
    "preds = fit.predict(1, 300, typ='levels')\n",
    "print(preds)"
   ]
  }
 ],
 "metadata": {
  "kernelspec": {
   "display_name": "Python 3",
   "language": "python",
   "name": "python3"
  },
  "language_info": {
   "codemirror_mode": {
    "name": "ipython",
    "version": 3
   },
   "file_extension": ".py",
   "mimetype": "text/x-python",
   "name": "python",
   "nbconvert_exporter": "python",
   "pygments_lexer": "ipython3",
   "version": "3.7.6"
  },
  "toc": {
   "base_numbering": 1,
   "nav_menu": {},
   "number_sections": true,
   "sideBar": true,
   "skip_h1_title": false,
   "title_cell": "Table of Contents",
   "title_sidebar": "Contents",
   "toc_cell": false,
   "toc_position": {},
   "toc_section_display": true,
   "toc_window_display": false
  },
  "varInspector": {
   "cols": {
    "lenName": 16,
    "lenType": 16,
    "lenVar": 40
   },
   "kernels_config": {
    "python": {
     "delete_cmd_postfix": "",
     "delete_cmd_prefix": "del ",
     "library": "var_list.py",
     "varRefreshCmd": "print(var_dic_list())"
    },
    "r": {
     "delete_cmd_postfix": ") ",
     "delete_cmd_prefix": "rm(",
     "library": "var_list.r",
     "varRefreshCmd": "cat(var_dic_list()) "
    }
   },
   "types_to_exclude": [
    "module",
    "function",
    "builtin_function_or_method",
    "instance",
    "_Feature"
   ],
   "window_display": false
  }
 },
 "nbformat": 4,
 "nbformat_minor": 4
}
